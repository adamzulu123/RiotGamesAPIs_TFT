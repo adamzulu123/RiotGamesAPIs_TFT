{
 "cells": [
  {
   "cell_type": "code",
   "execution_count": 26,
   "id": "f5b7365e",
   "metadata": {},
   "outputs": [
    {
     "data": {
      "text/html": [
       "<div>\n",
       "<style scoped>\n",
       "    .dataframe tbody tr th:only-of-type {\n",
       "        vertical-align: middle;\n",
       "    }\n",
       "\n",
       "    .dataframe tbody tr th {\n",
       "        vertical-align: top;\n",
       "    }\n",
       "\n",
       "    .dataframe thead th {\n",
       "        text-align: right;\n",
       "    }\n",
       "</style>\n",
       "<table border=\"1\" class=\"dataframe\">\n",
       "  <thead>\n",
       "    <tr style=\"text-align: right;\">\n",
       "      <th></th>\n",
       "      <th>puuid</th>\n",
       "      <th>match_id</th>\n",
       "      <th>placement</th>\n",
       "      <th>level</th>\n",
       "      <th>gold_left</th>\n",
       "      <th>last_round</th>\n",
       "      <th>players_eliminated</th>\n",
       "      <th>time_eliminated</th>\n",
       "      <th>total_damage</th>\n",
       "      <th>companion_id</th>\n",
       "      <th>tier</th>\n",
       "      <th>division</th>\n",
       "      <th>leaguepoints</th>\n",
       "      <th>wins</th>\n",
       "      <th>losses</th>\n",
       "    </tr>\n",
       "  </thead>\n",
       "  <tbody>\n",
       "    <tr>\n",
       "      <th>0</th>\n",
       "      <td>teSxaW593i5isCS3TUX-dWR3JbmVaFZ0mc5bqkK1j-TtVn...</td>\n",
       "      <td>EUN1_3778549380</td>\n",
       "      <td>3</td>\n",
       "      <td>9</td>\n",
       "      <td>1</td>\n",
       "      <td>38</td>\n",
       "      <td>0</td>\n",
       "      <td>2177.756592</td>\n",
       "      <td>157</td>\n",
       "      <td>d401983f-04c9-4809-a1f4-d995a9ab6091</td>\n",
       "      <td>BRONZE</td>\n",
       "      <td>III</td>\n",
       "      <td>93</td>\n",
       "      <td>3</td>\n",
       "      <td>2</td>\n",
       "    </tr>\n",
       "    <tr>\n",
       "      <th>1</th>\n",
       "      <td>Ud8sd5s8jE_5bpv4rpb0-BRvayXhHJXKbi0eB1jue8iJxO...</td>\n",
       "      <td>EUN1_3778549380</td>\n",
       "      <td>5</td>\n",
       "      <td>8</td>\n",
       "      <td>30</td>\n",
       "      <td>33</td>\n",
       "      <td>0</td>\n",
       "      <td>1909.064697</td>\n",
       "      <td>68</td>\n",
       "      <td>05e285f5-7d09-4126-9643-da31b1bd2193</td>\n",
       "      <td>BRONZE</td>\n",
       "      <td>II</td>\n",
       "      <td>84</td>\n",
       "      <td>8</td>\n",
       "      <td>15</td>\n",
       "    </tr>\n",
       "    <tr>\n",
       "      <th>2</th>\n",
       "      <td>DdLDFxWyhuQTyuZMhQJaL4ZWS5ymGEa0BTgIvXXYS9u53x...</td>\n",
       "      <td>EUN1_3778549380</td>\n",
       "      <td>2</td>\n",
       "      <td>9</td>\n",
       "      <td>1</td>\n",
       "      <td>40</td>\n",
       "      <td>2</td>\n",
       "      <td>2270.521240</td>\n",
       "      <td>184</td>\n",
       "      <td>96c29152-c710-4f05-85c0-32eb73bef7c0</td>\n",
       "      <td>GOLD</td>\n",
       "      <td>IV</td>\n",
       "      <td>76</td>\n",
       "      <td>30</td>\n",
       "      <td>33</td>\n",
       "    </tr>\n",
       "    <tr>\n",
       "      <th>3</th>\n",
       "      <td>r6sJI0-vHg3NbXZ5rv92BM342jeKGm2oFpIzNQUAneQkic...</td>\n",
       "      <td>EUN1_3778549380</td>\n",
       "      <td>6</td>\n",
       "      <td>7</td>\n",
       "      <td>3</td>\n",
       "      <td>28</td>\n",
       "      <td>0</td>\n",
       "      <td>1647.791016</td>\n",
       "      <td>65</td>\n",
       "      <td>f152e2a3-6751-42e5-a911-ef029d5a8bff</td>\n",
       "      <td>SILVER</td>\n",
       "      <td>III</td>\n",
       "      <td>86</td>\n",
       "      <td>20</td>\n",
       "      <td>29</td>\n",
       "    </tr>\n",
       "    <tr>\n",
       "      <th>4</th>\n",
       "      <td>x0Ze-ORBYyEFKumY3rTDvSORTwnZTM9xnXUECY3Thm3hWV...</td>\n",
       "      <td>EUN1_3778549380</td>\n",
       "      <td>1</td>\n",
       "      <td>10</td>\n",
       "      <td>4</td>\n",
       "      <td>40</td>\n",
       "      <td>3</td>\n",
       "      <td>2270.521240</td>\n",
       "      <td>187</td>\n",
       "      <td>27f5bf5a-7183-4efa-b065-86ff9b8c0fb1</td>\n",
       "      <td>PLATINUM</td>\n",
       "      <td>II</td>\n",
       "      <td>57</td>\n",
       "      <td>33</td>\n",
       "      <td>19</td>\n",
       "    </tr>\n",
       "  </tbody>\n",
       "</table>\n",
       "</div>"
      ],
      "text/plain": [
       "                                               puuid         match_id  \\\n",
       "0  teSxaW593i5isCS3TUX-dWR3JbmVaFZ0mc5bqkK1j-TtVn...  EUN1_3778549380   \n",
       "1  Ud8sd5s8jE_5bpv4rpb0-BRvayXhHJXKbi0eB1jue8iJxO...  EUN1_3778549380   \n",
       "2  DdLDFxWyhuQTyuZMhQJaL4ZWS5ymGEa0BTgIvXXYS9u53x...  EUN1_3778549380   \n",
       "3  r6sJI0-vHg3NbXZ5rv92BM342jeKGm2oFpIzNQUAneQkic...  EUN1_3778549380   \n",
       "4  x0Ze-ORBYyEFKumY3rTDvSORTwnZTM9xnXUECY3Thm3hWV...  EUN1_3778549380   \n",
       "\n",
       "   placement  level  gold_left  last_round  players_eliminated  \\\n",
       "0          3      9          1          38                   0   \n",
       "1          5      8         30          33                   0   \n",
       "2          2      9          1          40                   2   \n",
       "3          6      7          3          28                   0   \n",
       "4          1     10          4          40                   3   \n",
       "\n",
       "   time_eliminated  total_damage                          companion_id  \\\n",
       "0      2177.756592           157  d401983f-04c9-4809-a1f4-d995a9ab6091   \n",
       "1      1909.064697            68  05e285f5-7d09-4126-9643-da31b1bd2193   \n",
       "2      2270.521240           184  96c29152-c710-4f05-85c0-32eb73bef7c0   \n",
       "3      1647.791016            65  f152e2a3-6751-42e5-a911-ef029d5a8bff   \n",
       "4      2270.521240           187  27f5bf5a-7183-4efa-b065-86ff9b8c0fb1   \n",
       "\n",
       "       tier division  leaguepoints  wins  losses  \n",
       "0    BRONZE      III            93     3       2  \n",
       "1    BRONZE       II            84     8      15  \n",
       "2      GOLD       IV            76    30      33  \n",
       "3    SILVER      III            86    20      29  \n",
       "4  PLATINUM       II            57    33      19  "
      ]
     },
     "execution_count": 26,
     "metadata": {},
     "output_type": "execute_result"
    }
   ],
   "source": [
    "import sys\n",
    "import os\n",
    "import plotly.graph_objects as go\n",
    "import pandas as pd\n",
    "import seaborn as sns\n",
    "import matplotlib.pyplot as plt\n",
    "from sklearn.preprocessing import MinMaxScaler\n",
    "import numpy as np\n",
    "sys.path.append(os.path.abspath(\"..\"))\n",
    "\n",
    "from Data.DatabaseConnection import DatabaseConnection\n",
    "dotenv_path = os.path.abspath(\"../.env\")  \n",
    "db = DatabaseConnection(dotenv_path)\n",
    "players = db.get_all_players()\n",
    "df = pd.DataFrame(players, columns=['puuid','match_id', 'placement', 'level', 'gold_left', 'last_round', 'players_eliminated', 'time_eliminated', 'total_damage', 'companion_id', 'tier', 'division', 'leaguepoints', 'wins', 'losses'])\n",
    "df.head()"
   ]
  },
  {
   "cell_type": "code",
   "execution_count": 27,
   "id": "5271b67d",
   "metadata": {},
   "outputs": [
    {
     "data": {
      "image/png": "[encoded data removed]",
      "text/plain": [
       "<Figure size 1008x720 with 2 Axes>"
      ]
     },
     "metadata": {
      "needs_background": "light"
     },
     "output_type": "display_data"
    }
   ],
   "source": [
    "corr_data = df[['placement', 'level', 'gold_left', 'players_eliminated', 'total_damage', 'wins', 'losses']].dropna()\n",
    "\n",
    "corr_matrix = corr_data.corr(numeric_only=True)\n",
    "\n",
    "plt.figure(figsize=(14, 10))\n",
    "sns.heatmap(corr_matrix, annot=True, cmap='coolwarm', center=0, fmt=\".2f\", linewidths=0.5)\n",
    "plt.title('Mapa korelacji placementu z innymi zmiennymi', fontsize=16)\n",
    "plt.tight_layout()\n",
    "plt.show()\n"
   ]
  },
  {
   "cell_type": "code",
   "execution_count": 28,
   "id": "046dbe5a",
   "metadata": {},
   "outputs": [
    {
     "name": "stderr",
     "output_type": "stream",
     "text": [
      "/tmp/ipykernel_13808/3247139241.py:6: FutureWarning:\n",
      "\n",
      "The default of observed=False is deprecated and will be changed to True in a future version of pandas. Pass observed=False to retain current behavior or observed=True to adopt the future default and silence this warning.\n",
      "\n"
     ]
    },
    {
     "data": {
      "image/png": "[encoded data removed]",
      "text/plain": [
       "<Figure size 1008x1296 with 3 Axes>"
      ]
     },
     "metadata": {
      "needs_background": "light"
     },
     "output_type": "display_data"
    }
   ],
   "source": [
    "style_data = df[['tier', 'level', 'total_damage', 'gold_left']].dropna()\n",
    "\n",
    "tier_order = ['IRON', 'BRONZE', 'SILVER', 'GOLD', 'PLATINUM', 'EMERALD', 'DIAMOND', 'MASTER', 'GRANDMASTER']\n",
    "style_data['tier'] = pd.Categorical(style_data['tier'], categories=tier_order, ordered=True)\n",
    "\n",
    "tier_grouped = style_data.groupby('tier').mean(numeric_only=True).reset_index()\n",
    "\n",
    "plt.figure(figsize=(14, 18))\n",
    "\n",
    "plt.subplot(3, 1, 1)\n",
    "sns.barplot(data=tier_grouped, x='tier', y='level', order=tier_order)\n",
    "plt.title(\"Średni level gracza wg tieru\", fontsize=16)\n",
    "plt.xlabel(\"Tier\", fontsize=12)\n",
    "plt.ylabel(\"Level\", fontsize=12)\n",
    "plt.xticks(rotation=45)\n",
    "plt.grid(axis='y', linestyle='--', alpha=0.3)\n",
    "\n",
    "plt.subplot(3, 1, 2)\n",
    "sns.barplot(data=tier_grouped, x='tier', y='total_damage', order=tier_order)\n",
    "plt.title(\"Średnie obrażenia (total_damage) wg tieru\", fontsize=16)\n",
    "plt.xlabel(\"Tier\", fontsize=12)\n",
    "plt.ylabel(\"Total Damage\", fontsize=12)\n",
    "plt.xticks(rotation=45)\n",
    "plt.grid(axis='y', linestyle='--', alpha=0.3)\n",
    "\n",
    "plt.subplot(3, 1, 3)\n",
    "sns.barplot(data=tier_grouped, x='tier', y='gold_left', order=tier_order)\n",
    "plt.title(\"Średnie gold_left wg tieru\", fontsize=16)\n",
    "plt.xlabel(\"Tier\", fontsize=12)\n",
    "plt.ylabel(\"Gold Left\", fontsize=12)\n",
    "plt.xticks(rotation=45)\n",
    "plt.grid(axis='y', linestyle='--', alpha=0.3)\n",
    "\n",
    "plt.tight_layout()\n",
    "plt.show()\n",
    "\n",
    "\n"
   ]
  },
  {
   "cell_type": "code",
   "execution_count": 29,
   "id": "fb18daa6",
   "metadata": {},
   "outputs": [
    {
     "data": {
      "application/vnd.plotly.v1+json": {
       "config": {
        "plotlyServerURL": "https://plot.ly"
       },
       "data": [
        {
         "delta": {
          "decreasing": {
           "color": "red"
          },
          "increasing": {
           "color": "green"
          },
          "reference": 50
         },
         "domain": {
          "column": 0,
          "row": 0
         },
         "gauge": {
          "axis": {
           "range": [
            0,
            100
           ]
          },
          "bar": {
           "color": "darkblue"
          },
          "steps": [
           {
            "color": "#f99",
            "range": [
             0,
             50
            ]
           },
           {
            "color": "#9f9",
            "range": [
             50,
             100
            ]
           }
          ]
         },
         "mode": "gauge+number+delta",
         "title": {
          "text": "GRANDMASTER"
         },
         "type": "indicator",
         "value": 56.55339805825243
        },
        {
         "delta": {
          "decreasing": {
           "color": "red"
          },
          "increasing": {
           "color": "green"
          },
          "reference": 50
         },
         "domain": {
          "column": 1,
          "row": 0
         },
         "gauge": {
          "axis": {
           "range": [
            0,
            100
           ]
          },
          "bar": {
           "color": "darkblue"
          },
          "steps": [
           {
            "color": "#f99",
            "range": [
             0,
             50
            ]
           },
           {
            "color": "#9f9",
            "range": [
             50,
             100
            ]
           }
          ]
         },
         "mode": "gauge+number+delta",
         "title": {
          "text": "MASTER"
         },
         "type": "indicator",
         "value": 52.8505291005291
        },
        {
         "delta": {
          "decreasing": {
           "color": "red"
          },
          "increasing": {
           "color": "green"
          },
          "reference": 50
         },
         "domain": {
          "column": 2,
          "row": 0
         },
         "gauge": {
          "axis": {
           "range": [
            0,
            100
           ]
          },
          "bar": {
           "color": "darkblue"
          },
          "steps": [
           {
            "color": "#f99",
            "range": [
             0,
             50
            ]
           },
           {
            "color": "#9f9",
            "range": [
             50,
             100
            ]
           }
          ]
         },
         "mode": "gauge+number+delta",
         "title": {
          "text": "EMERALD"
         },
         "type": "indicator",
         "value": 52.62738059627081
        },
        {
         "delta": {
          "decreasing": {
           "color": "red"
          },
          "increasing": {
           "color": "green"
          },
          "reference": 50
         },
         "domain": {
          "column": 0,
          "row": 1
         },
         "gauge": {
          "axis": {
           "range": [
            0,
            100
           ]
          },
          "bar": {
           "color": "darkblue"
          },
          "steps": [
           {
            "color": "#f99",
            "range": [
             0,
             50
            ]
           },
           {
            "color": "#9f9",
            "range": [
             50,
             100
            ]
           }
          ]
         },
         "mode": "gauge+number+delta",
         "title": {
          "text": "DIAMOND"
         },
         "type": "indicator",
         "value": 52.60170910435104
        },
        {
         "delta": {
          "decreasing": {
           "color": "red"
          },
          "increasing": {
           "color": "green"
          },
          "reference": 50
         },
         "domain": {
          "column": 1,
          "row": 1
         },
         "gauge": {
          "axis": {
           "range": [
            0,
            100
           ]
          },
          "bar": {
           "color": "darkblue"
          },
          "steps": [
           {
            "color": "#f99",
            "range": [
             0,
             50
            ]
           },
           {
            "color": "#9f9",
            "range": [
             50,
             100
            ]
           }
          ]
         },
         "mode": "gauge+number+delta",
         "title": {
          "text": "PLATINUM"
         },
         "type": "indicator",
         "value": 51.2442022467947
        },
        {
         "delta": {
          "decreasing": {
           "color": "red"
          },
          "increasing": {
           "color": "green"
          },
          "reference": 50
         },
         "domain": {
          "column": 2,
          "row": 1
         },
         "gauge": {
          "axis": {
           "range": [
            0,
            100
           ]
          },
          "bar": {
           "color": "darkblue"
          },
          "steps": [
           {
            "color": "#f99",
            "range": [
             0,
             50
            ]
           },
           {
            "color": "#9f9",
            "range": [
             50,
             100
            ]
           }
          ]
         },
         "mode": "gauge+number+delta",
         "title": {
          "text": "GOLD"
         },
         "type": "indicator",
         "value": 50.943755439512614
        },
        {
         "delta": {
          "decreasing": {
           "color": "red"
          },
          "increasing": {
           "color": "green"
          },
          "reference": 50
         },
         "domain": {
          "column": 0,
          "row": 2
         },
         "gauge": {
          "axis": {
           "range": [
            0,
            100
           ]
          },
          "bar": {
           "color": "darkblue"
          },
          "steps": [
           {
            "color": "#f99",
            "range": [
             0,
             50
            ]
           },
           {
            "color": "#9f9",
            "range": [
             50,
             100
            ]
           }
          ]
         },
         "mode": "gauge+number+delta",
         "title": {
          "text": "SILVER"
         },
         "type": "indicator",
         "value": 48.59951902673645
        },
        {
         "delta": {
          "decreasing": {
           "color": "red"
          },
          "increasing": {
           "color": "green"
          },
          "reference": 50
         },
         "domain": {
          "column": 1,
          "row": 2
         },
         "gauge": {
          "axis": {
           "range": [
            0,
            100
           ]
          },
          "bar": {
           "color": "darkblue"
          },
          "steps": [
           {
            "color": "#f99",
            "range": [
             0,
             50
            ]
           },
           {
            "color": "#9f9",
            "range": [
             50,
             100
            ]
           }
          ]
         },
         "mode": "gauge+number+delta",
         "title": {
          "text": "BRONZE"
         },
         "type": "indicator",
         "value": 39.232111692844676
        },
        {
         "delta": {
          "decreasing": {
           "color": "red"
          },
          "increasing": {
           "color": "green"
          },
          "reference": 50
         },
         "domain": {
          "column": 2,
          "row": 2
         },
         "gauge": {
          "axis": {
           "range": [
            0,
            100
           ]
          },
          "bar": {
           "color": "darkblue"
          },
          "steps": [
           {
            "color": "#f99",
            "range": [
             0,
             50
            ]
           },
           {
            "color": "#9f9",
            "range": [
             50,
             100
            ]
           }
          ]
         },
         "mode": "gauge+number+delta",
         "title": {
          "text": "IRON"
         },
         "type": "indicator",
         "value": 11.596958174904943
        }
       ],
       "layout": {
        "grid": {
         "columns": 3,
         "pattern": "independent",
         "rows": 3
        },
        "height": 1000,
        "template": {
         "data": {
          "bar": [
           {
            "error_x": {
             "color": "#2a3f5f"
            },
            "error_y": {
             "color": "#2a3f5f"
            },
            "marker": {
             "line": {
              "color": "#E5ECF6",
              "width": 0.5
             },
             "pattern": {
              "fillmode": "overlay",
              "size": 10,
              "solidity": 0.2
             }
            },
            "type": "bar"
           }
          ],
          "barpolar": [
           {
            "marker": {
             "line": {
              "color": "#E5ECF6",
              "width": 0.5
             },
             "pattern": {
              "fillmode": "overlay",
              "size": 10,
              "solidity": 0.2
             }
            },
            "type": "barpolar"
           }
          ],
          "carpet": [
           {
            "aaxis": {
             "endlinecolor": "#2a3f5f",
             "gridcolor": "white",
             "linecolor": "white",
             "minorgridcolor": "white",
             "startlinecolor": "#2a3f5f"
            },
            "baxis": {
             "endlinecolor": "#2a3f5f",
             "gridcolor": "white",
             "linecolor": "white",
             "minorgridcolor": "white",
             "startlinecolor": "#2a3f5f"
            },
            "type": "carpet"
           }
          ],
          "choropleth": [
           {
            "colorbar": {
             "outlinewidth": 0,
             "ticks": ""
            },
            "type": "choropleth"
           }
          ],
          "contour": [
           {
            "colorbar": {
             "outlinewidth": 0,
             "ticks": ""
            },
            "colorscale": [
             [
              0,
              "#0d0887"
             ],
             [
              0.1111111111111111,
              "#46039f"
             ],
             [
              0.2222222222222222,
              "#7201a8"
             ],
             [
              0.3333333333333333,
              "#9c179e"
             ],
             [
              0.4444444444444444,
              "#bd3786"
             ],
             [
              0.5555555555555556,
              "#d8576b"
             ],
             [
              0.6666666666666666,
              "#ed7953"
             ],
             [
              0.7777777777777778,
              "#fb9f3a"
             ],
             [
              0.8888888888888888,
              "#fdca26"
             ],
             [
              1,
              "#f0f921"
             ]
            ],
            "type": "contour"
           }
          ],
          "contourcarpet": [
           {
            "colorbar": {
             "outlinewidth": 0,
             "ticks": ""
            },
            "type": "contourcarpet"
           }
          ],
          "heatmap": [
           {
            "colorbar": {
             "outlinewidth": 0,
             "ticks": ""
            },
            "colorscale": [
             [
              0,
              "#0d0887"
             ],
             [
              0.1111111111111111,
              "#46039f"
             ],
             [
              0.2222222222222222,
              "#7201a8"
             ],
             [
              0.3333333333333333,
              "#9c179e"
             ],
             [
              0.4444444444444444,
              "#bd3786"
             ],
             [
              0.5555555555555556,
              "#d8576b"
             ],
             [
              0.6666666666666666,
              "#ed7953"
             ],
             [
              0.7777777777777778,
              "#fb9f3a"
             ],
             [
              0.8888888888888888,
              "#fdca26"
             ],
             [
              1,
              "#f0f921"
             ]
            ],
            "type": "heatmap"
           }
          ],
          "histogram": [
           {
            "marker": {
             "pattern": {
              "fillmode": "overlay",
              "size": 10,
              "solidity": 0.2
             }
            },
            "type": "histogram"
           }
          ],
          "histogram2d": [
           {
            "colorbar": {
             "outlinewidth": 0,
             "ticks": ""
            },
            "colorscale": [
             [
              0,
              "#0d0887"
             ],
             [
              0.1111111111111111,
              "#46039f"
             ],
             [
              0.2222222222222222,
              "#7201a8"
             ],
             [
              0.3333333333333333,
              "#9c179e"
             ],
             [
              0.4444444444444444,
              "#bd3786"
             ],
             [
              0.5555555555555556,
              "#d8576b"
             ],
             [
              0.6666666666666666,
              "#ed7953"
             ],
             [
              0.7777777777777778,
              "#fb9f3a"
             ],
             [
              0.8888888888888888,
              "#fdca26"
             ],
             [
              1,
              "#f0f921"
             ]
            ],
            "type": "histogram2d"
           }
          ],
          "histogram2dcontour": [
           {
            "colorbar": {
             "outlinewidth": 0,
             "ticks": ""
            },
            "colorscale": [
             [
              0,
              "#0d0887"
             ],
             [
              0.1111111111111111,
              "#46039f"
             ],
             [
              0.2222222222222222,
              "#7201a8"
             ],
             [
              0.3333333333333333,
              "#9c179e"
             ],
             [
              0.4444444444444444,
              "#bd3786"
             ],
             [
              0.5555555555555556,
              "#d8576b"
             ],
             [
              0.6666666666666666,
              "#ed7953"
             ],
             [
              0.7777777777777778,
              "#fb9f3a"
             ],
             [
              0.8888888888888888,
              "#fdca26"
             ],
             [
              1,
              "#f0f921"
             ]
            ],
            "type": "histogram2dcontour"
           }
          ],
          "mesh3d": [
           {
            "colorbar": {
             "outlinewidth": 0,
             "ticks": ""
            },
            "type": "mesh3d"
           }
          ],
          "parcoords": [
           {
            "line": {
             "colorbar": {
              "outlinewidth": 0,
              "ticks": ""
             }
            },
            "type": "parcoords"
           }
          ],
          "pie": [
           {
            "automargin": true,
            "type": "pie"
           }
          ],
          "scatter": [
           {
            "fillpattern": {
             "fillmode": "overlay",
             "size": 10,
             "solidity": 0.2
            },
            "type": "scatter"
           }
          ],
          "scatter3d": [
           {
            "line": {
             "colorbar": {
              "outlinewidth": 0,
              "ticks": ""
             }
            },
            "marker": {
             "colorbar": {
              "outlinewidth": 0,
              "ticks": ""
             }
            },
            "type": "scatter3d"
           }
          ],
          "scattercarpet": [
           {
            "marker": {
             "colorbar": {
              "outlinewidth": 0,
              "ticks": ""
             }
            },
            "type": "scattercarpet"
           }
          ],
          "scattergeo": [
           {
            "marker": {
             "colorbar": {
              "outlinewidth": 0,
              "ticks": ""
             }
            },
            "type": "scattergeo"
           }
          ],
          "scattergl": [
           {
            "marker": {
             "colorbar": {
              "outlinewidth": 0,
              "ticks": ""
             }
            },
            "type": "scattergl"
           }
          ],
          "scattermap": [
           {
            "marker": {
             "colorbar": {
              "outlinewidth": 0,
              "ticks": ""
             }
            },
            "type": "scattermap"
           }
          ],
          "scattermapbox": [
           {
            "marker": {
             "colorbar": {
              "outlinewidth": 0,
              "ticks": ""
             }
            },
            "type": "scattermapbox"
           }
          ],
          "scatterpolar": [
           {
            "marker": {
             "colorbar": {
              "outlinewidth": 0,
              "ticks": ""
             }
            },
            "type": "scatterpolar"
           }
          ],
          "scatterpolargl": [
           {
            "marker": {
             "colorbar": {
              "outlinewidth": 0,
              "ticks": ""
             }
            },
            "type": "scatterpolargl"
           }
          ],
          "scatterternary": [
           {
            "marker": {
             "colorbar": {
              "outlinewidth": 0,
              "ticks": ""
             }
            },
            "type": "scatterternary"
           }
          ],
          "surface": [
           {
            "colorbar": {
             "outlinewidth": 0,
             "ticks": ""
            },
            "colorscale": [
             [
              0,
              "#0d0887"
             ],
             [
              0.1111111111111111,
              "#46039f"
             ],
             [
              0.2222222222222222,
              "#7201a8"
             ],
             [
              0.3333333333333333,
              "#9c179e"
             ],
             [
              0.4444444444444444,
              "#bd3786"
             ],
             [
              0.5555555555555556,
              "#d8576b"
             ],
             [
              0.6666666666666666,
              "#ed7953"
             ],
             [
              0.7777777777777778,
              "#fb9f3a"
             ],
             [
              0.8888888888888888,
              "#fdca26"
             ],
             [
              1,
              "#f0f921"
             ]
            ],
            "type": "surface"
           }
          ],
          "table": [
           {
            "cells": {
             "fill": {
              "color": "#EBF0F8"
             },
             "line": {
              "color": "white"
             }
            },
            "header": {
             "fill": {
              "color": "#C8D4E3"
             },
             "line": {
              "color": "white"
             }
            },
            "type": "table"
           }
          ]
         },
         "layout": {
          "annotationdefaults": {
           "arrowcolor": "#2a3f5f",
           "arrowhead": 0,
           "arrowwidth": 1
          },
          "autotypenumbers": "strict",
          "coloraxis": {
           "colorbar": {
            "outlinewidth": 0,
            "ticks": ""
           }
          },
          "colorscale": {
           "diverging": [
            [
             0,
             "#8e0152"
            ],
            [
             0.1,
             "#c51b7d"
            ],
            [
             0.2,
             "#de77ae"
            ],
            [
             0.3,
             "#f1b6da"
            ],
            [
             0.4,
             "#fde0ef"
            ],
            [
             0.5,
             "#f7f7f7"
            ],
            [
             0.6,
             "#e6f5d0"
            ],
            [
             0.7,
             "#b8e186"
            ],
            [
             0.8,
             "#7fbc41"
            ],
            [
             0.9,
             "#4d9221"
            ],
            [
             1,
             "#276419"
            ]
           ],
           "sequential": [
            [
             0,
             "#0d0887"
            ],
            [
             0.1111111111111111,
             "#46039f"
            ],
            [
             0.2222222222222222,
             "#7201a8"
            ],
            [
             0.3333333333333333,
             "#9c179e"
            ],
            [
             0.4444444444444444,
             "#bd3786"
            ],
            [
             0.5555555555555556,
             "#d8576b"
            ],
            [
             0.6666666666666666,
             "#ed7953"
            ],
            [
             0.7777777777777778,
             "#fb9f3a"
            ],
            [
             0.8888888888888888,
             "#fdca26"
            ],
            [
             1,
             "#f0f921"
            ]
           ],
           "sequentialminus": [
            [
             0,
             "#0d0887"
            ],
            [
             0.1111111111111111,
             "#46039f"
            ],
            [
             0.2222222222222222,
             "#7201a8"
            ],
            [
             0.3333333333333333,
             "#9c179e"
            ],
            [
             0.4444444444444444,
             "#bd3786"
            ],
            [
             0.5555555555555556,
             "#d8576b"
            ],
            [
             0.6666666666666666,
             "#ed7953"
            ],
            [
             0.7777777777777778,
             "#fb9f3a"
            ],
            [
             0.8888888888888888,
             "#fdca26"
            ],
            [
             1,
             "#f0f921"
            ]
           ]
          },
          "colorway": [
           "#636efa",
           "#EF553B",
           "#00cc96",
           "#ab63fa",
           "#FFA15A",
           "#19d3f3",
           "#FF6692",
           "#B6E880",
           "#FF97FF",
           "#FECB52"
          ],
          "font": {
           "color": "#2a3f5f"
          },
          "geo": {
           "bgcolor": "white",
           "lakecolor": "white",
           "landcolor": "#E5ECF6",
           "showlakes": true,
           "showland": true,
           "subunitcolor": "white"
          },
          "hoverlabel": {
           "align": "left"
          },
          "hovermode": "closest",
          "mapbox": {
           "style": "light"
          },
          "paper_bgcolor": "white",
          "plot_bgcolor": "#E5ECF6",
          "polar": {
           "angularaxis": {
            "gridcolor": "white",
            "linecolor": "white",
            "ticks": ""
           },
           "bgcolor": "#E5ECF6",
           "radialaxis": {
            "gridcolor": "white",
            "linecolor": "white",
            "ticks": ""
           }
          },
          "scene": {
           "xaxis": {
            "backgroundcolor": "#E5ECF6",
            "gridcolor": "white",
            "gridwidth": 2,
            "linecolor": "white",
            "showbackground": true,
            "ticks": "",
            "zerolinecolor": "white"
           },
           "yaxis": {
            "backgroundcolor": "#E5ECF6",
            "gridcolor": "white",
            "gridwidth": 2,
            "linecolor": "white",
            "showbackground": true,
            "ticks": "",
            "zerolinecolor": "white"
           },
           "zaxis": {
            "backgroundcolor": "#E5ECF6",
            "gridcolor": "white",
            "gridwidth": 2,
            "linecolor": "white",
            "showbackground": true,
            "ticks": "",
            "zerolinecolor": "white"
           }
          },
          "shapedefaults": {
           "line": {
            "color": "#2a3f5f"
           }
          },
          "ternary": {
           "aaxis": {
            "gridcolor": "white",
            "linecolor": "white",
            "ticks": ""
           },
           "baxis": {
            "gridcolor": "white",
            "linecolor": "white",
            "ticks": ""
           },
           "bgcolor": "#E5ECF6",
           "caxis": {
            "gridcolor": "white",
            "linecolor": "white",
            "ticks": ""
           }
          },
          "title": {
           "x": 0.05
          },
          "xaxis": {
           "automargin": true,
           "gridcolor": "white",
           "linecolor": "white",
           "ticks": "",
           "title": {
            "standoff": 15
           },
           "zerolinecolor": "white",
           "zerolinewidth": 2
          },
          "yaxis": {
           "automargin": true,
           "gridcolor": "white",
           "linecolor": "white",
           "ticks": "",
           "title": {
            "standoff": 15
           },
           "zerolinecolor": "white",
           "zerolinewidth": 2
          }
         }
        },
        "title": {
         "text": "Winrate graczy według tieru (Gauge Style)"
        }
       }
      }
     },
     "metadata": {},
     "output_type": "display_data"
    }
   ],
   "source": [
    "win_stats = df.groupby('tier')[['wins', 'losses']].sum().reset_index()\n",
    "\n",
    "win_stats = win_stats[win_stats['tier'].str.upper() != 'UNRANKED']\n",
    "\n",
    "win_stats['winrate'] = win_stats['wins'] / (win_stats['wins'] + win_stats['losses'])\n",
    "win_stats = win_stats.sort_values('winrate', ascending=False)\n",
    "\n",
    "fig = go.Figure()\n",
    "\n",
    "for i, row in enumerate(win_stats.itertuples()):\n",
    "    fig.add_trace(go.Indicator(\n",
    "        mode=\"gauge+number+delta\",\n",
    "        value=row.winrate * 100,\n",
    "        delta={'reference': 50, 'increasing': {'color': \"green\"}, 'decreasing': {'color': \"red\"}},\n",
    "        gauge={\n",
    "            'axis': {'range': [0, 100]},\n",
    "            'bar': {'color': 'darkblue'},\n",
    "            'steps': [\n",
    "                {'range': [0, 50], 'color': \"#f99\"},\n",
    "                {'range': [50, 100], 'color': \"#9f9\"}\n",
    "            ]\n",
    "        },\n",
    "        title={'text': f\"{row.tier}\"},\n",
    "        domain={'row': i // 3, 'column': i % 3}\n",
    "    ))\n",
    "\n",
    "fig.update_layout(\n",
    "    grid={'rows': (len(win_stats) + 2) // 3, 'columns': 3, 'pattern': \"independent\"},\n",
    "    title=\"Winrate graczy według tieru (Gauge Style)\",\n",
    "    height=400 + 200 * ((len(win_stats) + 2) // 3)\n",
    ")\n",
    "\n",
    "fig.show()\n"
   ]
  },
  {
   "cell_type": "code",
   "execution_count": 30,
   "id": "3509ba82",
   "metadata": {},
   "outputs": [
    {
     "data": {
      "image/png": "[encoded data removed]",
      "text/plain": [
       "<Figure size 576x576 with 1 Axes>"
      ]
     },
     "metadata": {
      "needs_background": "light"
     },
     "output_type": "display_data"
    }
   ],
   "source": [
    "from sklearn.preprocessing import MinMaxScaler\n",
    "\n",
    "radar_features = ['level', 'gold_left', 'total_damage', 'players_eliminated', 'wins']\n",
    "tier_1 = 'IRON'\n",
    "tier_2 = 'MASTER'\n",
    "\n",
    "group1 = df[df['tier'].str.upper() == tier_1][radar_features]\n",
    "group2 = df[df['tier'].str.upper() == tier_2][radar_features]\n",
    "\n",
    "group1['tier'] = tier_1\n",
    "group2['tier'] = tier_2\n",
    "\n",
    "combined = pd.concat([group1, group2])\n",
    "scaler = MinMaxScaler()\n",
    "scaled = scaler.fit_transform(combined[radar_features])\n",
    "scaled_df = pd.DataFrame(scaled, columns=radar_features)\n",
    "scaled_df['tier'] = combined['tier'].values\n",
    "\n",
    "mean_1 = scaled_df[scaled_df['tier'] == tier_1][radar_features].mean().values\n",
    "mean_2 = scaled_df[scaled_df['tier'] == tier_2][radar_features].mean().values\n",
    "\n",
    "categories = radar_features\n",
    "N = len(categories)\n",
    "angles = [n / float(N) * 2 * np.pi for n in range(N)] + [0]\n",
    "\n",
    "values_1 = np.append(mean_1, mean_1[0])\n",
    "values_2 = np.append(mean_2, mean_2[0])\n",
    "\n",
    "plt.figure(figsize=(8, 8))\n",
    "ax = plt.subplot(111, polar=True)\n",
    "plt.xticks(angles[:-1], categories, fontsize=12)\n",
    "\n",
    "ax.plot(angles, values_1, label=tier_1, linewidth=2)\n",
    "ax.fill(angles, values_1, alpha=0.3)\n",
    "\n",
    "ax.plot(angles, values_2, label=tier_2, linewidth=2)\n",
    "ax.fill(angles, values_2, alpha=0.3)\n",
    "\n",
    "plt.title(f\"Znormalizowany profil gracza: {tier_1} vs {tier_2}\", size=16, y=1.1)\n",
    "plt.legend(loc='upper right', bbox_to_anchor=(1.3, 1.1))\n",
    "plt.tight_layout()\n",
    "plt.show()\n"
   ]
  },
  {
   "cell_type": "code",
   "execution_count": null,
   "id": "1c5a71e2",
   "metadata": {},
   "outputs": [
    {
     "data": {
      "image/png": "[encoded data removed]",
      "text/plain": [
       "<Figure size 864x432 with 1 Axes>"
      ]
     },
     "metadata": {
      "needs_background": "light"
     },
     "output_type": "display_data"
    }
   ],
   "source": [
    "plt.figure(figsize=(12, 6))\n",
    "sns.boxplot(data=df, x='tier', y='total_damage')\n",
    "plt.title(\"Rozkład obrażeń w zależności od tieru\")\n",
    "plt.xlabel(\"Tier gracza\")\n",
    "plt.ylabel(\"Total damage\")\n",
    "plt.xticks(rotation=45)\n",
    "plt.tight_layout()\n",
    "plt.show()"
   ]
  }
 ],
 "metadata": {
  "kernelspec": {
   "display_name": "Python 3",
   "language": "python",
   "name": "python3"
  },
  "language_info": {
   "codemirror_mode": {
    "name": "ipython",
    "version": 3
   },
   "file_extension": ".py",
   "mimetype": "text/x-python",
   "name": "python",
   "nbconvert_exporter": "python",
   "pygments_lexer": "ipython3",
   "version": "3.10.12"
  }
 },
 "nbformat": 4,
 "nbformat_minor": 5
}
