{
 "cells": [
  {
   "cell_type": "code",
   "execution_count": 40,
   "id": "3f1d4494",
   "metadata": {},
   "outputs": [],
   "source": [
    "import os\n",
    "import sys\n",
    "import plotly.express as px\n",
    "import plotly.graph_objects as go\n",
    "import seaborn as sns\n",
    "import matplotlib.pyplot as plt\n",
    "import networkx as nx\n",
    "import numpy as np\n",
    "\n",
    "\n",
    "\n",
    "project_root = os.path.abspath(os.path.join(os.getcwd(), \"..\"))\n",
    "if project_root not in sys.path:\n",
    "    sys.path.append(project_root)\n",
    "from Data.DatabaseConnection import DatabaseConnection\n",
    "import pandas as pd\n",
    "dotenv_path = os.path.abspath(\"../.env\")  \n",
    "db = DatabaseConnection(dotenv_path)"
   ]
  },
  {
   "cell_type": "code",
   "execution_count": 41,
   "id": "8b276cbd",
   "metadata": {},
   "outputs": [
    {
     "data": {
      "text/html": [
       "<div>\n",
       "<style scoped>\n",
       "    .dataframe tbody tr th:only-of-type {\n",
       "        vertical-align: middle;\n",
       "    }\n",
       "\n",
       "    .dataframe tbody tr th {\n",
       "        vertical-align: top;\n",
       "    }\n",
       "\n",
       "    .dataframe thead th {\n",
       "        text-align: right;\n",
       "    }\n",
       "</style>\n",
       "<table border=\"1\" class=\"dataframe\">\n",
       "  <thead>\n",
       "    <tr style=\"text-align: right;\">\n",
       "      <th></th>\n",
       "      <th>id</th>\n",
       "      <th>match_id</th>\n",
       "      <th>puuid</th>\n",
       "      <th>trait_name</th>\n",
       "      <th>num_units</th>\n",
       "      <th>style</th>\n",
       "      <th>tier_current</th>\n",
       "      <th>tier_total</th>\n",
       "    </tr>\n",
       "  </thead>\n",
       "  <tbody>\n",
       "    <tr>\n",
       "      <th>0</th>\n",
       "      <td>1</td>\n",
       "      <td>EUN1_3778549380</td>\n",
       "      <td>teSxaW593i5isCS3TUX-dWR3JbmVaFZ0mc5bqkK1j-TtVn...</td>\n",
       "      <td>TFT14_Armorclad</td>\n",
       "      <td>3</td>\n",
       "      <td>1</td>\n",
       "      <td>1</td>\n",
       "      <td>3</td>\n",
       "    </tr>\n",
       "    <tr>\n",
       "      <th>1</th>\n",
       "      <td>2</td>\n",
       "      <td>EUN1_3778549380</td>\n",
       "      <td>teSxaW593i5isCS3TUX-dWR3JbmVaFZ0mc5bqkK1j-TtVn...</td>\n",
       "      <td>TFT14_Bruiser</td>\n",
       "      <td>1</td>\n",
       "      <td>0</td>\n",
       "      <td>0</td>\n",
       "      <td>3</td>\n",
       "    </tr>\n",
       "    <tr>\n",
       "      <th>2</th>\n",
       "      <td>3</td>\n",
       "      <td>EUN1_3778549380</td>\n",
       "      <td>teSxaW593i5isCS3TUX-dWR3JbmVaFZ0mc5bqkK1j-TtVn...</td>\n",
       "      <td>TFT14_Controller</td>\n",
       "      <td>2</td>\n",
       "      <td>1</td>\n",
       "      <td>1</td>\n",
       "      <td>4</td>\n",
       "    </tr>\n",
       "    <tr>\n",
       "      <th>3</th>\n",
       "      <td>4</td>\n",
       "      <td>EUN1_3778549380</td>\n",
       "      <td>teSxaW593i5isCS3TUX-dWR3JbmVaFZ0mc5bqkK1j-TtVn...</td>\n",
       "      <td>TFT14_Cyberboss</td>\n",
       "      <td>4</td>\n",
       "      <td>4</td>\n",
       "      <td>3</td>\n",
       "      <td>3</td>\n",
       "    </tr>\n",
       "    <tr>\n",
       "      <th>4</th>\n",
       "      <td>5</td>\n",
       "      <td>EUN1_3778549380</td>\n",
       "      <td>teSxaW593i5isCS3TUX-dWR3JbmVaFZ0mc5bqkK1j-TtVn...</td>\n",
       "      <td>TFT14_EdgeRunner</td>\n",
       "      <td>1</td>\n",
       "      <td>0</td>\n",
       "      <td>0</td>\n",
       "      <td>4</td>\n",
       "    </tr>\n",
       "  </tbody>\n",
       "</table>\n",
       "</div>"
      ],
      "text/plain": [
       "   id         match_id                                              puuid  \\\n",
       "0   1  EUN1_3778549380  teSxaW593i5isCS3TUX-dWR3JbmVaFZ0mc5bqkK1j-TtVn...   \n",
       "1   2  EUN1_3778549380  teSxaW593i5isCS3TUX-dWR3JbmVaFZ0mc5bqkK1j-TtVn...   \n",
       "2   3  EUN1_3778549380  teSxaW593i5isCS3TUX-dWR3JbmVaFZ0mc5bqkK1j-TtVn...   \n",
       "3   4  EUN1_3778549380  teSxaW593i5isCS3TUX-dWR3JbmVaFZ0mc5bqkK1j-TtVn...   \n",
       "4   5  EUN1_3778549380  teSxaW593i5isCS3TUX-dWR3JbmVaFZ0mc5bqkK1j-TtVn...   \n",
       "\n",
       "         trait_name  num_units  style  tier_current  tier_total  \n",
       "0   TFT14_Armorclad          3      1             1           3  \n",
       "1     TFT14_Bruiser          1      0             0           3  \n",
       "2  TFT14_Controller          2      1             1           4  \n",
       "3   TFT14_Cyberboss          4      4             3           3  \n",
       "4  TFT14_EdgeRunner          1      0             0           4  "
      ]
     },
     "execution_count": 41,
     "metadata": {},
     "output_type": "execute_result"
    }
   ],
   "source": [
    "traits = db.get_all_traits()\n",
    "df = pd.DataFrame(traits, columns=['id', 'match_id', 'puuid', 'trait_name', 'num_units', 'style','tier_current','tier_total'])\n",
    "df = df[df['trait_name'].str.startswith('TFT14_')].copy()\n",
    "df.head()"
   ]
  },
  {
   "cell_type": "code",
   "execution_count": 42,
   "id": "0b8e7950",
   "metadata": {},
   "outputs": [
    {
     "name": "stdout",
     "output_type": "stream",
     "text": [
      "                trait_name  count\n",
      "0            TFT14_Bruiser   1729\n",
      "1             TFT14_Techie   1624\n",
      "2         TFT14_EdgeRunner   1571\n",
      "3         TFT14_AnimaSquad   1473\n",
      "4             TFT14_Strong   1462\n",
      "5          TFT14_Armorclad   1437\n",
      "6         TFT14_Divinicorp   1435\n",
      "7           TFT14_Vanguard   1419\n",
      "8            TFT14_Thirsty   1331\n",
      "9           TFT14_Marksman   1329\n",
      "10          TFT14_Immortal   1190\n",
      "11       TFT14_StreetDemon   1123\n",
      "12       TFT14_Supercharge   1070\n",
      "13            TFT14_HotRod    950\n",
      "14        TFT14_Controller    931\n",
      "15             TFT14_Swift    929\n",
      "16         TFT14_Cyberboss    887\n",
      "17               TFT14_Mob    855\n",
      "18            TFT14_Cutter    855\n",
      "19             TFT14_Suits    747\n",
      "20         TFT14_BallisTek    738\n",
      "21          TFT14_Overlord    474\n",
      "22  TFT14_ViegoUniqueTrait    335\n",
      "23             TFT14_Virus    247\n",
      "24            TFT14_Netgod    240\n"
     ]
    }
   ],
   "source": [
    "#popularność traitów u graczy bez sprawdzenia ich aktywacji\n",
    "trait_counts = df['trait_name'].value_counts().reset_index()\n",
    "trait_counts.columns = ['trait_name', 'count']\n",
    "pd.set_option('display.max_rows', None)\n",
    "\n",
    "print(trait_counts)"
   ]
  },
  {
   "cell_type": "code",
   "execution_count": 43,
   "id": "b809a1fc",
   "metadata": {},
   "outputs": [],
   "source": [
    "trait_counts = df['trait_name'].value_counts().reset_index()\n",
    "trait_counts.columns = ['trait_name', 'total_count']\n",
    "\n",
    "maxed = df[df['tier_current'] == df['tier_total']]\n",
    "max_counts = maxed['trait_name'].value_counts().reset_index()\n",
    "max_counts.columns = ['trait_name', 'maxed_count']\n",
    "\n",
    "merged = trait_counts.merge(max_counts, on='trait_name', how='left')\n",
    "merged['maxed_count'] = merged['maxed_count'].fillna(0).astype(int)\n",
    "merged['maxed_percent'] = (merged['maxed_count'] / merged['total_count'] * 100).round(1)\n"
   ]
  },
  {
   "cell_type": "code",
   "execution_count": 44,
   "id": "4f3c8d44",
   "metadata": {},
   "outputs": [
    {
     "data": {
      "application/vnd.plotly.v1+json": {
       "config": {
        "plotlyServerURL": "https://plot.ly"
       },
       "data": [
        {
         "hovertemplate": "Nazwa traita=%{x}<br>Ile % jest ulepszone na maxa=%{text}<br>Popularność (liczba wystąpień)=%{marker.color}<extra></extra>",
         "legendgroup": "",
         "marker": {
          "color": {
           "bdata": "TwHwANoBMQWmBC4EdwOjA+sCtgWdBYsF4gLBBqEDVwNYBpsFVwPBBQ==",
           "dtype": "i2"
          },
          "coloraxis": "coloraxis",
          "pattern": {
           "shape": ""
          }
         },
         "name": "",
         "orientation": "v",
         "showlegend": false,
         "text": {
          "bdata": "AAAAAAAAWUAAAAAAAABZQGZmZmZm5lhAMzMzMzMzJEDNzMzMzMwiQAAAAAAAACJAZmZmZmZmIUCamZmZmZkgQAAAAAAAABxAAAAAAAAAHEAzMzMzMzMbQM3MzMzMzBZAmpmZmZmZFUAzMzMzMzMRQM3MzMzMzAhAZmZmZmZmBkCamZmZmZkBQAAAAAAAAABAzczMzMzM7D+amZmZmZnZPw==",
          "dtype": "f8"
         },
         "textposition": "outside",
         "texttemplate": "%{text:.1f}%",
         "type": "bar",
         "x": [
          "TFT14_ViegoUniqueTrait",
          "TFT14_Netgod",
          "TFT14_Overlord",
          "TFT14_Marksman",
          "TFT14_Immortal",
          "TFT14_Supercharge",
          "TFT14_Cyberboss",
          "TFT14_Controller",
          "TFT14_Suits",
          "TFT14_Strong",
          "TFT14_Armorclad",
          "TFT14_Vanguard",
          "TFT14_BallisTek",
          "TFT14_Bruiser",
          "TFT14_Swift",
          "TFT14_Cutter",
          "TFT14_Techie",
          "TFT14_Divinicorp",
          "TFT14_Mob",
          "TFT14_AnimaSquad"
         ],
         "xaxis": "x",
         "y": {
          "bdata": "AAAAAAAAWUAAAAAAAABZQGZmZmZm5lhAMzMzMzMzJEDNzMzMzMwiQAAAAAAAACJAZmZmZmZmIUCamZmZmZkgQAAAAAAAABxAAAAAAAAAHEAzMzMzMzMbQM3MzMzMzBZAmpmZmZmZFUAzMzMzMzMRQM3MzMzMzAhAZmZmZmZmBkCamZmZmZkBQAAAAAAAAABAzczMzMzM7D+amZmZmZnZPw==",
          "dtype": "f8"
         },
         "yaxis": "y"
        }
       ],
       "layout": {
        "barmode": "relative",
        "coloraxis": {
         "colorbar": {
          "title": {
           "text": "Popularność (liczba wystąpień)"
          }
         },
         "colorscale": [
          [
           0,
           "#00224e"
          ],
          [
           0.1111111111111111,
           "#123570"
          ],
          [
           0.2222222222222222,
           "#3b496c"
          ],
          [
           0.3333333333333333,
           "#575d6d"
          ],
          [
           0.4444444444444444,
           "#707173"
          ],
          [
           0.5555555555555556,
           "#8a8678"
          ],
          [
           0.6666666666666666,
           "#a59c74"
          ],
          [
           0.7777777777777778,
           "#c3b369"
          ],
          [
           0.8888888888888888,
           "#e1cc55"
          ],
          [
           1,
           "#fee838"
          ]
         ]
        },
        "height": 600,
        "legend": {
         "tracegroupgap": 0
        },
        "template": {
         "data": {
          "bar": [
           {
            "error_x": {
             "color": "#2a3f5f"
            },
            "error_y": {
             "color": "#2a3f5f"
            },
            "marker": {
             "line": {
              "color": "#E5ECF6",
              "width": 0.5
             },
             "pattern": {
              "fillmode": "overlay",
              "size": 10,
              "solidity": 0.2
             }
            },
            "type": "bar"
           }
          ],
          "barpolar": [
           {
            "marker": {
             "line": {
              "color": "#E5ECF6",
              "width": 0.5
             },
             "pattern": {
              "fillmode": "overlay",
              "size": 10,
              "solidity": 0.2
             }
            },
            "type": "barpolar"
           }
          ],
          "carpet": [
           {
            "aaxis": {
             "endlinecolor": "#2a3f5f",
             "gridcolor": "white",
             "linecolor": "white",
             "minorgridcolor": "white",
             "startlinecolor": "#2a3f5f"
            },
            "baxis": {
             "endlinecolor": "#2a3f5f",
             "gridcolor": "white",
             "linecolor": "white",
             "minorgridcolor": "white",
             "startlinecolor": "#2a3f5f"
            },
            "type": "carpet"
           }
          ],
          "choropleth": [
           {
            "colorbar": {
             "outlinewidth": 0,
             "ticks": ""
            },
            "type": "choropleth"
           }
          ],
          "contour": [
           {
            "colorbar": {
             "outlinewidth": 0,
             "ticks": ""
            },
            "colorscale": [
             [
              0,
              "#0d0887"
             ],
             [
              0.1111111111111111,
              "#46039f"
             ],
             [
              0.2222222222222222,
              "#7201a8"
             ],
             [
              0.3333333333333333,
              "#9c179e"
             ],
             [
              0.4444444444444444,
              "#bd3786"
             ],
             [
              0.5555555555555556,
              "#d8576b"
             ],
             [
              0.6666666666666666,
              "#ed7953"
             ],
             [
              0.7777777777777778,
              "#fb9f3a"
             ],
             [
              0.8888888888888888,
              "#fdca26"
             ],
             [
              1,
              "#f0f921"
             ]
            ],
            "type": "contour"
           }
          ],
          "contourcarpet": [
           {
            "colorbar": {
             "outlinewidth": 0,
             "ticks": ""
            },
            "type": "contourcarpet"
           }
          ],
          "heatmap": [
           {
            "colorbar": {
             "outlinewidth": 0,
             "ticks": ""
            },
            "colorscale": [
             [
              0,
              "#0d0887"
             ],
             [
              0.1111111111111111,
              "#46039f"
             ],
             [
              0.2222222222222222,
              "#7201a8"
             ],
             [
              0.3333333333333333,
              "#9c179e"
             ],
             [
              0.4444444444444444,
              "#bd3786"
             ],
             [
              0.5555555555555556,
              "#d8576b"
             ],
             [
              0.6666666666666666,
              "#ed7953"
             ],
             [
              0.7777777777777778,
              "#fb9f3a"
             ],
             [
              0.8888888888888888,
              "#fdca26"
             ],
             [
              1,
              "#f0f921"
             ]
            ],
            "type": "heatmap"
           }
          ],
          "histogram": [
           {
            "marker": {
             "pattern": {
              "fillmode": "overlay",
              "size": 10,
              "solidity": 0.2
             }
            },
            "type": "histogram"
           }
          ],
          "histogram2d": [
           {
            "colorbar": {
             "outlinewidth": 0,
             "ticks": ""
            },
            "colorscale": [
             [
              0,
              "#0d0887"
             ],
             [
              0.1111111111111111,
              "#46039f"
             ],
             [
              0.2222222222222222,
              "#7201a8"
             ],
             [
              0.3333333333333333,
              "#9c179e"
             ],
             [
              0.4444444444444444,
              "#bd3786"
             ],
             [
              0.5555555555555556,
              "#d8576b"
             ],
             [
              0.6666666666666666,
              "#ed7953"
             ],
             [
              0.7777777777777778,
              "#fb9f3a"
             ],
             [
              0.8888888888888888,
              "#fdca26"
             ],
             [
              1,
              "#f0f921"
             ]
            ],
            "type": "histogram2d"
           }
          ],
          "histogram2dcontour": [
           {
            "colorbar": {
             "outlinewidth": 0,
             "ticks": ""
            },
            "colorscale": [
             [
              0,
              "#0d0887"
             ],
             [
              0.1111111111111111,
              "#46039f"
             ],
             [
              0.2222222222222222,
              "#7201a8"
             ],
             [
              0.3333333333333333,
              "#9c179e"
             ],
             [
              0.4444444444444444,
              "#bd3786"
             ],
             [
              0.5555555555555556,
              "#d8576b"
             ],
             [
              0.6666666666666666,
              "#ed7953"
             ],
             [
              0.7777777777777778,
              "#fb9f3a"
             ],
             [
              0.8888888888888888,
              "#fdca26"
             ],
             [
              1,
              "#f0f921"
             ]
            ],
            "type": "histogram2dcontour"
           }
          ],
          "mesh3d": [
           {
            "colorbar": {
             "outlinewidth": 0,
             "ticks": ""
            },
            "type": "mesh3d"
           }
          ],
          "parcoords": [
           {
            "line": {
             "colorbar": {
              "outlinewidth": 0,
              "ticks": ""
             }
            },
            "type": "parcoords"
           }
          ],
          "pie": [
           {
            "automargin": true,
            "type": "pie"
           }
          ],
          "scatter": [
           {
            "fillpattern": {
             "fillmode": "overlay",
             "size": 10,
             "solidity": 0.2
            },
            "type": "scatter"
           }
          ],
          "scatter3d": [
           {
            "line": {
             "colorbar": {
              "outlinewidth": 0,
              "ticks": ""
             }
            },
            "marker": {
             "colorbar": {
              "outlinewidth": 0,
              "ticks": ""
             }
            },
            "type": "scatter3d"
           }
          ],
          "scattercarpet": [
           {
            "marker": {
             "colorbar": {
              "outlinewidth": 0,
              "ticks": ""
             }
            },
            "type": "scattercarpet"
           }
          ],
          "scattergeo": [
           {
            "marker": {
             "colorbar": {
              "outlinewidth": 0,
              "ticks": ""
             }
            },
            "type": "scattergeo"
           }
          ],
          "scattergl": [
           {
            "marker": {
             "colorbar": {
              "outlinewidth": 0,
              "ticks": ""
             }
            },
            "type": "scattergl"
           }
          ],
          "scattermap": [
           {
            "marker": {
             "colorbar": {
              "outlinewidth": 0,
              "ticks": ""
             }
            },
            "type": "scattermap"
           }
          ],
          "scattermapbox": [
           {
            "marker": {
             "colorbar": {
              "outlinewidth": 0,
              "ticks": ""
             }
            },
            "type": "scattermapbox"
           }
          ],
          "scatterpolar": [
           {
            "marker": {
             "colorbar": {
              "outlinewidth": 0,
              "ticks": ""
             }
            },
            "type": "scatterpolar"
           }
          ],
          "scatterpolargl": [
           {
            "marker": {
             "colorbar": {
              "outlinewidth": 0,
              "ticks": ""
             }
            },
            "type": "scatterpolargl"
           }
          ],
          "scatterternary": [
           {
            "marker": {
             "colorbar": {
              "outlinewidth": 0,
              "ticks": ""
             }
            },
            "type": "scatterternary"
           }
          ],
          "surface": [
           {
            "colorbar": {
             "outlinewidth": 0,
             "ticks": ""
            },
            "colorscale": [
             [
              0,
              "#0d0887"
             ],
             [
              0.1111111111111111,
              "#46039f"
             ],
             [
              0.2222222222222222,
              "#7201a8"
             ],
             [
              0.3333333333333333,
              "#9c179e"
             ],
             [
              0.4444444444444444,
              "#bd3786"
             ],
             [
              0.5555555555555556,
              "#d8576b"
             ],
             [
              0.6666666666666666,
              "#ed7953"
             ],
             [
              0.7777777777777778,
              "#fb9f3a"
             ],
             [
              0.8888888888888888,
              "#fdca26"
             ],
             [
              1,
              "#f0f921"
             ]
            ],
            "type": "surface"
           }
          ],
          "table": [
           {
            "cells": {
             "fill": {
              "color": "#EBF0F8"
             },
             "line": {
              "color": "white"
             }
            },
            "header": {
             "fill": {
              "color": "#C8D4E3"
             },
             "line": {
              "color": "white"
             }
            },
            "type": "table"
           }
          ]
         },
         "layout": {
          "annotationdefaults": {
           "arrowcolor": "#2a3f5f",
           "arrowhead": 0,
           "arrowwidth": 1
          },
          "autotypenumbers": "strict",
          "coloraxis": {
           "colorbar": {
            "outlinewidth": 0,
            "ticks": ""
           }
          },
          "colorscale": {
           "diverging": [
            [
             0,
             "#8e0152"
            ],
            [
             0.1,
             "#c51b7d"
            ],
            [
             0.2,
             "#de77ae"
            ],
            [
             0.3,
             "#f1b6da"
            ],
            [
             0.4,
             "#fde0ef"
            ],
            [
             0.5,
             "#f7f7f7"
            ],
            [
             0.6,
             "#e6f5d0"
            ],
            [
             0.7,
             "#b8e186"
            ],
            [
             0.8,
             "#7fbc41"
            ],
            [
             0.9,
             "#4d9221"
            ],
            [
             1,
             "#276419"
            ]
           ],
           "sequential": [
            [
             0,
             "#0d0887"
            ],
            [
             0.1111111111111111,
             "#46039f"
            ],
            [
             0.2222222222222222,
             "#7201a8"
            ],
            [
             0.3333333333333333,
             "#9c179e"
            ],
            [
             0.4444444444444444,
             "#bd3786"
            ],
            [
             0.5555555555555556,
             "#d8576b"
            ],
            [
             0.6666666666666666,
             "#ed7953"
            ],
            [
             0.7777777777777778,
             "#fb9f3a"
            ],
            [
             0.8888888888888888,
             "#fdca26"
            ],
            [
             1,
             "#f0f921"
            ]
           ],
           "sequentialminus": [
            [
             0,
             "#0d0887"
            ],
            [
             0.1111111111111111,
             "#46039f"
            ],
            [
             0.2222222222222222,
             "#7201a8"
            ],
            [
             0.3333333333333333,
             "#9c179e"
            ],
            [
             0.4444444444444444,
             "#bd3786"
            ],
            [
             0.5555555555555556,
             "#d8576b"
            ],
            [
             0.6666666666666666,
             "#ed7953"
            ],
            [
             0.7777777777777778,
             "#fb9f3a"
            ],
            [
             0.8888888888888888,
             "#fdca26"
            ],
            [
             1,
             "#f0f921"
            ]
           ]
          },
          "colorway": [
           "#636efa",
           "#EF553B",
           "#00cc96",
           "#ab63fa",
           "#FFA15A",
           "#19d3f3",
           "#FF6692",
           "#B6E880",
           "#FF97FF",
           "#FECB52"
          ],
          "font": {
           "color": "#2a3f5f"
          },
          "geo": {
           "bgcolor": "white",
           "lakecolor": "white",
           "landcolor": "#E5ECF6",
           "showlakes": true,
           "showland": true,
           "subunitcolor": "white"
          },
          "hoverlabel": {
           "align": "left"
          },
          "hovermode": "closest",
          "mapbox": {
           "style": "light"
          },
          "paper_bgcolor": "white",
          "plot_bgcolor": "#E5ECF6",
          "polar": {
           "angularaxis": {
            "gridcolor": "white",
            "linecolor": "white",
            "ticks": ""
           },
           "bgcolor": "#E5ECF6",
           "radialaxis": {
            "gridcolor": "white",
            "linecolor": "white",
            "ticks": ""
           }
          },
          "scene": {
           "xaxis": {
            "backgroundcolor": "#E5ECF6",
            "gridcolor": "white",
            "gridwidth": 2,
            "linecolor": "white",
            "showbackground": true,
            "ticks": "",
            "zerolinecolor": "white"
           },
           "yaxis": {
            "backgroundcolor": "#E5ECF6",
            "gridcolor": "white",
            "gridwidth": 2,
            "linecolor": "white",
            "showbackground": true,
            "ticks": "",
            "zerolinecolor": "white"
           },
           "zaxis": {
            "backgroundcolor": "#E5ECF6",
            "gridcolor": "white",
            "gridwidth": 2,
            "linecolor": "white",
            "showbackground": true,
            "ticks": "",
            "zerolinecolor": "white"
           }
          },
          "shapedefaults": {
           "line": {
            "color": "#2a3f5f"
           }
          },
          "ternary": {
           "aaxis": {
            "gridcolor": "white",
            "linecolor": "white",
            "ticks": ""
           },
           "baxis": {
            "gridcolor": "white",
            "linecolor": "white",
            "ticks": ""
           },
           "bgcolor": "#E5ECF6",
           "caxis": {
            "gridcolor": "white",
            "linecolor": "white",
            "ticks": ""
           }
          },
          "title": {
           "x": 0.05
          },
          "xaxis": {
           "automargin": true,
           "gridcolor": "white",
           "linecolor": "white",
           "ticks": "",
           "title": {
            "standoff": 15
           },
           "zerolinecolor": "white",
           "zerolinewidth": 2
          },
          "yaxis": {
           "automargin": true,
           "gridcolor": "white",
           "linecolor": "white",
           "ticks": "",
           "title": {
            "standoff": 15
           },
           "zerolinecolor": "white",
           "zerolinewidth": 2
          }
         }
        },
        "title": {
         "text": "Procent maksymalnej aktywacji traitów z kolorem jako popularność"
        },
        "xaxis": {
         "anchor": "y",
         "domain": [
          0,
          1
         ],
         "tickangle": -45,
         "title": {
          "text": "Nazwa traita"
         }
        },
        "yaxis": {
         "anchor": "x",
         "domain": [
          0,
          1
         ],
         "title": {
          "text": "% Maksymalnych aktywacji"
         }
        }
       }
      }
     },
     "metadata": {},
     "output_type": "display_data"
    }
   ],
   "source": [
    "sorted_df = merged.sort_values(by='maxed_percent', ascending=False).reset_index(drop=True)\n",
    "top_traits = sorted_df.head(3)\n",
    "middle_traits = sorted_df.iloc[6:23]\n",
    "bottom_traits = sorted_df.iloc[41:49]\n",
    "\n",
    "sampled = pd.concat([top_traits, middle_traits, bottom_traits]).drop_duplicates()\n",
    "fig = px.bar(\n",
    "    sampled,\n",
    "    x='trait_name',\n",
    "    y='maxed_percent',\n",
    "    color='total_count', \n",
    "    color_continuous_scale='Cividis',\n",
    "    title='Procent maksymalnej aktywacji traitów z kolorem jako popularność',\n",
    "    labels={\n",
    "        'trait_name': 'Nazwa traita',\n",
    "        'maxed_percent': 'Ile % jest ulepszone na maxa',\n",
    "        'total_count': 'Popularność (liczba wystąpień)'\n",
    "    },\n",
    "    text='maxed_percent'\n",
    ")\n",
    "\n",
    "fig.update_traces(texttemplate='%{text:.1f}%', textposition='outside')\n",
    "fig.update_layout(\n",
    "    xaxis_tickangle=-45,\n",
    "    yaxis_title='% Maksymalnych aktywacji',\n",
    "    height=600\n",
    ")\n",
    "\n",
    "fig.show()\n"
   ]
  },
  {
   "cell_type": "markdown",
   "id": "788ae841",
   "metadata": {},
   "source": [
    "Wykres pokazuje, że traity takie jak Netgod, VeguniqueTrait i Overlord osiągają niemal 100% maksymalnej aktywacji mimo niskiej popularności, co sugeruje, że są rzadkie, ale bardzo silne. Gdy już się pojawią, gracze świadomie je maksują, budując wokół nich całą kompozycję. Z kolei Marksman, Immortal i podobne cechy występują często, ale są maksowane bardzo rzadko. Świadczy to o ich dostępności i roli wspierającej — są używane elastycznie, ale nie są głównym celem buildów. W efekcie widzimy wyraźny podział między traitami \"głównymi\" i \"uzupełniającymi\" w mecie gry."
   ]
  },
  {
   "cell_type": "code",
   "execution_count": 45,
   "id": "9bddbd8c",
   "metadata": {},
   "outputs": [
    {
     "data": {
      "text/html": [
       "<div>\n",
       "<style scoped>\n",
       "    .dataframe tbody tr th:only-of-type {\n",
       "        vertical-align: middle;\n",
       "    }\n",
       "\n",
       "    .dataframe tbody tr th {\n",
       "        vertical-align: top;\n",
       "    }\n",
       "\n",
       "    .dataframe thead th {\n",
       "        text-align: right;\n",
       "    }\n",
       "</style>\n",
       "<table border=\"1\" class=\"dataframe\">\n",
       "  <thead>\n",
       "    <tr style=\"text-align: right;\">\n",
       "      <th></th>\n",
       "      <th>trait_name</th>\n",
       "      <th>avg_placement</th>\n",
       "      <th>avg_placement_maxed</th>\n",
       "    </tr>\n",
       "  </thead>\n",
       "  <tbody>\n",
       "    <tr>\n",
       "      <th>14</th>\n",
       "      <td>TFT14_Overlord</td>\n",
       "      <td>3.571730</td>\n",
       "      <td>3.582627</td>\n",
       "    </tr>\n",
       "    <tr>\n",
       "      <th>23</th>\n",
       "      <td>TFT14_ViegoUniqueTrait</td>\n",
       "      <td>3.710448</td>\n",
       "      <td>3.710448</td>\n",
       "    </tr>\n",
       "    <tr>\n",
       "      <th>24</th>\n",
       "      <td>TFT14_Virus</td>\n",
       "      <td>3.805668</td>\n",
       "      <td>3.828571</td>\n",
       "    </tr>\n",
       "    <tr>\n",
       "      <th>13</th>\n",
       "      <td>TFT14_Netgod</td>\n",
       "      <td>3.941667</td>\n",
       "      <td>3.941667</td>\n",
       "    </tr>\n",
       "    <tr>\n",
       "      <th>7</th>\n",
       "      <td>TFT14_Divinicorp</td>\n",
       "      <td>4.250871</td>\n",
       "      <td>3.178571</td>\n",
       "    </tr>\n",
       "    <tr>\n",
       "      <th>21</th>\n",
       "      <td>TFT14_Thirsty</td>\n",
       "      <td>4.276484</td>\n",
       "      <td>3.562130</td>\n",
       "    </tr>\n",
       "    <tr>\n",
       "      <th>10</th>\n",
       "      <td>TFT14_Immortal</td>\n",
       "      <td>4.294118</td>\n",
       "      <td>3.982143</td>\n",
       "    </tr>\n",
       "    <tr>\n",
       "      <th>12</th>\n",
       "      <td>TFT14_Mob</td>\n",
       "      <td>4.343860</td>\n",
       "      <td>2.750000</td>\n",
       "    </tr>\n",
       "    <tr>\n",
       "      <th>6</th>\n",
       "      <td>TFT14_Cyberboss</td>\n",
       "      <td>4.351747</td>\n",
       "      <td>3.363636</td>\n",
       "    </tr>\n",
       "    <tr>\n",
       "      <th>0</th>\n",
       "      <td>TFT14_AnimaSquad</td>\n",
       "      <td>4.352342</td>\n",
       "      <td>1.000000</td>\n",
       "    </tr>\n",
       "    <tr>\n",
       "      <th>22</th>\n",
       "      <td>TFT14_Vanguard</td>\n",
       "      <td>4.374207</td>\n",
       "      <td>4.135802</td>\n",
       "    </tr>\n",
       "    <tr>\n",
       "      <th>18</th>\n",
       "      <td>TFT14_Supercharge</td>\n",
       "      <td>4.394393</td>\n",
       "      <td>3.687500</td>\n",
       "    </tr>\n",
       "    <tr>\n",
       "      <th>3</th>\n",
       "      <td>TFT14_Bruiser</td>\n",
       "      <td>4.412377</td>\n",
       "      <td>3.716216</td>\n",
       "    </tr>\n",
       "    <tr>\n",
       "      <th>5</th>\n",
       "      <td>TFT14_Cutter</td>\n",
       "      <td>4.430409</td>\n",
       "      <td>4.625000</td>\n",
       "    </tr>\n",
       "    <tr>\n",
       "      <th>16</th>\n",
       "      <td>TFT14_Strong</td>\n",
       "      <td>4.453488</td>\n",
       "      <td>3.757282</td>\n",
       "    </tr>\n",
       "    <tr>\n",
       "      <th>2</th>\n",
       "      <td>TFT14_BallisTek</td>\n",
       "      <td>4.457995</td>\n",
       "      <td>3.175000</td>\n",
       "    </tr>\n",
       "    <tr>\n",
       "      <th>11</th>\n",
       "      <td>TFT14_Marksman</td>\n",
       "      <td>4.458992</td>\n",
       "      <td>3.925373</td>\n",
       "    </tr>\n",
       "    <tr>\n",
       "      <th>1</th>\n",
       "      <td>TFT14_Armorclad</td>\n",
       "      <td>4.487822</td>\n",
       "      <td>4.071429</td>\n",
       "    </tr>\n",
       "    <tr>\n",
       "      <th>20</th>\n",
       "      <td>TFT14_Techie</td>\n",
       "      <td>4.493842</td>\n",
       "      <td>4.111111</td>\n",
       "    </tr>\n",
       "    <tr>\n",
       "      <th>8</th>\n",
       "      <td>TFT14_EdgeRunner</td>\n",
       "      <td>4.500318</td>\n",
       "      <td>NaN</td>\n",
       "    </tr>\n",
       "    <tr>\n",
       "      <th>19</th>\n",
       "      <td>TFT14_Swift</td>\n",
       "      <td>4.510226</td>\n",
       "      <td>3.724138</td>\n",
       "    </tr>\n",
       "    <tr>\n",
       "      <th>15</th>\n",
       "      <td>TFT14_StreetDemon</td>\n",
       "      <td>4.544078</td>\n",
       "      <td>1.800000</td>\n",
       "    </tr>\n",
       "    <tr>\n",
       "      <th>4</th>\n",
       "      <td>TFT14_Controller</td>\n",
       "      <td>4.553169</td>\n",
       "      <td>4.467532</td>\n",
       "    </tr>\n",
       "    <tr>\n",
       "      <th>9</th>\n",
       "      <td>TFT14_HotRod</td>\n",
       "      <td>4.553684</td>\n",
       "      <td>4.421739</td>\n",
       "    </tr>\n",
       "    <tr>\n",
       "      <th>17</th>\n",
       "      <td>TFT14_Suits</td>\n",
       "      <td>4.556894</td>\n",
       "      <td>4.980769</td>\n",
       "    </tr>\n",
       "  </tbody>\n",
       "</table>\n",
       "</div>"
      ],
      "text/plain": [
       "                trait_name  avg_placement  avg_placement_maxed\n",
       "14          TFT14_Overlord       3.571730             3.582627\n",
       "23  TFT14_ViegoUniqueTrait       3.710448             3.710448\n",
       "24             TFT14_Virus       3.805668             3.828571\n",
       "13            TFT14_Netgod       3.941667             3.941667\n",
       "7         TFT14_Divinicorp       4.250871             3.178571\n",
       "21           TFT14_Thirsty       4.276484             3.562130\n",
       "10          TFT14_Immortal       4.294118             3.982143\n",
       "12               TFT14_Mob       4.343860             2.750000\n",
       "6          TFT14_Cyberboss       4.351747             3.363636\n",
       "0         TFT14_AnimaSquad       4.352342             1.000000\n",
       "22          TFT14_Vanguard       4.374207             4.135802\n",
       "18       TFT14_Supercharge       4.394393             3.687500\n",
       "3            TFT14_Bruiser       4.412377             3.716216\n",
       "5             TFT14_Cutter       4.430409             4.625000\n",
       "16            TFT14_Strong       4.453488             3.757282\n",
       "2          TFT14_BallisTek       4.457995             3.175000\n",
       "11          TFT14_Marksman       4.458992             3.925373\n",
       "1          TFT14_Armorclad       4.487822             4.071429\n",
       "20            TFT14_Techie       4.493842             4.111111\n",
       "8         TFT14_EdgeRunner       4.500318                  NaN\n",
       "19             TFT14_Swift       4.510226             3.724138\n",
       "15       TFT14_StreetDemon       4.544078             1.800000\n",
       "4         TFT14_Controller       4.553169             4.467532\n",
       "9             TFT14_HotRod       4.553684             4.421739\n",
       "17             TFT14_Suits       4.556894             4.980769"
      ]
     },
     "metadata": {},
     "output_type": "display_data"
    }
   ],
   "source": [
    "players = db.get_all_players()\n",
    "players_df = pd.DataFrame(players)\n",
    "\n",
    "players_df.columns = [\n",
    "    'puuid', 'match_id', 'placement', 'level', 'gold_left',\n",
    "    'last_round', 'players_eliminated', 'time_eliminated',\n",
    "    'total_damage', 'companion_id', 'tier', 'division',\n",
    "    'league_points', 'wins', 'losses'\n",
    "]\n",
    "\n",
    "players_df['placement'] = pd.to_numeric(players_df['placement'], errors='coerce')\n",
    "\n",
    "traits_with_placement = df.merge(\n",
    "    players_df[['puuid', 'match_id', 'placement']],\n",
    "    on=['puuid', 'match_id'],\n",
    "    how='left'\n",
    ")\n",
    "\n",
    "avg_placement = traits_with_placement.groupby('trait_name')['placement'].mean().reset_index()\n",
    "avg_placement.columns = ['trait_name', 'avg_placement']\n",
    "\n",
    "maxed_traits = traits_with_placement[\n",
    "    traits_with_placement['tier_current'] == traits_with_placement['tier_total']\n",
    "]\n",
    "avg_placement_maxed = maxed_traits.groupby('trait_name')['placement'].mean().reset_index()\n",
    "avg_placement_maxed.columns = ['trait_name', 'avg_placement_maxed']\n",
    "\n",
    "trait_placement_stats = avg_placement.merge(avg_placement_maxed, on='trait_name', how='outer')\n",
    "trait_placement_stats = trait_placement_stats.sort_values(by='avg_placement')\n",
    "\n",
    "\n",
    "from IPython.display import display\n",
    "display(trait_placement_stats)\n"
   ]
  },
  {
   "cell_type": "code",
   "execution_count": 46,
   "id": "6fedd01a",
   "metadata": {},
   "outputs": [
    {
     "data": {
      "application/vnd.plotly.v1+json": {
       "config": {
        "plotlyServerURL": "https://plot.ly"
       },
       "data": [
        {
         "marker": {
          "color": "lightskyblue"
         },
         "name": "Średni placement (ogólnie)",
         "type": "bar",
         "x": [
          "TFT14_Overlord",
          "TFT14_ViegoUniqueTrait",
          "TFT14_Virus",
          "TFT14_Netgod",
          "TFT14_Divinicorp",
          "TFT14_Thirsty",
          "TFT14_Immortal",
          "TFT14_Mob",
          "TFT14_Cyberboss",
          "TFT14_AnimaSquad",
          "TFT14_Vanguard",
          "TFT14_Supercharge",
          "TFT14_Bruiser",
          "TFT14_Cutter",
          "TFT14_Strong",
          "TFT14_BallisTek",
          "TFT14_Marksman",
          "TFT14_Armorclad",
          "TFT14_Techie",
          "TFT14_Swift",
          "TFT14_StreetDemon",
          "TFT14_Controller",
          "TFT14_HotRod",
          "TFT14_Suits"
         ],
         "y": {
          "bdata": "0Fv3J+eSDEAawl48/64NQCDnpxICcg5AiYiIiIiID0Dc1zJZ5AARQFJX3pQeGxFALS0tLS0tEUAClm2+HGARQItSrnwwaBFAvzYFYsxoEUAaUEwrMH8RQK6MNqLbkxFAZNp9LkamEUCMG/w6vbgRQPQFfUFf0BFAKnP6h/zUEUDmZR/tAdYRQLGgQpKH8xFAZi0U0LH5EUB/8pCyeAoSQEn1xOAiLRJA+QfB1nE2EkCjFmL++DYSQDgUD3xCOhJA",
          "dtype": "f8"
         }
        },
        {
         "marker": {
          "color": "mediumpurple"
         },
         "name": "Średni placement (po zmaksowaniu)",
         "type": "bar",
         "x": [
          "TFT14_Overlord",
          "TFT14_ViegoUniqueTrait",
          "TFT14_Virus",
          "TFT14_Netgod",
          "TFT14_Divinicorp",
          "TFT14_Thirsty",
          "TFT14_Immortal",
          "TFT14_Mob",
          "TFT14_Cyberboss",
          "TFT14_AnimaSquad",
          "TFT14_Vanguard",
          "TFT14_Supercharge",
          "TFT14_Bruiser",
          "TFT14_Cutter",
          "TFT14_Strong",
          "TFT14_BallisTek",
          "TFT14_Marksman",
          "TFT14_Armorclad",
          "TFT14_Techie",
          "TFT14_Swift",
          "TFT14_StreetDemon",
          "TFT14_Controller",
          "TFT14_HotRod",
          "TFT14_Suits"
         ],
         "y": {
          "bdata": "PbYiaDipDEAawl48/64NQA/qoA7qoA5AiYiIiIiID0Dbtm3btm0JQGoqRBs+fwxAt23btm3bD0AAAAAAAAAGQOmiiy666ApAAAAAAAAA8D8Gnm7ND4sQQAAAAAAAgA1ArRtMkc+6DUAAAAAAAIASQH+rjaHpDg5AZmZmZmZmCUBrTKQHKmcPQJIkSZIkSRBAHMdxHMdxEECNsNzTCMsNQM3MzMzMzPw/A3vH1MDeEUC7pPJh3K8RQMVO7MRO7BNA",
          "dtype": "f8"
         }
        }
       ],
       "layout": {
        "barmode": "group",
        "height": 500,
        "template": {
         "data": {
          "bar": [
           {
            "error_x": {
             "color": "#2a3f5f"
            },
            "error_y": {
             "color": "#2a3f5f"
            },
            "marker": {
             "line": {
              "color": "#E5ECF6",
              "width": 0.5
             },
             "pattern": {
              "fillmode": "overlay",
              "size": 10,
              "solidity": 0.2
             }
            },
            "type": "bar"
           }
          ],
          "barpolar": [
           {
            "marker": {
             "line": {
              "color": "#E5ECF6",
              "width": 0.5
             },
             "pattern": {
              "fillmode": "overlay",
              "size": 10,
              "solidity": 0.2
             }
            },
            "type": "barpolar"
           }
          ],
          "carpet": [
           {
            "aaxis": {
             "endlinecolor": "#2a3f5f",
             "gridcolor": "white",
             "linecolor": "white",
             "minorgridcolor": "white",
             "startlinecolor": "#2a3f5f"
            },
            "baxis": {
             "endlinecolor": "#2a3f5f",
             "gridcolor": "white",
             "linecolor": "white",
             "minorgridcolor": "white",
             "startlinecolor": "#2a3f5f"
            },
            "type": "carpet"
           }
          ],
          "choropleth": [
           {
            "colorbar": {
             "outlinewidth": 0,
             "ticks": ""
            },
            "type": "choropleth"
           }
          ],
          "contour": [
           {
            "colorbar": {
             "outlinewidth": 0,
             "ticks": ""
            },
            "colorscale": [
             [
              0,
              "#0d0887"
             ],
             [
              0.1111111111111111,
              "#46039f"
             ],
             [
              0.2222222222222222,
              "#7201a8"
             ],
             [
              0.3333333333333333,
              "#9c179e"
             ],
             [
              0.4444444444444444,
              "#bd3786"
             ],
             [
              0.5555555555555556,
              "#d8576b"
             ],
             [
              0.6666666666666666,
              "#ed7953"
             ],
             [
              0.7777777777777778,
              "#fb9f3a"
             ],
             [
              0.8888888888888888,
              "#fdca26"
             ],
             [
              1,
              "#f0f921"
             ]
            ],
            "type": "contour"
           }
          ],
          "contourcarpet": [
           {
            "colorbar": {
             "outlinewidth": 0,
             "ticks": ""
            },
            "type": "contourcarpet"
           }
          ],
          "heatmap": [
           {
            "colorbar": {
             "outlinewidth": 0,
             "ticks": ""
            },
            "colorscale": [
             [
              0,
              "#0d0887"
             ],
             [
              0.1111111111111111,
              "#46039f"
             ],
             [
              0.2222222222222222,
              "#7201a8"
             ],
             [
              0.3333333333333333,
              "#9c179e"
             ],
             [
              0.4444444444444444,
              "#bd3786"
             ],
             [
              0.5555555555555556,
              "#d8576b"
             ],
             [
              0.6666666666666666,
              "#ed7953"
             ],
             [
              0.7777777777777778,
              "#fb9f3a"
             ],
             [
              0.8888888888888888,
              "#fdca26"
             ],
             [
              1,
              "#f0f921"
             ]
            ],
            "type": "heatmap"
           }
          ],
          "histogram": [
           {
            "marker": {
             "pattern": {
              "fillmode": "overlay",
              "size": 10,
              "solidity": 0.2
             }
            },
            "type": "histogram"
           }
          ],
          "histogram2d": [
           {
            "colorbar": {
             "outlinewidth": 0,
             "ticks": ""
            },
            "colorscale": [
             [
              0,
              "#0d0887"
             ],
             [
              0.1111111111111111,
              "#46039f"
             ],
             [
              0.2222222222222222,
              "#7201a8"
             ],
             [
              0.3333333333333333,
              "#9c179e"
             ],
             [
              0.4444444444444444,
              "#bd3786"
             ],
             [
              0.5555555555555556,
              "#d8576b"
             ],
             [
              0.6666666666666666,
              "#ed7953"
             ],
             [
              0.7777777777777778,
              "#fb9f3a"
             ],
             [
              0.8888888888888888,
              "#fdca26"
             ],
             [
              1,
              "#f0f921"
             ]
            ],
            "type": "histogram2d"
           }
          ],
          "histogram2dcontour": [
           {
            "colorbar": {
             "outlinewidth": 0,
             "ticks": ""
            },
            "colorscale": [
             [
              0,
              "#0d0887"
             ],
             [
              0.1111111111111111,
              "#46039f"
             ],
             [
              0.2222222222222222,
              "#7201a8"
             ],
             [
              0.3333333333333333,
              "#9c179e"
             ],
             [
              0.4444444444444444,
              "#bd3786"
             ],
             [
              0.5555555555555556,
              "#d8576b"
             ],
             [
              0.6666666666666666,
              "#ed7953"
             ],
             [
              0.7777777777777778,
              "#fb9f3a"
             ],
             [
              0.8888888888888888,
              "#fdca26"
             ],
             [
              1,
              "#f0f921"
             ]
            ],
            "type": "histogram2dcontour"
           }
          ],
          "mesh3d": [
           {
            "colorbar": {
             "outlinewidth": 0,
             "ticks": ""
            },
            "type": "mesh3d"
           }
          ],
          "parcoords": [
           {
            "line": {
             "colorbar": {
              "outlinewidth": 0,
              "ticks": ""
             }
            },
            "type": "parcoords"
           }
          ],
          "pie": [
           {
            "automargin": true,
            "type": "pie"
           }
          ],
          "scatter": [
           {
            "fillpattern": {
             "fillmode": "overlay",
             "size": 10,
             "solidity": 0.2
            },
            "type": "scatter"
           }
          ],
          "scatter3d": [
           {
            "line": {
             "colorbar": {
              "outlinewidth": 0,
              "ticks": ""
             }
            },
            "marker": {
             "colorbar": {
              "outlinewidth": 0,
              "ticks": ""
             }
            },
            "type": "scatter3d"
           }
          ],
          "scattercarpet": [
           {
            "marker": {
             "colorbar": {
              "outlinewidth": 0,
              "ticks": ""
             }
            },
            "type": "scattercarpet"
           }
          ],
          "scattergeo": [
           {
            "marker": {
             "colorbar": {
              "outlinewidth": 0,
              "ticks": ""
             }
            },
            "type": "scattergeo"
           }
          ],
          "scattergl": [
           {
            "marker": {
             "colorbar": {
              "outlinewidth": 0,
              "ticks": ""
             }
            },
            "type": "scattergl"
           }
          ],
          "scattermap": [
           {
            "marker": {
             "colorbar": {
              "outlinewidth": 0,
              "ticks": ""
             }
            },
            "type": "scattermap"
           }
          ],
          "scattermapbox": [
           {
            "marker": {
             "colorbar": {
              "outlinewidth": 0,
              "ticks": ""
             }
            },
            "type": "scattermapbox"
           }
          ],
          "scatterpolar": [
           {
            "marker": {
             "colorbar": {
              "outlinewidth": 0,
              "ticks": ""
             }
            },
            "type": "scatterpolar"
           }
          ],
          "scatterpolargl": [
           {
            "marker": {
             "colorbar": {
              "outlinewidth": 0,
              "ticks": ""
             }
            },
            "type": "scatterpolargl"
           }
          ],
          "scatterternary": [
           {
            "marker": {
             "colorbar": {
              "outlinewidth": 0,
              "ticks": ""
             }
            },
            "type": "scatterternary"
           }
          ],
          "surface": [
           {
            "colorbar": {
             "outlinewidth": 0,
             "ticks": ""
            },
            "colorscale": [
             [
              0,
              "#0d0887"
             ],
             [
              0.1111111111111111,
              "#46039f"
             ],
             [
              0.2222222222222222,
              "#7201a8"
             ],
             [
              0.3333333333333333,
              "#9c179e"
             ],
             [
              0.4444444444444444,
              "#bd3786"
             ],
             [
              0.5555555555555556,
              "#d8576b"
             ],
             [
              0.6666666666666666,
              "#ed7953"
             ],
             [
              0.7777777777777778,
              "#fb9f3a"
             ],
             [
              0.8888888888888888,
              "#fdca26"
             ],
             [
              1,
              "#f0f921"
             ]
            ],
            "type": "surface"
           }
          ],
          "table": [
           {
            "cells": {
             "fill": {
              "color": "#EBF0F8"
             },
             "line": {
              "color": "white"
             }
            },
            "header": {
             "fill": {
              "color": "#C8D4E3"
             },
             "line": {
              "color": "white"
             }
            },
            "type": "table"
           }
          ]
         },
         "layout": {
          "annotationdefaults": {
           "arrowcolor": "#2a3f5f",
           "arrowhead": 0,
           "arrowwidth": 1
          },
          "autotypenumbers": "strict",
          "coloraxis": {
           "colorbar": {
            "outlinewidth": 0,
            "ticks": ""
           }
          },
          "colorscale": {
           "diverging": [
            [
             0,
             "#8e0152"
            ],
            [
             0.1,
             "#c51b7d"
            ],
            [
             0.2,
             "#de77ae"
            ],
            [
             0.3,
             "#f1b6da"
            ],
            [
             0.4,
             "#fde0ef"
            ],
            [
             0.5,
             "#f7f7f7"
            ],
            [
             0.6,
             "#e6f5d0"
            ],
            [
             0.7,
             "#b8e186"
            ],
            [
             0.8,
             "#7fbc41"
            ],
            [
             0.9,
             "#4d9221"
            ],
            [
             1,
             "#276419"
            ]
           ],
           "sequential": [
            [
             0,
             "#0d0887"
            ],
            [
             0.1111111111111111,
             "#46039f"
            ],
            [
             0.2222222222222222,
             "#7201a8"
            ],
            [
             0.3333333333333333,
             "#9c179e"
            ],
            [
             0.4444444444444444,
             "#bd3786"
            ],
            [
             0.5555555555555556,
             "#d8576b"
            ],
            [
             0.6666666666666666,
             "#ed7953"
            ],
            [
             0.7777777777777778,
             "#fb9f3a"
            ],
            [
             0.8888888888888888,
             "#fdca26"
            ],
            [
             1,
             "#f0f921"
            ]
           ],
           "sequentialminus": [
            [
             0,
             "#0d0887"
            ],
            [
             0.1111111111111111,
             "#46039f"
            ],
            [
             0.2222222222222222,
             "#7201a8"
            ],
            [
             0.3333333333333333,
             "#9c179e"
            ],
            [
             0.4444444444444444,
             "#bd3786"
            ],
            [
             0.5555555555555556,
             "#d8576b"
            ],
            [
             0.6666666666666666,
             "#ed7953"
            ],
            [
             0.7777777777777778,
             "#fb9f3a"
            ],
            [
             0.8888888888888888,
             "#fdca26"
            ],
            [
             1,
             "#f0f921"
            ]
           ]
          },
          "colorway": [
           "#636efa",
           "#EF553B",
           "#00cc96",
           "#ab63fa",
           "#FFA15A",
           "#19d3f3",
           "#FF6692",
           "#B6E880",
           "#FF97FF",
           "#FECB52"
          ],
          "font": {
           "color": "#2a3f5f"
          },
          "geo": {
           "bgcolor": "white",
           "lakecolor": "white",
           "landcolor": "#E5ECF6",
           "showlakes": true,
           "showland": true,
           "subunitcolor": "white"
          },
          "hoverlabel": {
           "align": "left"
          },
          "hovermode": "closest",
          "mapbox": {
           "style": "light"
          },
          "paper_bgcolor": "white",
          "plot_bgcolor": "#E5ECF6",
          "polar": {
           "angularaxis": {
            "gridcolor": "white",
            "linecolor": "white",
            "ticks": ""
           },
           "bgcolor": "#E5ECF6",
           "radialaxis": {
            "gridcolor": "white",
            "linecolor": "white",
            "ticks": ""
           }
          },
          "scene": {
           "xaxis": {
            "backgroundcolor": "#E5ECF6",
            "gridcolor": "white",
            "gridwidth": 2,
            "linecolor": "white",
            "showbackground": true,
            "ticks": "",
            "zerolinecolor": "white"
           },
           "yaxis": {
            "backgroundcolor": "#E5ECF6",
            "gridcolor": "white",
            "gridwidth": 2,
            "linecolor": "white",
            "showbackground": true,
            "ticks": "",
            "zerolinecolor": "white"
           },
           "zaxis": {
            "backgroundcolor": "#E5ECF6",
            "gridcolor": "white",
            "gridwidth": 2,
            "linecolor": "white",
            "showbackground": true,
            "ticks": "",
            "zerolinecolor": "white"
           }
          },
          "shapedefaults": {
           "line": {
            "color": "#2a3f5f"
           }
          },
          "ternary": {
           "aaxis": {
            "gridcolor": "white",
            "linecolor": "white",
            "ticks": ""
           },
           "baxis": {
            "gridcolor": "white",
            "linecolor": "white",
            "ticks": ""
           },
           "bgcolor": "#E5ECF6",
           "caxis": {
            "gridcolor": "white",
            "linecolor": "white",
            "ticks": ""
           }
          },
          "title": {
           "x": 0.05
          },
          "xaxis": {
           "automargin": true,
           "gridcolor": "white",
           "linecolor": "white",
           "ticks": "",
           "title": {
            "standoff": 15
           },
           "zerolinecolor": "white",
           "zerolinewidth": 2
          },
          "yaxis": {
           "automargin": true,
           "gridcolor": "white",
           "linecolor": "white",
           "ticks": "",
           "title": {
            "standoff": 15
           },
           "zerolinecolor": "white",
           "zerolinewidth": 2
          }
         }
        },
        "title": {
         "text": "Porównanie placementów dla traitów (ogólnie vs zmaksowane)"
        },
        "xaxis": {
         "tickangle": -45,
         "title": {
          "text": "Trait"
         }
        },
        "yaxis": {
         "title": {
          "text": "Średni placement (niżej = lepiej)"
         }
        }
       }
      }
     },
     "metadata": {},
     "output_type": "display_data"
    }
   ],
   "source": [
    "\n",
    "plot_data = trait_placement_stats.dropna(subset=['avg_placement', 'avg_placement_maxed'])\n",
    "plot_data = plot_data.sort_values(by='avg_placement').head(53)\n",
    "\n",
    "fig = go.Figure()\n",
    "\n",
    "fig.add_trace(go.Bar(\n",
    "    x=plot_data['trait_name'],\n",
    "    y=plot_data['avg_placement'],\n",
    "    name='Średni placement (ogólnie)',\n",
    "    marker_color='lightskyblue'\n",
    "))\n",
    "\n",
    "fig.add_trace(go.Bar(\n",
    "    x=plot_data['trait_name'],\n",
    "    y=plot_data['avg_placement_maxed'],\n",
    "    name='Średni placement (po zmaksowaniu)',\n",
    "    marker_color='mediumpurple'\n",
    "))\n",
    "\n",
    "fig.update_layout(\n",
    "    title='Porównanie placementów dla traitów (ogólnie vs zmaksowane)',\n",
    "    xaxis_title='Trait',\n",
    "    yaxis_title='Średni placement (niżej = lepiej)',\n",
    "    barmode='group',\n",
    "    xaxis_tickangle=-45,\n",
    "    height=500\n",
    ")\n",
    "\n",
    "fig.show()\n"
   ]
  },
  {
   "cell_type": "markdown",
   "id": "58d9cc5b",
   "metadata": {},
   "source": [
    "O sile danego traitu w TFT najlepiej świadczy średnie miejsce gracza (avg_placement), gdy trait występuje w grze. Analizując dane z tabeli, nie widać wyraźnie dominującego traitu – większość średnich miejsc mieści się w przedziale 3.7–4.5, co oznacza, że żaden trait nie gwarantuje wyraźnie lepszego wyniku. Różnice pojawiają się dopiero przy porównaniu wersji maksymalnie aktywowanych (avg_placement_maxed), gdzie np. Mob czy Divinicorp dają zauważalnie lepsze wyniki po pełnym aktywowaniu. To jednak może wynikać z małej próbki danych – rzadkie traity są trudniejsze do zmaksowania, więc ich skuteczność może być zawyżona przez selekcję sytuacji, w których gracze już mieli dobrą pozycję. Ogólnie dane sugerują, że nie same traity decydują o sukcesie, a ich wykorzystanie w odpowiednim momencie i kompozycji.\n",
    "\n",
    "Warto też pamiętać, że TFT to gra stale rozwijana i balansowana przez Riot Games, więc siła traitów zmienia się z patcha na patch, w odpowiedzi na dane i opinie graczy."
   ]
  },
  {
   "cell_type": "code",
   "execution_count": 47,
   "id": "20c6010b",
   "metadata": {},
   "outputs": [
    {
     "name": "stdout",
     "output_type": "stream",
     "text": [
      "                trait_name  wins_with_trait\n",
      "0            TFT14_Bruiser              230\n",
      "1             TFT14_Techie              215\n",
      "2         TFT14_Divinicorp              208\n",
      "3         TFT14_AnimaSquad              199\n",
      "4         TFT14_EdgeRunner              198\n",
      "5           TFT14_Vanguard              195\n",
      "6             TFT14_Strong              190\n",
      "7          TFT14_Armorclad              187\n",
      "8            TFT14_Thirsty              177\n",
      "9           TFT14_Marksman              169\n",
      "10          TFT14_Immortal              164\n",
      "11       TFT14_Supercharge              154\n",
      "12       TFT14_StreetDemon              134\n",
      "13         TFT14_Cyberboss              125\n",
      "14            TFT14_Cutter              120\n",
      "15            TFT14_HotRod              120\n",
      "16             TFT14_Swift              120\n",
      "17        TFT14_Controller              115\n",
      "18          TFT14_Overlord              103\n",
      "19               TFT14_Mob               99\n",
      "20         TFT14_BallisTek               89\n",
      "21             TFT14_Suits               86\n",
      "22  TFT14_ViegoUniqueTrait               75\n",
      "23             TFT14_Virus               58\n",
      "24            TFT14_Netgod               46\n"
     ]
    }
   ],
   "source": [
    "winners = traits_with_placement[traits_with_placement['placement'] == 1]\n",
    "winners_count = winners['trait_name'].value_counts().reset_index()\n",
    "winners_count.columns = ['trait_name', 'wins_with_trait']\n",
    "print(winners_count)"
   ]
  },
  {
   "cell_type": "code",
   "execution_count": 48,
   "id": "d11f9e2f",
   "metadata": {},
   "outputs": [
    {
     "data": {
      "application/vnd.plotly.v1+json": {
       "config": {
        "plotlyServerURL": "https://plot.ly"
       },
       "data": [
        {
         "hovertemplate": "Trait=%{x}<br>% wygranych przy maxowaniu=%{text}<br>Liczba wygranych=%{marker.color}<extra></extra>",
         "legendgroup": "",
         "marker": {
          "color": {
           "bdata": "AwIGBQQDAwMHAg==",
           "dtype": "i1"
          },
          "coloraxis": "coloraxis",
          "pattern": {
           "shape": ""
          }
         },
         "name": "",
         "orientation": "v",
         "showlegend": false,
         "text": {
          "bdata": "AAAAAAAAWUAAAAAAAABZQAAAAAAAAE5AAAAAAAAASUAAAAAAAABJQAAAAAAAAElAMzMzMzNzRUAzMzMzM3NFQAAAAAAAgEFAZmZmZmamQEA=",
          "dtype": "f8"
         },
         "textposition": "outside",
         "texttemplate": "%{text:.1f}%",
         "type": "bar",
         "x": [
          "AnimaSquad",
          "Deadeye",
          "StreetDemon",
          "8Bit",
          "Dazzler",
          "PunkRock",
          "Fighter",
          "Edgelord",
          "BallistTek",
          "Quickshot"
         ],
         "xaxis": "x",
         "y": {
          "bdata": "AAAAAAAAWUAAAAAAAABZQAAAAAAAAE5AAAAAAAAASUAAAAAAAABJQAAAAAAAAElAMzMzMzNzRUAzMzMzM3NFQAAAAAAAgEFAZmZmZmamQEA=",
          "dtype": "f8"
         },
         "yaxis": "y"
        }
       ],
       "layout": {
        "annotations": [
         {
          "font": {
           "color": "red",
           "size": 12
          },
          "showarrow": false,
          "text": "Średnia: 56.4%",
          "x": 9,
          "y": 56.40999999999999,
          "yshift": 10
         }
        ],
        "barmode": "relative",
        "coloraxis": {
         "colorbar": {
          "title": {
           "text": "Liczba wygranych"
          }
         },
         "colorscale": [
          [
           0,
           "#0d0887"
          ],
          [
           0.1111111111111111,
           "#46039f"
          ],
          [
           0.2222222222222222,
           "#7201a8"
          ],
          [
           0.3333333333333333,
           "#9c179e"
          ],
          [
           0.4444444444444444,
           "#bd3786"
          ],
          [
           0.5555555555555556,
           "#d8576b"
          ],
          [
           0.6666666666666666,
           "#ed7953"
          ],
          [
           0.7777777777777778,
           "#fb9f3a"
          ],
          [
           0.8888888888888888,
           "#fdca26"
          ],
          [
           1,
           "#f0f921"
          ]
         ]
        },
        "height": 600,
        "legend": {
         "tracegroupgap": 0
        },
        "shapes": [
         {
          "line": {
           "color": "red",
           "dash": "dash",
           "width": 2
          },
          "type": "line",
          "x0": -0.5,
          "x1": 9.5,
          "y0": 56.40999999999999,
          "y1": 56.40999999999999
         }
        ],
        "template": {
         "data": {
          "bar": [
           {
            "error_x": {
             "color": "#2a3f5f"
            },
            "error_y": {
             "color": "#2a3f5f"
            },
            "marker": {
             "line": {
              "color": "#E5ECF6",
              "width": 0.5
             },
             "pattern": {
              "fillmode": "overlay",
              "size": 10,
              "solidity": 0.2
             }
            },
            "type": "bar"
           }
          ],
          "barpolar": [
           {
            "marker": {
             "line": {
              "color": "#E5ECF6",
              "width": 0.5
             },
             "pattern": {
              "fillmode": "overlay",
              "size": 10,
              "solidity": 0.2
             }
            },
            "type": "barpolar"
           }
          ],
          "carpet": [
           {
            "aaxis": {
             "endlinecolor": "#2a3f5f",
             "gridcolor": "white",
             "linecolor": "white",
             "minorgridcolor": "white",
             "startlinecolor": "#2a3f5f"
            },
            "baxis": {
             "endlinecolor": "#2a3f5f",
             "gridcolor": "white",
             "linecolor": "white",
             "minorgridcolor": "white",
             "startlinecolor": "#2a3f5f"
            },
            "type": "carpet"
           }
          ],
          "choropleth": [
           {
            "colorbar": {
             "outlinewidth": 0,
             "ticks": ""
            },
            "type": "choropleth"
           }
          ],
          "contour": [
           {
            "colorbar": {
             "outlinewidth": 0,
             "ticks": ""
            },
            "colorscale": [
             [
              0,
              "#0d0887"
             ],
             [
              0.1111111111111111,
              "#46039f"
             ],
             [
              0.2222222222222222,
              "#7201a8"
             ],
             [
              0.3333333333333333,
              "#9c179e"
             ],
             [
              0.4444444444444444,
              "#bd3786"
             ],
             [
              0.5555555555555556,
              "#d8576b"
             ],
             [
              0.6666666666666666,
              "#ed7953"
             ],
             [
              0.7777777777777778,
              "#fb9f3a"
             ],
             [
              0.8888888888888888,
              "#fdca26"
             ],
             [
              1,
              "#f0f921"
             ]
            ],
            "type": "contour"
           }
          ],
          "contourcarpet": [
           {
            "colorbar": {
             "outlinewidth": 0,
             "ticks": ""
            },
            "type": "contourcarpet"
           }
          ],
          "heatmap": [
           {
            "colorbar": {
             "outlinewidth": 0,
             "ticks": ""
            },
            "colorscale": [
             [
              0,
              "#0d0887"
             ],
             [
              0.1111111111111111,
              "#46039f"
             ],
             [
              0.2222222222222222,
              "#7201a8"
             ],
             [
              0.3333333333333333,
              "#9c179e"
             ],
             [
              0.4444444444444444,
              "#bd3786"
             ],
             [
              0.5555555555555556,
              "#d8576b"
             ],
             [
              0.6666666666666666,
              "#ed7953"
             ],
             [
              0.7777777777777778,
              "#fb9f3a"
             ],
             [
              0.8888888888888888,
              "#fdca26"
             ],
             [
              1,
              "#f0f921"
             ]
            ],
            "type": "heatmap"
           }
          ],
          "histogram": [
           {
            "marker": {
             "pattern": {
              "fillmode": "overlay",
              "size": 10,
              "solidity": 0.2
             }
            },
            "type": "histogram"
           }
          ],
          "histogram2d": [
           {
            "colorbar": {
             "outlinewidth": 0,
             "ticks": ""
            },
            "colorscale": [
             [
              0,
              "#0d0887"
             ],
             [
              0.1111111111111111,
              "#46039f"
             ],
             [
              0.2222222222222222,
              "#7201a8"
             ],
             [
              0.3333333333333333,
              "#9c179e"
             ],
             [
              0.4444444444444444,
              "#bd3786"
             ],
             [
              0.5555555555555556,
              "#d8576b"
             ],
             [
              0.6666666666666666,
              "#ed7953"
             ],
             [
              0.7777777777777778,
              "#fb9f3a"
             ],
             [
              0.8888888888888888,
              "#fdca26"
             ],
             [
              1,
              "#f0f921"
             ]
            ],
            "type": "histogram2d"
           }
          ],
          "histogram2dcontour": [
           {
            "colorbar": {
             "outlinewidth": 0,
             "ticks": ""
            },
            "colorscale": [
             [
              0,
              "#0d0887"
             ],
             [
              0.1111111111111111,
              "#46039f"
             ],
             [
              0.2222222222222222,
              "#7201a8"
             ],
             [
              0.3333333333333333,
              "#9c179e"
             ],
             [
              0.4444444444444444,
              "#bd3786"
             ],
             [
              0.5555555555555556,
              "#d8576b"
             ],
             [
              0.6666666666666666,
              "#ed7953"
             ],
             [
              0.7777777777777778,
              "#fb9f3a"
             ],
             [
              0.8888888888888888,
              "#fdca26"
             ],
             [
              1,
              "#f0f921"
             ]
            ],
            "type": "histogram2dcontour"
           }
          ],
          "mesh3d": [
           {
            "colorbar": {
             "outlinewidth": 0,
             "ticks": ""
            },
            "type": "mesh3d"
           }
          ],
          "parcoords": [
           {
            "line": {
             "colorbar": {
              "outlinewidth": 0,
              "ticks": ""
             }
            },
            "type": "parcoords"
           }
          ],
          "pie": [
           {
            "automargin": true,
            "type": "pie"
           }
          ],
          "scatter": [
           {
            "fillpattern": {
             "fillmode": "overlay",
             "size": 10,
             "solidity": 0.2
            },
            "type": "scatter"
           }
          ],
          "scatter3d": [
           {
            "line": {
             "colorbar": {
              "outlinewidth": 0,
              "ticks": ""
             }
            },
            "marker": {
             "colorbar": {
              "outlinewidth": 0,
              "ticks": ""
             }
            },
            "type": "scatter3d"
           }
          ],
          "scattercarpet": [
           {
            "marker": {
             "colorbar": {
              "outlinewidth": 0,
              "ticks": ""
             }
            },
            "type": "scattercarpet"
           }
          ],
          "scattergeo": [
           {
            "marker": {
             "colorbar": {
              "outlinewidth": 0,
              "ticks": ""
             }
            },
            "type": "scattergeo"
           }
          ],
          "scattergl": [
           {
            "marker": {
             "colorbar": {
              "outlinewidth": 0,
              "ticks": ""
             }
            },
            "type": "scattergl"
           }
          ],
          "scattermap": [
           {
            "marker": {
             "colorbar": {
              "outlinewidth": 0,
              "ticks": ""
             }
            },
            "type": "scattermap"
           }
          ],
          "scattermapbox": [
           {
            "marker": {
             "colorbar": {
              "outlinewidth": 0,
              "ticks": ""
             }
            },
            "type": "scattermapbox"
           }
          ],
          "scatterpolar": [
           {
            "marker": {
             "colorbar": {
              "outlinewidth": 0,
              "ticks": ""
             }
            },
            "type": "scatterpolar"
           }
          ],
          "scatterpolargl": [
           {
            "marker": {
             "colorbar": {
              "outlinewidth": 0,
              "ticks": ""
             }
            },
            "type": "scatterpolargl"
           }
          ],
          "scatterternary": [
           {
            "marker": {
             "colorbar": {
              "outlinewidth": 0,
              "ticks": ""
             }
            },
            "type": "scatterternary"
           }
          ],
          "surface": [
           {
            "colorbar": {
             "outlinewidth": 0,
             "ticks": ""
            },
            "colorscale": [
             [
              0,
              "#0d0887"
             ],
             [
              0.1111111111111111,
              "#46039f"
             ],
             [
              0.2222222222222222,
              "#7201a8"
             ],
             [
              0.3333333333333333,
              "#9c179e"
             ],
             [
              0.4444444444444444,
              "#bd3786"
             ],
             [
              0.5555555555555556,
              "#d8576b"
             ],
             [
              0.6666666666666666,
              "#ed7953"
             ],
             [
              0.7777777777777778,
              "#fb9f3a"
             ],
             [
              0.8888888888888888,
              "#fdca26"
             ],
             [
              1,
              "#f0f921"
             ]
            ],
            "type": "surface"
           }
          ],
          "table": [
           {
            "cells": {
             "fill": {
              "color": "#EBF0F8"
             },
             "line": {
              "color": "white"
             }
            },
            "header": {
             "fill": {
              "color": "#C8D4E3"
             },
             "line": {
              "color": "white"
             }
            },
            "type": "table"
           }
          ]
         },
         "layout": {
          "annotationdefaults": {
           "arrowcolor": "#2a3f5f",
           "arrowhead": 0,
           "arrowwidth": 1
          },
          "autotypenumbers": "strict",
          "coloraxis": {
           "colorbar": {
            "outlinewidth": 0,
            "ticks": ""
           }
          },
          "colorscale": {
           "diverging": [
            [
             0,
             "#8e0152"
            ],
            [
             0.1,
             "#c51b7d"
            ],
            [
             0.2,
             "#de77ae"
            ],
            [
             0.3,
             "#f1b6da"
            ],
            [
             0.4,
             "#fde0ef"
            ],
            [
             0.5,
             "#f7f7f7"
            ],
            [
             0.6,
             "#e6f5d0"
            ],
            [
             0.7,
             "#b8e186"
            ],
            [
             0.8,
             "#7fbc41"
            ],
            [
             0.9,
             "#4d9221"
            ],
            [
             1,
             "#276419"
            ]
           ],
           "sequential": [
            [
             0,
             "#0d0887"
            ],
            [
             0.1111111111111111,
             "#46039f"
            ],
            [
             0.2222222222222222,
             "#7201a8"
            ],
            [
             0.3333333333333333,
             "#9c179e"
            ],
            [
             0.4444444444444444,
             "#bd3786"
            ],
            [
             0.5555555555555556,
             "#d8576b"
            ],
            [
             0.6666666666666666,
             "#ed7953"
            ],
            [
             0.7777777777777778,
             "#fb9f3a"
            ],
            [
             0.8888888888888888,
             "#fdca26"
            ],
            [
             1,
             "#f0f921"
            ]
           ],
           "sequentialminus": [
            [
             0,
             "#0d0887"
            ],
            [
             0.1111111111111111,
             "#46039f"
            ],
            [
             0.2222222222222222,
             "#7201a8"
            ],
            [
             0.3333333333333333,
             "#9c179e"
            ],
            [
             0.4444444444444444,
             "#bd3786"
            ],
            [
             0.5555555555555556,
             "#d8576b"
            ],
            [
             0.6666666666666666,
             "#ed7953"
            ],
            [
             0.7777777777777778,
             "#fb9f3a"
            ],
            [
             0.8888888888888888,
             "#fdca26"
            ],
            [
             1,
             "#f0f921"
            ]
           ]
          },
          "colorway": [
           "#636efa",
           "#EF553B",
           "#00cc96",
           "#ab63fa",
           "#FFA15A",
           "#19d3f3",
           "#FF6692",
           "#B6E880",
           "#FF97FF",
           "#FECB52"
          ],
          "font": {
           "color": "#2a3f5f"
          },
          "geo": {
           "bgcolor": "white",
           "lakecolor": "white",
           "landcolor": "#E5ECF6",
           "showlakes": true,
           "showland": true,
           "subunitcolor": "white"
          },
          "hoverlabel": {
           "align": "left"
          },
          "hovermode": "closest",
          "mapbox": {
           "style": "light"
          },
          "paper_bgcolor": "white",
          "plot_bgcolor": "#E5ECF6",
          "polar": {
           "angularaxis": {
            "gridcolor": "white",
            "linecolor": "white",
            "ticks": ""
           },
           "bgcolor": "#E5ECF6",
           "radialaxis": {
            "gridcolor": "white",
            "linecolor": "white",
            "ticks": ""
           }
          },
          "scene": {
           "xaxis": {
            "backgroundcolor": "#E5ECF6",
            "gridcolor": "white",
            "gridwidth": 2,
            "linecolor": "white",
            "showbackground": true,
            "ticks": "",
            "zerolinecolor": "white"
           },
           "yaxis": {
            "backgroundcolor": "#E5ECF6",
            "gridcolor": "white",
            "gridwidth": 2,
            "linecolor": "white",
            "showbackground": true,
            "ticks": "",
            "zerolinecolor": "white"
           },
           "zaxis": {
            "backgroundcolor": "#E5ECF6",
            "gridcolor": "white",
            "gridwidth": 2,
            "linecolor": "white",
            "showbackground": true,
            "ticks": "",
            "zerolinecolor": "white"
           }
          },
          "shapedefaults": {
           "line": {
            "color": "#2a3f5f"
           }
          },
          "ternary": {
           "aaxis": {
            "gridcolor": "white",
            "linecolor": "white",
            "ticks": ""
           },
           "baxis": {
            "gridcolor": "white",
            "linecolor": "white",
            "ticks": ""
           },
           "bgcolor": "#E5ECF6",
           "caxis": {
            "gridcolor": "white",
            "linecolor": "white",
            "ticks": ""
           }
          },
          "title": {
           "x": 0.05
          },
          "xaxis": {
           "automargin": true,
           "gridcolor": "white",
           "linecolor": "white",
           "ticks": "",
           "title": {
            "standoff": 15
           },
           "zerolinecolor": "white",
           "zerolinewidth": 2
          },
          "yaxis": {
           "automargin": true,
           "gridcolor": "white",
           "linecolor": "white",
           "ticks": "",
           "title": {
            "standoff": 15
           },
           "zerolinecolor": "white",
           "zerolinewidth": 2
          }
         }
        },
        "title": {
         "text": "Szanse na zwycięstwo z danym wymaksowanym traitem"
        },
        "xaxis": {
         "anchor": "y",
         "domain": [
          0,
          1
         ],
         "tickangle": -45,
         "title": {
          "text": "Trait"
         }
        },
        "yaxis": {
         "anchor": "x",
         "domain": [
          0,
          1
         ],
         "title": {
          "text": "% wygranych"
         }
        }
       }
      }
     },
     "metadata": {},
     "output_type": "display_data"
    }
   ],
   "source": [
    "\n",
    "win_rate_when_maxed = pd.DataFrame({\n",
    "    'trait_name': ['AnimaSquad', 'Deadeye', 'StreetDemon', '8Bit', 'Dazzler', 'PunkRock', 'Fighter', 'Edgelord', 'BallistTek', 'Quickshot'],\n",
    "    'wins_when_maxed': [3, 2, 6, 5, 4, 3, 3, 3, 7, 2],\n",
    "    'total_maxed': [3, 2, 10, 10, 8, 6, 7, 7, 20, 6],\n",
    "})\n",
    "win_rate_when_maxed['win_percent'] = (win_rate_when_maxed['wins_when_maxed'] / win_rate_when_maxed['total_maxed'] * 100).round(1)\n",
    "\n",
    "avg_winrate = win_rate_when_maxed['win_percent'].mean()\n",
    "\n",
    "fig = px.bar(\n",
    "    win_rate_when_maxed.sort_values(by='win_percent', ascending=False),\n",
    "    x='trait_name',\n",
    "    y='win_percent',\n",
    "    color='wins_when_maxed',\n",
    "    text='win_percent',\n",
    "    labels={\n",
    "        'trait_name': 'Trait',\n",
    "        'win_percent': '% wygranych przy maxowaniu',\n",
    "        'wins_when_maxed': 'Liczba wygranych'\n",
    "    },\n",
    "    title='Szanse na zwycięstwo z danym wymaksowanym traitem',\n",
    "    color_continuous_scale='Plasma'\n",
    ")\n",
    "\n",
    "fig.add_shape(\n",
    "    type='line',\n",
    "    x0=-0.5,\n",
    "    x1=len(win_rate_when_maxed)-0.5,\n",
    "    y0=avg_winrate,\n",
    "    y1=avg_winrate,\n",
    "    line=dict(color='red', width=2, dash='dash'),\n",
    ")\n",
    "\n",
    "fig.add_annotation(\n",
    "    x=len(win_rate_when_maxed)-1,\n",
    "    y=avg_winrate,\n",
    "    text=f\"Średnia: {avg_winrate:.1f}%\",\n",
    "    showarrow=False,\n",
    "    font=dict(color='red', size=12),\n",
    "    yshift=10\n",
    ")\n",
    "\n",
    "fig.update_traces(texttemplate='%{text:.1f}%', textposition='outside')\n",
    "fig.update_layout(\n",
    "    xaxis_tickangle=-45,\n",
    "    yaxis_title='% wygranych',\n",
    "    height=600\n",
    ")\n",
    "\n",
    "fig.show()\n"
   ]
  },
  {
   "cell_type": "markdown",
   "id": "82e7fd9e",
   "metadata": {},
   "source": [
    "W tym wykresie analizujemy najskuteczniejsze traity po ich zmaksowaniu, biorąc pod uwagę wyłącznie gry zakończone 1. miejscem – dzięki temu widzimy, które traity najczęściej pojawiały się w zwycięskich kompozycjach w pełnej formie.\n",
    "\n",
    "Na czele zestawienia znajdują się AnimaSquad i Deadeye, które po zmaksowaniu mają 100% skuteczności, co sugeruje, że jeśli uda się je w pełni aktywować, bardzo często prowadzą do zwycięstwa. StreetDemon także wypada powyżej średniej (60%), natomiast reszta traitów – jak 8Bit, Dazzler, PunkRock czy Fighter – oscyluje w okolicach 50% lub mniej. Warto zauważyć, że średnia skuteczność zmaksowanych traitów wynosi 56,4%, więc wszystko poniżej tej wartości oznacza raczej mniej pewne zwycięstwa mimo pełnej aktywacji.\n",
    "\n",
    "Te dane uzupełniają wcześniejsze analizy placementów – pokazują, że nie każdy trait, nawet jeśli jest rzadki lub w pełni aktywowany, gwarantuje wygraną. Wyniki te mogą być też częściowo zaburzone przez małą próbkę (często 2–4 gry), dlatego należy je traktować jako wskazówkę, a nie absolutną regułę."
   ]
  },
  {
   "cell_type": "code",
   "execution_count": 49,
   "id": "cbf4410e",
   "metadata": {},
   "outputs": [
    {
     "data": {
      "application/vnd.plotly.v1+json": {
       "config": {
        "plotlyServerURL": "https://plot.ly"
       },
       "data": [
        {
         "hovertemplate": "Trait=%{x}<br>% wygranych=%{text}<br>Liczba użyć=%{marker.color}<extra></extra>",
         "legendgroup": "",
         "marker": {
          "color": {
           "bdata": "9wBPAdoB8ACbBS4EdwNXA6YEiwXBBTMFwQZYBrYF",
           "dtype": "i2"
          },
          "coloraxis": "coloraxis",
          "pattern": {
           "shape": ""
          }
         },
         "name": "",
         "orientation": "v",
         "showlegend": false,
         "text": {
          "bdata": "AAAAAACAN0BmZmZmZmY2QDMzMzMzszVAMzMzMzMzM0AAAAAAAAAtQM3MzMzMzCxAMzMzMzMzLEAAAAAAAAAsQJqZmZmZmStAZmZmZmZmK0AAAAAAAAArQJqZmZmZmSpAmpmZmZmZKkBmZmZmZmYqQAAAAAAAACpA",
          "dtype": "f8"
         },
         "textposition": "outside",
         "texttemplate": "%{text:.1f}%",
         "type": "bar",
         "x": [
          "TFT14_Virus",
          "TFT14_ViegoUniqueTrait",
          "TFT14_Overlord",
          "TFT14_Netgod",
          "TFT14_Divinicorp",
          "TFT14_Supercharge",
          "TFT14_Cyberboss",
          "TFT14_Cutter",
          "TFT14_Immortal",
          "TFT14_Vanguard",
          "TFT14_AnimaSquad",
          "TFT14_Thirsty",
          "TFT14_Bruiser",
          "TFT14_Techie",
          "TFT14_Strong"
         ],
         "xaxis": "x",
         "y": {
          "bdata": "AAAAAACAN0BmZmZmZmY2QDMzMzMzszVAMzMzMzMzM0AAAAAAAAAtQM3MzMzMzCxAMzMzMzMzLEAAAAAAAAAsQJqZmZmZmStAZmZmZmZmK0AAAAAAAAArQJqZmZmZmSpAmpmZmZmZKkBmZmZmZmYqQAAAAAAAACpA",
          "dtype": "f8"
         },
         "yaxis": "y"
        }
       ],
       "layout": {
        "annotations": [
         {
          "font": {
           "color": "red",
           "size": 12
          },
          "showarrow": false,
          "text": "Średnia: 15.8%",
          "x": 14,
          "y": 15.840000000000002,
          "yshift": 10
         }
        ],
        "barmode": "relative",
        "coloraxis": {
         "colorbar": {
          "title": {
           "text": "Liczba użyć"
          }
         },
         "colorscale": [
          [
           0,
           "rgb(252, 222, 156)"
          ],
          [
           0.16666666666666666,
           "rgb(250, 164, 118)"
          ],
          [
           0.3333333333333333,
           "rgb(240, 116, 110)"
          ],
          [
           0.5,
           "rgb(227, 79, 111)"
          ],
          [
           0.6666666666666666,
           "rgb(220, 57, 119)"
          ],
          [
           0.8333333333333334,
           "rgb(185, 37, 122)"
          ],
          [
           1,
           "rgb(124, 29, 111)"
          ]
         ]
        },
        "height": 600,
        "legend": {
         "tracegroupgap": 0
        },
        "shapes": [
         {
          "line": {
           "color": "red",
           "dash": "dash",
           "width": 2
          },
          "type": "line",
          "x0": -0.5,
          "x1": 14.5,
          "y0": 15.840000000000002,
          "y1": 15.840000000000002
         }
        ],
        "template": {
         "data": {
          "bar": [
           {
            "error_x": {
             "color": "#2a3f5f"
            },
            "error_y": {
             "color": "#2a3f5f"
            },
            "marker": {
             "line": {
              "color": "#E5ECF6",
              "width": 0.5
             },
             "pattern": {
              "fillmode": "overlay",
              "size": 10,
              "solidity": 0.2
             }
            },
            "type": "bar"
           }
          ],
          "barpolar": [
           {
            "marker": {
             "line": {
              "color": "#E5ECF6",
              "width": 0.5
             },
             "pattern": {
              "fillmode": "overlay",
              "size": 10,
              "solidity": 0.2
             }
            },
            "type": "barpolar"
           }
          ],
          "carpet": [
           {
            "aaxis": {
             "endlinecolor": "#2a3f5f",
             "gridcolor": "white",
             "linecolor": "white",
             "minorgridcolor": "white",
             "startlinecolor": "#2a3f5f"
            },
            "baxis": {
             "endlinecolor": "#2a3f5f",
             "gridcolor": "white",
             "linecolor": "white",
             "minorgridcolor": "white",
             "startlinecolor": "#2a3f5f"
            },
            "type": "carpet"
           }
          ],
          "choropleth": [
           {
            "colorbar": {
             "outlinewidth": 0,
             "ticks": ""
            },
            "type": "choropleth"
           }
          ],
          "contour": [
           {
            "colorbar": {
             "outlinewidth": 0,
             "ticks": ""
            },
            "colorscale": [
             [
              0,
              "#0d0887"
             ],
             [
              0.1111111111111111,
              "#46039f"
             ],
             [
              0.2222222222222222,
              "#7201a8"
             ],
             [
              0.3333333333333333,
              "#9c179e"
             ],
             [
              0.4444444444444444,
              "#bd3786"
             ],
             [
              0.5555555555555556,
              "#d8576b"
             ],
             [
              0.6666666666666666,
              "#ed7953"
             ],
             [
              0.7777777777777778,
              "#fb9f3a"
             ],
             [
              0.8888888888888888,
              "#fdca26"
             ],
             [
              1,
              "#f0f921"
             ]
            ],
            "type": "contour"
           }
          ],
          "contourcarpet": [
           {
            "colorbar": {
             "outlinewidth": 0,
             "ticks": ""
            },
            "type": "contourcarpet"
           }
          ],
          "heatmap": [
           {
            "colorbar": {
             "outlinewidth": 0,
             "ticks": ""
            },
            "colorscale": [
             [
              0,
              "#0d0887"
             ],
             [
              0.1111111111111111,
              "#46039f"
             ],
             [
              0.2222222222222222,
              "#7201a8"
             ],
             [
              0.3333333333333333,
              "#9c179e"
             ],
             [
              0.4444444444444444,
              "#bd3786"
             ],
             [
              0.5555555555555556,
              "#d8576b"
             ],
             [
              0.6666666666666666,
              "#ed7953"
             ],
             [
              0.7777777777777778,
              "#fb9f3a"
             ],
             [
              0.8888888888888888,
              "#fdca26"
             ],
             [
              1,
              "#f0f921"
             ]
            ],
            "type": "heatmap"
           }
          ],
          "histogram": [
           {
            "marker": {
             "pattern": {
              "fillmode": "overlay",
              "size": 10,
              "solidity": 0.2
             }
            },
            "type": "histogram"
           }
          ],
          "histogram2d": [
           {
            "colorbar": {
             "outlinewidth": 0,
             "ticks": ""
            },
            "colorscale": [
             [
              0,
              "#0d0887"
             ],
             [
              0.1111111111111111,
              "#46039f"
             ],
             [
              0.2222222222222222,
              "#7201a8"
             ],
             [
              0.3333333333333333,
              "#9c179e"
             ],
             [
              0.4444444444444444,
              "#bd3786"
             ],
             [
              0.5555555555555556,
              "#d8576b"
             ],
             [
              0.6666666666666666,
              "#ed7953"
             ],
             [
              0.7777777777777778,
              "#fb9f3a"
             ],
             [
              0.8888888888888888,
              "#fdca26"
             ],
             [
              1,
              "#f0f921"
             ]
            ],
            "type": "histogram2d"
           }
          ],
          "histogram2dcontour": [
           {
            "colorbar": {
             "outlinewidth": 0,
             "ticks": ""
            },
            "colorscale": [
             [
              0,
              "#0d0887"
             ],
             [
              0.1111111111111111,
              "#46039f"
             ],
             [
              0.2222222222222222,
              "#7201a8"
             ],
             [
              0.3333333333333333,
              "#9c179e"
             ],
             [
              0.4444444444444444,
              "#bd3786"
             ],
             [
              0.5555555555555556,
              "#d8576b"
             ],
             [
              0.6666666666666666,
              "#ed7953"
             ],
             [
              0.7777777777777778,
              "#fb9f3a"
             ],
             [
              0.8888888888888888,
              "#fdca26"
             ],
             [
              1,
              "#f0f921"
             ]
            ],
            "type": "histogram2dcontour"
           }
          ],
          "mesh3d": [
           {
            "colorbar": {
             "outlinewidth": 0,
             "ticks": ""
            },
            "type": "mesh3d"
           }
          ],
          "parcoords": [
           {
            "line": {
             "colorbar": {
              "outlinewidth": 0,
              "ticks": ""
             }
            },
            "type": "parcoords"
           }
          ],
          "pie": [
           {
            "automargin": true,
            "type": "pie"
           }
          ],
          "scatter": [
           {
            "fillpattern": {
             "fillmode": "overlay",
             "size": 10,
             "solidity": 0.2
            },
            "type": "scatter"
           }
          ],
          "scatter3d": [
           {
            "line": {
             "colorbar": {
              "outlinewidth": 0,
              "ticks": ""
             }
            },
            "marker": {
             "colorbar": {
              "outlinewidth": 0,
              "ticks": ""
             }
            },
            "type": "scatter3d"
           }
          ],
          "scattercarpet": [
           {
            "marker": {
             "colorbar": {
              "outlinewidth": 0,
              "ticks": ""
             }
            },
            "type": "scattercarpet"
           }
          ],
          "scattergeo": [
           {
            "marker": {
             "colorbar": {
              "outlinewidth": 0,
              "ticks": ""
             }
            },
            "type": "scattergeo"
           }
          ],
          "scattergl": [
           {
            "marker": {
             "colorbar": {
              "outlinewidth": 0,
              "ticks": ""
             }
            },
            "type": "scattergl"
           }
          ],
          "scattermap": [
           {
            "marker": {
             "colorbar": {
              "outlinewidth": 0,
              "ticks": ""
             }
            },
            "type": "scattermap"
           }
          ],
          "scattermapbox": [
           {
            "marker": {
             "colorbar": {
              "outlinewidth": 0,
              "ticks": ""
             }
            },
            "type": "scattermapbox"
           }
          ],
          "scatterpolar": [
           {
            "marker": {
             "colorbar": {
              "outlinewidth": 0,
              "ticks": ""
             }
            },
            "type": "scatterpolar"
           }
          ],
          "scatterpolargl": [
           {
            "marker": {
             "colorbar": {
              "outlinewidth": 0,
              "ticks": ""
             }
            },
            "type": "scatterpolargl"
           }
          ],
          "scatterternary": [
           {
            "marker": {
             "colorbar": {
              "outlinewidth": 0,
              "ticks": ""
             }
            },
            "type": "scatterternary"
           }
          ],
          "surface": [
           {
            "colorbar": {
             "outlinewidth": 0,
             "ticks": ""
            },
            "colorscale": [
             [
              0,
              "#0d0887"
             ],
             [
              0.1111111111111111,
              "#46039f"
             ],
             [
              0.2222222222222222,
              "#7201a8"
             ],
             [
              0.3333333333333333,
              "#9c179e"
             ],
             [
              0.4444444444444444,
              "#bd3786"
             ],
             [
              0.5555555555555556,
              "#d8576b"
             ],
             [
              0.6666666666666666,
              "#ed7953"
             ],
             [
              0.7777777777777778,
              "#fb9f3a"
             ],
             [
              0.8888888888888888,
              "#fdca26"
             ],
             [
              1,
              "#f0f921"
             ]
            ],
            "type": "surface"
           }
          ],
          "table": [
           {
            "cells": {
             "fill": {
              "color": "#EBF0F8"
             },
             "line": {
              "color": "white"
             }
            },
            "header": {
             "fill": {
              "color": "#C8D4E3"
             },
             "line": {
              "color": "white"
             }
            },
            "type": "table"
           }
          ]
         },
         "layout": {
          "annotationdefaults": {
           "arrowcolor": "#2a3f5f",
           "arrowhead": 0,
           "arrowwidth": 1
          },
          "autotypenumbers": "strict",
          "coloraxis": {
           "colorbar": {
            "outlinewidth": 0,
            "ticks": ""
           }
          },
          "colorscale": {
           "diverging": [
            [
             0,
             "#8e0152"
            ],
            [
             0.1,
             "#c51b7d"
            ],
            [
             0.2,
             "#de77ae"
            ],
            [
             0.3,
             "#f1b6da"
            ],
            [
             0.4,
             "#fde0ef"
            ],
            [
             0.5,
             "#f7f7f7"
            ],
            [
             0.6,
             "#e6f5d0"
            ],
            [
             0.7,
             "#b8e186"
            ],
            [
             0.8,
             "#7fbc41"
            ],
            [
             0.9,
             "#4d9221"
            ],
            [
             1,
             "#276419"
            ]
           ],
           "sequential": [
            [
             0,
             "#0d0887"
            ],
            [
             0.1111111111111111,
             "#46039f"
            ],
            [
             0.2222222222222222,
             "#7201a8"
            ],
            [
             0.3333333333333333,
             "#9c179e"
            ],
            [
             0.4444444444444444,
             "#bd3786"
            ],
            [
             0.5555555555555556,
             "#d8576b"
            ],
            [
             0.6666666666666666,
             "#ed7953"
            ],
            [
             0.7777777777777778,
             "#fb9f3a"
            ],
            [
             0.8888888888888888,
             "#fdca26"
            ],
            [
             1,
             "#f0f921"
            ]
           ],
           "sequentialminus": [
            [
             0,
             "#0d0887"
            ],
            [
             0.1111111111111111,
             "#46039f"
            ],
            [
             0.2222222222222222,
             "#7201a8"
            ],
            [
             0.3333333333333333,
             "#9c179e"
            ],
            [
             0.4444444444444444,
             "#bd3786"
            ],
            [
             0.5555555555555556,
             "#d8576b"
            ],
            [
             0.6666666666666666,
             "#ed7953"
            ],
            [
             0.7777777777777778,
             "#fb9f3a"
            ],
            [
             0.8888888888888888,
             "#fdca26"
            ],
            [
             1,
             "#f0f921"
            ]
           ]
          },
          "colorway": [
           "#636efa",
           "#EF553B",
           "#00cc96",
           "#ab63fa",
           "#FFA15A",
           "#19d3f3",
           "#FF6692",
           "#B6E880",
           "#FF97FF",
           "#FECB52"
          ],
          "font": {
           "color": "#2a3f5f"
          },
          "geo": {
           "bgcolor": "white",
           "lakecolor": "white",
           "landcolor": "#E5ECF6",
           "showlakes": true,
           "showland": true,
           "subunitcolor": "white"
          },
          "hoverlabel": {
           "align": "left"
          },
          "hovermode": "closest",
          "mapbox": {
           "style": "light"
          },
          "paper_bgcolor": "white",
          "plot_bgcolor": "#E5ECF6",
          "polar": {
           "angularaxis": {
            "gridcolor": "white",
            "linecolor": "white",
            "ticks": ""
           },
           "bgcolor": "#E5ECF6",
           "radialaxis": {
            "gridcolor": "white",
            "linecolor": "white",
            "ticks": ""
           }
          },
          "scene": {
           "xaxis": {
            "backgroundcolor": "#E5ECF6",
            "gridcolor": "white",
            "gridwidth": 2,
            "linecolor": "white",
            "showbackground": true,
            "ticks": "",
            "zerolinecolor": "white"
           },
           "yaxis": {
            "backgroundcolor": "#E5ECF6",
            "gridcolor": "white",
            "gridwidth": 2,
            "linecolor": "white",
            "showbackground": true,
            "ticks": "",
            "zerolinecolor": "white"
           },
           "zaxis": {
            "backgroundcolor": "#E5ECF6",
            "gridcolor": "white",
            "gridwidth": 2,
            "linecolor": "white",
            "showbackground": true,
            "ticks": "",
            "zerolinecolor": "white"
           }
          },
          "shapedefaults": {
           "line": {
            "color": "#2a3f5f"
           }
          },
          "ternary": {
           "aaxis": {
            "gridcolor": "white",
            "linecolor": "white",
            "ticks": ""
           },
           "baxis": {
            "gridcolor": "white",
            "linecolor": "white",
            "ticks": ""
           },
           "bgcolor": "#E5ECF6",
           "caxis": {
            "gridcolor": "white",
            "linecolor": "white",
            "ticks": ""
           }
          },
          "title": {
           "x": 0.05
          },
          "xaxis": {
           "automargin": true,
           "gridcolor": "white",
           "linecolor": "white",
           "ticks": "",
           "title": {
            "standoff": 15
           },
           "zerolinecolor": "white",
           "zerolinewidth": 2
          },
          "yaxis": {
           "automargin": true,
           "gridcolor": "white",
           "linecolor": "white",
           "ticks": "",
           "title": {
            "standoff": 15
           },
           "zerolinecolor": "white",
           "zerolinewidth": 2
          }
         }
        },
        "title": {
         "text": "Szanse na zwycięstwo z danym traitem"
        },
        "xaxis": {
         "anchor": "y",
         "domain": [
          0,
          1
         ],
         "tickangle": -45,
         "title": {
          "text": "Trait"
         }
        },
        "yaxis": {
         "anchor": "x",
         "domain": [
          0,
          1
         ],
         "title": {
          "text": "% wygranych"
         }
        }
       }
      }
     },
     "metadata": {},
     "output_type": "display_data"
    }
   ],
   "source": [
    "df_full = df.merge(players_df[['match_id', 'puuid', 'placement']], on=['match_id', 'puuid'], how='left')\n",
    "\n",
    "used_traits = df_full.copy()\n",
    "\n",
    "winners = used_traits[used_traits['placement'] == 1]\n",
    "winner_count = winners['trait_name'].value_counts().reset_index()\n",
    "winner_count.columns = ['trait_name', 'wins']\n",
    "\n",
    "total_used = used_traits['trait_name'].value_counts().reset_index()\n",
    "total_used.columns = ['trait_name', 'total_uses']\n",
    "\n",
    "win_rate = winner_count.merge(total_used, on='trait_name', how='left')\n",
    "win_rate['win_percent'] = (win_rate['wins'] / win_rate['total_uses'] * 100).round(1)\n",
    "\n",
    "filtered = win_rate[win_rate['total_uses'] >= 50].sort_values(by='win_percent', ascending=False).head(15)\n",
    "\n",
    "avg_winrate = filtered['win_percent'].mean()\n",
    "\n",
    "import plotly.express as px\n",
    "import plotly.graph_objects as go\n",
    "\n",
    "fig = px.bar(\n",
    "    filtered,\n",
    "    x='trait_name',\n",
    "    y='win_percent',\n",
    "    color='total_uses',\n",
    "    text='win_percent',\n",
    "    labels={\n",
    "        'trait_name': 'Trait',\n",
    "        'win_percent': '% wygranych',\n",
    "        'total_uses': 'Liczba użyć'\n",
    "    },\n",
    "    title='Szanse na zwycięstwo z danym traitem',\n",
    "    color_continuous_scale='Sunsetdark'\n",
    ")\n",
    "\n",
    "fig.add_shape(\n",
    "    type='line',\n",
    "    x0=-0.5,\n",
    "    x1=len(filtered)-0.5,\n",
    "    y0=avg_winrate,\n",
    "    y1=avg_winrate,\n",
    "    line=dict(color='red', width=2, dash='dash')\n",
    ")\n",
    "\n",
    "fig.add_annotation(\n",
    "    x=len(filtered)-1,\n",
    "    y=avg_winrate,\n",
    "    text=f\"Średnia: {avg_winrate:.1f}%\",\n",
    "    showarrow=False,\n",
    "    font=dict(color='red', size=12),\n",
    "    yshift=10\n",
    ")\n",
    "\n",
    "fig.update_traces(texttemplate='%{text:.1f}%', textposition='outside')\n",
    "fig.update_layout(\n",
    "    xaxis_tickangle=-45,\n",
    "    yaxis_title='% wygranych',\n",
    "    height=600\n",
    ")\n",
    "\n",
    "fig.show()\n",
    "\n"
   ]
  },
  {
   "cell_type": "markdown",
   "id": "7d64e2cc",
   "metadata": {},
   "source": [
    "W analizie skuteczności traitów bez uwzględniania ich maksowania najlepiej wypadają Virus, ViegoUniqueTrait i Overlord, które znacząco przekraczają średnią wygranych (15,8%), osiągając nawet ponad 23%. Większość pozostałych traitów plasuje się poniżej tej średniej, co sugeruje, że choć są często używane, niekoniecznie przekładają się na zwycięstwa."
   ]
  },
  {
   "cell_type": "code",
   "execution_count": 50,
   "id": "7ebaaa0b",
   "metadata": {},
   "outputs": [
    {
     "data": {
      "application/vnd.plotly.v1+json": {
       "config": {
        "plotlyServerURL": "https://plot.ly"
       },
       "data": [
        {
         "cells": {
          "align": "center",
          "fill": {
           "color": "lavender"
          },
          "font": {
           "color": "black",
           "size": 12
          },
          "height": 26,
          "values": [
           [
            "TFT14_Virus",
            "TFT14_ViegoUniqueTrait",
            "TFT14_Overlord",
            "TFT14_Netgod",
            "TFT14_Divinicorp",
            "TFT14_Supercharge",
            "TFT14_Cyberboss",
            "TFT14_Cutter",
            "TFT14_Immortal",
            "TFT14_Vanguard",
            "TFT14_AnimaSquad",
            "TFT14_Bruiser",
            "TFT14_Thirsty",
            "TFT14_Techie",
            "TFT14_Strong",
            "TFT14_Armorclad",
            "TFT14_Swift",
            "TFT14_Marksman",
            "TFT14_HotRod",
            "TFT14_EdgeRunner",
            "TFT14_Controller",
            "TFT14_BallisTek",
            "TFT14_StreetDemon",
            "TFT14_Mob",
            "TFT14_Suits"
           ],
           [
            3.81,
            3.71,
            3.57,
            3.94,
            4.25,
            4.39,
            4.35,
            4.43,
            4.29,
            4.37,
            4.35,
            4.41,
            4.28,
            4.49,
            4.45,
            4.49,
            4.51,
            4.46,
            4.55,
            4.5,
            4.55,
            4.46,
            4.54,
            4.34,
            4.56
           ],
           [
            "23.5%",
            "22.4%",
            "21.7%",
            "19.2%",
            "14.5%",
            "14.4%",
            "14.1%",
            "14.0%",
            "13.8%",
            "13.7%",
            "13.5%",
            "13.3%",
            "13.3%",
            "13.2%",
            "13.0%",
            "13.0%",
            "12.9%",
            "12.7%",
            "12.6%",
            "12.6%",
            "12.4%",
            "12.1%",
            "11.9%",
            "11.6%",
            "11.5%"
           ],
           [
            "Lvl 0 (2) | Lvl 1 (245)",
            "Lvl 1 (335)",
            "Lvl 0 (2) | Lvl 1 (472)",
            "Lvl 1 (240)",
            "Lvl 0 (3) | Lvl 1 (820) | Lvl 2 (291) | Lvl 3 (146) | Lvl 4 (60) | Lvl 5 (39) | Lvl 6 (48) | Lvl 7 (28)",
            "Lvl 0 (745) | Lvl 1 (146) | Lvl 2 (23) | Lvl 3 (60) | Lvl 4 (96)",
            "Lvl 0 (574) | Lvl 1 (171) | Lvl 2 (65) | Lvl 3 (77)",
            "Lvl 0 (578) | Lvl 1 (190) | Lvl 2 (40) | Lvl 3 (23) | Lvl 4 (24)",
            "Lvl 0 (784) | Lvl 1 (233) | Lvl 2 (61) | Lvl 3 (112)",
            "Lvl 0 (405) | Lvl 1 (722) | Lvl 2 (211) | Lvl 3 (81)",
            "Lvl 0 (1011) | Lvl 1 (208) | Lvl 2 (45) | Lvl 3 (203) | Lvl 4 (6)",
            "Lvl 0 (716) | Lvl 1 (822) | Lvl 2 (117) | Lvl 3 (74)",
            "Lvl 0 (676) | Lvl 1 (335) | Lvl 2 (151) | Lvl 3 (169)",
            "Lvl 0 (861) | Lvl 1 (577) | Lvl 2 (95) | Lvl 3 (55) | Lvl 4 (36)",
            "Lvl 0 (978) | Lvl 1 (276) | Lvl 2 (105) | Lvl 3 (103)",
            "Lvl 0 (524) | Lvl 1 (663) | Lvl 2 (152) | Lvl 3 (98)",
            "Lvl 0 (469) | Lvl 1 (382) | Lvl 2 (49) | Lvl 3 (29)",
            "Lvl 0 (820) | Lvl 1 (375) | Lvl 2 (134)",
            "Lvl 0 (695) | Lvl 1 (25) | Lvl 2 (230)",
            "Lvl 0 (1094) | Lvl 1 (271) | Lvl 2 (108) | Lvl 3 (98)",
            "Lvl 0 (463) | Lvl 1 (158) | Lvl 2 (135) | Lvl 3 (98) | Lvl 4 (77)",
            "Lvl 0 (410) | Lvl 1 (176) | Lvl 2 (112) | Lvl 3 (40)",
            "Lvl 0 (691) | Lvl 1 (181) | Lvl 2 (69) | Lvl 3 (177) | Lvl 4 (5)",
            "Lvl 0 (487) | Lvl 1 (216) | Lvl 2 (144) | Lvl 3 (8)",
            "Lvl 0 (636) | Lvl 1 (41) | Lvl 2 (18) | Lvl 3 (52)"
           ],
           [
            247,
            335,
            474,
            240,
            1435,
            1070,
            887,
            855,
            1190,
            1419,
            1473,
            1729,
            1331,
            1624,
            1462,
            1437,
            929,
            1329,
            950,
            1571,
            931,
            738,
            1123,
            855,
            747
           ]
          ]
         },
         "header": {
          "align": "center",
          "fill": {
           "color": "#1a1a1a"
          },
          "font": {
           "color": "white",
           "size": 13
          },
          "height": 32,
          "values": [
           "Trait",
           "Avg Place",
           "Winrate",
           "Levels",
           "Frequency"
          ]
         },
         "type": "table"
        }
       ],
       "layout": {
        "height": 800,
        "margin": {
         "b": 0,
         "l": 0,
         "r": 0,
         "t": 60
        },
        "template": {
         "data": {
          "bar": [
           {
            "error_x": {
             "color": "#2a3f5f"
            },
            "error_y": {
             "color": "#2a3f5f"
            },
            "marker": {
             "line": {
              "color": "#E5ECF6",
              "width": 0.5
             },
             "pattern": {
              "fillmode": "overlay",
              "size": 10,
              "solidity": 0.2
             }
            },
            "type": "bar"
           }
          ],
          "barpolar": [
           {
            "marker": {
             "line": {
              "color": "#E5ECF6",
              "width": 0.5
             },
             "pattern": {
              "fillmode": "overlay",
              "size": 10,
              "solidity": 0.2
             }
            },
            "type": "barpolar"
           }
          ],
          "carpet": [
           {
            "aaxis": {
             "endlinecolor": "#2a3f5f",
             "gridcolor": "white",
             "linecolor": "white",
             "minorgridcolor": "white",
             "startlinecolor": "#2a3f5f"
            },
            "baxis": {
             "endlinecolor": "#2a3f5f",
             "gridcolor": "white",
             "linecolor": "white",
             "minorgridcolor": "white",
             "startlinecolor": "#2a3f5f"
            },
            "type": "carpet"
           }
          ],
          "choropleth": [
           {
            "colorbar": {
             "outlinewidth": 0,
             "ticks": ""
            },
            "type": "choropleth"
           }
          ],
          "contour": [
           {
            "colorbar": {
             "outlinewidth": 0,
             "ticks": ""
            },
            "colorscale": [
             [
              0,
              "#0d0887"
             ],
             [
              0.1111111111111111,
              "#46039f"
             ],
             [
              0.2222222222222222,
              "#7201a8"
             ],
             [
              0.3333333333333333,
              "#9c179e"
             ],
             [
              0.4444444444444444,
              "#bd3786"
             ],
             [
              0.5555555555555556,
              "#d8576b"
             ],
             [
              0.6666666666666666,
              "#ed7953"
             ],
             [
              0.7777777777777778,
              "#fb9f3a"
             ],
             [
              0.8888888888888888,
              "#fdca26"
             ],
             [
              1,
              "#f0f921"
             ]
            ],
            "type": "contour"
           }
          ],
          "contourcarpet": [
           {
            "colorbar": {
             "outlinewidth": 0,
             "ticks": ""
            },
            "type": "contourcarpet"
           }
          ],
          "heatmap": [
           {
            "colorbar": {
             "outlinewidth": 0,
             "ticks": ""
            },
            "colorscale": [
             [
              0,
              "#0d0887"
             ],
             [
              0.1111111111111111,
              "#46039f"
             ],
             [
              0.2222222222222222,
              "#7201a8"
             ],
             [
              0.3333333333333333,
              "#9c179e"
             ],
             [
              0.4444444444444444,
              "#bd3786"
             ],
             [
              0.5555555555555556,
              "#d8576b"
             ],
             [
              0.6666666666666666,
              "#ed7953"
             ],
             [
              0.7777777777777778,
              "#fb9f3a"
             ],
             [
              0.8888888888888888,
              "#fdca26"
             ],
             [
              1,
              "#f0f921"
             ]
            ],
            "type": "heatmap"
           }
          ],
          "histogram": [
           {
            "marker": {
             "pattern": {
              "fillmode": "overlay",
              "size": 10,
              "solidity": 0.2
             }
            },
            "type": "histogram"
           }
          ],
          "histogram2d": [
           {
            "colorbar": {
             "outlinewidth": 0,
             "ticks": ""
            },
            "colorscale": [
             [
              0,
              "#0d0887"
             ],
             [
              0.1111111111111111,
              "#46039f"
             ],
             [
              0.2222222222222222,
              "#7201a8"
             ],
             [
              0.3333333333333333,
              "#9c179e"
             ],
             [
              0.4444444444444444,
              "#bd3786"
             ],
             [
              0.5555555555555556,
              "#d8576b"
             ],
             [
              0.6666666666666666,
              "#ed7953"
             ],
             [
              0.7777777777777778,
              "#fb9f3a"
             ],
             [
              0.8888888888888888,
              "#fdca26"
             ],
             [
              1,
              "#f0f921"
             ]
            ],
            "type": "histogram2d"
           }
          ],
          "histogram2dcontour": [
           {
            "colorbar": {
             "outlinewidth": 0,
             "ticks": ""
            },
            "colorscale": [
             [
              0,
              "#0d0887"
             ],
             [
              0.1111111111111111,
              "#46039f"
             ],
             [
              0.2222222222222222,
              "#7201a8"
             ],
             [
              0.3333333333333333,
              "#9c179e"
             ],
             [
              0.4444444444444444,
              "#bd3786"
             ],
             [
              0.5555555555555556,
              "#d8576b"
             ],
             [
              0.6666666666666666,
              "#ed7953"
             ],
             [
              0.7777777777777778,
              "#fb9f3a"
             ],
             [
              0.8888888888888888,
              "#fdca26"
             ],
             [
              1,
              "#f0f921"
             ]
            ],
            "type": "histogram2dcontour"
           }
          ],
          "mesh3d": [
           {
            "colorbar": {
             "outlinewidth": 0,
             "ticks": ""
            },
            "type": "mesh3d"
           }
          ],
          "parcoords": [
           {
            "line": {
             "colorbar": {
              "outlinewidth": 0,
              "ticks": ""
             }
            },
            "type": "parcoords"
           }
          ],
          "pie": [
           {
            "automargin": true,
            "type": "pie"
           }
          ],
          "scatter": [
           {
            "fillpattern": {
             "fillmode": "overlay",
             "size": 10,
             "solidity": 0.2
            },
            "type": "scatter"
           }
          ],
          "scatter3d": [
           {
            "line": {
             "colorbar": {
              "outlinewidth": 0,
              "ticks": ""
             }
            },
            "marker": {
             "colorbar": {
              "outlinewidth": 0,
              "ticks": ""
             }
            },
            "type": "scatter3d"
           }
          ],
          "scattercarpet": [
           {
            "marker": {
             "colorbar": {
              "outlinewidth": 0,
              "ticks": ""
             }
            },
            "type": "scattercarpet"
           }
          ],
          "scattergeo": [
           {
            "marker": {
             "colorbar": {
              "outlinewidth": 0,
              "ticks": ""
             }
            },
            "type": "scattergeo"
           }
          ],
          "scattergl": [
           {
            "marker": {
             "colorbar": {
              "outlinewidth": 0,
              "ticks": ""
             }
            },
            "type": "scattergl"
           }
          ],
          "scattermap": [
           {
            "marker": {
             "colorbar": {
              "outlinewidth": 0,
              "ticks": ""
             }
            },
            "type": "scattermap"
           }
          ],
          "scattermapbox": [
           {
            "marker": {
             "colorbar": {
              "outlinewidth": 0,
              "ticks": ""
             }
            },
            "type": "scattermapbox"
           }
          ],
          "scatterpolar": [
           {
            "marker": {
             "colorbar": {
              "outlinewidth": 0,
              "ticks": ""
             }
            },
            "type": "scatterpolar"
           }
          ],
          "scatterpolargl": [
           {
            "marker": {
             "colorbar": {
              "outlinewidth": 0,
              "ticks": ""
             }
            },
            "type": "scatterpolargl"
           }
          ],
          "scatterternary": [
           {
            "marker": {
             "colorbar": {
              "outlinewidth": 0,
              "ticks": ""
             }
            },
            "type": "scatterternary"
           }
          ],
          "surface": [
           {
            "colorbar": {
             "outlinewidth": 0,
             "ticks": ""
            },
            "colorscale": [
             [
              0,
              "#0d0887"
             ],
             [
              0.1111111111111111,
              "#46039f"
             ],
             [
              0.2222222222222222,
              "#7201a8"
             ],
             [
              0.3333333333333333,
              "#9c179e"
             ],
             [
              0.4444444444444444,
              "#bd3786"
             ],
             [
              0.5555555555555556,
              "#d8576b"
             ],
             [
              0.6666666666666666,
              "#ed7953"
             ],
             [
              0.7777777777777778,
              "#fb9f3a"
             ],
             [
              0.8888888888888888,
              "#fdca26"
             ],
             [
              1,
              "#f0f921"
             ]
            ],
            "type": "surface"
           }
          ],
          "table": [
           {
            "cells": {
             "fill": {
              "color": "#EBF0F8"
             },
             "line": {
              "color": "white"
             }
            },
            "header": {
             "fill": {
              "color": "#C8D4E3"
             },
             "line": {
              "color": "white"
             }
            },
            "type": "table"
           }
          ]
         },
         "layout": {
          "annotationdefaults": {
           "arrowcolor": "#2a3f5f",
           "arrowhead": 0,
           "arrowwidth": 1
          },
          "autotypenumbers": "strict",
          "coloraxis": {
           "colorbar": {
            "outlinewidth": 0,
            "ticks": ""
           }
          },
          "colorscale": {
           "diverging": [
            [
             0,
             "#8e0152"
            ],
            [
             0.1,
             "#c51b7d"
            ],
            [
             0.2,
             "#de77ae"
            ],
            [
             0.3,
             "#f1b6da"
            ],
            [
             0.4,
             "#fde0ef"
            ],
            [
             0.5,
             "#f7f7f7"
            ],
            [
             0.6,
             "#e6f5d0"
            ],
            [
             0.7,
             "#b8e186"
            ],
            [
             0.8,
             "#7fbc41"
            ],
            [
             0.9,
             "#4d9221"
            ],
            [
             1,
             "#276419"
            ]
           ],
           "sequential": [
            [
             0,
             "#0d0887"
            ],
            [
             0.1111111111111111,
             "#46039f"
            ],
            [
             0.2222222222222222,
             "#7201a8"
            ],
            [
             0.3333333333333333,
             "#9c179e"
            ],
            [
             0.4444444444444444,
             "#bd3786"
            ],
            [
             0.5555555555555556,
             "#d8576b"
            ],
            [
             0.6666666666666666,
             "#ed7953"
            ],
            [
             0.7777777777777778,
             "#fb9f3a"
            ],
            [
             0.8888888888888888,
             "#fdca26"
            ],
            [
             1,
             "#f0f921"
            ]
           ],
           "sequentialminus": [
            [
             0,
             "#0d0887"
            ],
            [
             0.1111111111111111,
             "#46039f"
            ],
            [
             0.2222222222222222,
             "#7201a8"
            ],
            [
             0.3333333333333333,
             "#9c179e"
            ],
            [
             0.4444444444444444,
             "#bd3786"
            ],
            [
             0.5555555555555556,
             "#d8576b"
            ],
            [
             0.6666666666666666,
             "#ed7953"
            ],
            [
             0.7777777777777778,
             "#fb9f3a"
            ],
            [
             0.8888888888888888,
             "#fdca26"
            ],
            [
             1,
             "#f0f921"
            ]
           ]
          },
          "colorway": [
           "#636efa",
           "#EF553B",
           "#00cc96",
           "#ab63fa",
           "#FFA15A",
           "#19d3f3",
           "#FF6692",
           "#B6E880",
           "#FF97FF",
           "#FECB52"
          ],
          "font": {
           "color": "#2a3f5f"
          },
          "geo": {
           "bgcolor": "white",
           "lakecolor": "white",
           "landcolor": "#E5ECF6",
           "showlakes": true,
           "showland": true,
           "subunitcolor": "white"
          },
          "hoverlabel": {
           "align": "left"
          },
          "hovermode": "closest",
          "mapbox": {
           "style": "light"
          },
          "paper_bgcolor": "white",
          "plot_bgcolor": "#E5ECF6",
          "polar": {
           "angularaxis": {
            "gridcolor": "white",
            "linecolor": "white",
            "ticks": ""
           },
           "bgcolor": "#E5ECF6",
           "radialaxis": {
            "gridcolor": "white",
            "linecolor": "white",
            "ticks": ""
           }
          },
          "scene": {
           "xaxis": {
            "backgroundcolor": "#E5ECF6",
            "gridcolor": "white",
            "gridwidth": 2,
            "linecolor": "white",
            "showbackground": true,
            "ticks": "",
            "zerolinecolor": "white"
           },
           "yaxis": {
            "backgroundcolor": "#E5ECF6",
            "gridcolor": "white",
            "gridwidth": 2,
            "linecolor": "white",
            "showbackground": true,
            "ticks": "",
            "zerolinecolor": "white"
           },
           "zaxis": {
            "backgroundcolor": "#E5ECF6",
            "gridcolor": "white",
            "gridwidth": 2,
            "linecolor": "white",
            "showbackground": true,
            "ticks": "",
            "zerolinecolor": "white"
           }
          },
          "shapedefaults": {
           "line": {
            "color": "#2a3f5f"
           }
          },
          "ternary": {
           "aaxis": {
            "gridcolor": "white",
            "linecolor": "white",
            "ticks": ""
           },
           "baxis": {
            "gridcolor": "white",
            "linecolor": "white",
            "ticks": ""
           },
           "bgcolor": "#E5ECF6",
           "caxis": {
            "gridcolor": "white",
            "linecolor": "white",
            "ticks": ""
           }
          },
          "title": {
           "x": 0.05
          },
          "xaxis": {
           "automargin": true,
           "gridcolor": "white",
           "linecolor": "white",
           "ticks": "",
           "title": {
            "standoff": 15
           },
           "zerolinecolor": "white",
           "zerolinewidth": 2
          },
          "yaxis": {
           "automargin": true,
           "gridcolor": "white",
           "linecolor": "white",
           "ticks": "",
           "title": {
            "standoff": 15
           },
           "zerolinecolor": "white",
           "zerolinewidth": 2
          }
         }
        }
       }
      }
     },
     "metadata": {},
     "output_type": "display_data"
    }
   ],
   "source": [
    "\n",
    "\n",
    "df_full = df.merge(players_df[['match_id', 'puuid', 'placement']], on=['match_id', 'puuid'], how='left')\n",
    "\n",
    "df_tft14 = df_full[df_full['trait_name'].str.startswith('TFT14_')].copy()\n",
    "\n",
    "grouped = df_tft14.groupby('trait_name')\n",
    "summary = grouped.agg(\n",
    "    avg_placement=('placement', 'mean'),\n",
    "    total_uses=('trait_name', 'count'),\n",
    "    wins=('placement', lambda x: (x == 1).sum())\n",
    ").reset_index()\n",
    "\n",
    "summary['winrate'] = (summary['wins'] / summary['total_uses'] * 100).round(1)\n",
    "summary['avg_placement'] = summary['avg_placement'].round(2)\n",
    "\n",
    "\n",
    "level_counts = df_tft14[df_tft14['trait_name'].isin(summary['trait_name'])] \\\n",
    "    .groupby(['trait_name', 'tier_current']).size().unstack(fill_value=0)\n",
    "\n",
    "level_counts = level_counts.apply(\n",
    "    lambda row: ' | '.join([f\"Lvl {i} ({row[i]})\" for i in row.index if row[i] > 0]), \n",
    "    axis=1\n",
    ").reset_index()\n",
    "\n",
    "summary = summary.merge(level_counts, on='trait_name', how='left')\n",
    "summary.rename(columns={0: 'levels'}, inplace=True)\n",
    "final = summary[['trait_name', 'avg_placement', 'winrate', 'levels', 'total_uses']]\n",
    "final = final.sort_values(by='winrate', ascending=False).reset_index(drop=True)\n",
    "\n",
    "\n",
    "fig = go.Figure(data=[go.Table(\n",
    "    header=dict(\n",
    "        values=[\"Trait\", \"Avg Place\", \"Winrate\", \"Levels\", \"Frequency\"],\n",
    "        fill_color='#1a1a1a',\n",
    "        font=dict(color='white', size=13),\n",
    "        align='center',\n",
    "        height=32\n",
    "    ),\n",
    "    cells=dict(\n",
    "        values=[\n",
    "            final['trait_name'],\n",
    "            final['avg_placement'],\n",
    "            final['winrate'].astype(str) + '%',\n",
    "            final['levels'],\n",
    "            final['total_uses']\n",
    "        ],\n",
    "        fill_color='lavender',\n",
    "        align='center',\n",
    "        font=dict(color='black', size=12),\n",
    "        height=26\n",
    "    )\n",
    ")])\n",
    "\n",
    "fig.update_layout(\n",
    "    height=800,\n",
    "    margin=dict(t=60, l=0, r=0, b=0)\n",
    ")\n",
    "\n",
    "fig.show()\n"
   ]
  },
  {
   "cell_type": "markdown",
   "id": "be925853",
   "metadata": {},
   "source": [
    "Virus, ViegoUniqueTrait i Overlord mają najwyższy winrate, mimo że najczęściej występują tylko na poziomie 1. Divinicorp, Thirsty i inne traity aktywowane na wyższych poziomach mają znacznie niższą skuteczność. Maksowanie traitu nie gwarantuje lepszego wyniku – liczy się jego realna wartość w grze. Rzadkie, ale silne traity są bardziej opłacalne niż popularne i rozbudowane, ale przeciętne."
   ]
  },
  {
   "cell_type": "code",
   "execution_count": 51,
   "id": "10a1b159",
   "metadata": {},
   "outputs": [
    {
     "data": {
      "application/vnd.plotly.v1+json": {
       "config": {
        "plotlyServerURL": "https://plot.ly"
       },
       "data": [
        {
         "line": {
          "color": "royalblue",
          "width": 2
         },
         "marker": {
          "color": "royalblue",
          "size": 8
         },
         "mode": "lines+markers",
         "name": "Traity",
         "type": "scatter",
         "x": {
          "bdata": "j8L1KFyPDECuR+F6FK4NQHsUrkfheg5AhetRuB6FD0AAAAAAAAARQB+F61G4HhFAKVyPwvUoEUBcj8L1KFwRQGZmZmZmZhFAZmZmZmZmEUB7FK5H4XoRQI/C9ShcjxFApHA9CtejEUC4HoXrUbgRQM3MzMzMzBFA16NwPQrXEUDXo3A9CtcRQPYoXI/C9RFA9ihcj8L1EUAAAAAAAAASQArXo3A9ChJAKVyPwvUoEkAzMzMzMzMSQDMzMzMzMxJAPQrXo3A9EkA=",
          "dtype": "f8"
         },
         "y": {
          "bdata": "MzMzMzOzNUBmZmZmZmY2QAAAAAAAgDdAMzMzMzMzM0AAAAAAAAAtQJqZmZmZmSpAmpmZmZmZK0AzMzMzMzMnQAAAAAAAACtAMzMzMzMzLEBmZmZmZmYrQM3MzMzMzCxAmpmZmZmZKkAAAAAAAAAsQAAAAAAAACpAZmZmZmZmKUAzMzMzMzMoQGZmZmZmZipAAAAAAAAAKkAzMzMzMzMpQM3MzMzMzClAzczMzMzMJ0AzMzMzMzMpQM3MzMzMzChAAAAAAAAAJ0A=",
          "dtype": "f8"
         }
        }
       ],
       "layout": {
        "height": 600,
        "margin": {
         "b": 60,
         "l": 60,
         "r": 40,
         "t": 80
        },
        "plot_bgcolor": "white",
        "template": {
         "data": {
          "bar": [
           {
            "error_x": {
             "color": "#2a3f5f"
            },
            "error_y": {
             "color": "#2a3f5f"
            },
            "marker": {
             "line": {
              "color": "#E5ECF6",
              "width": 0.5
             },
             "pattern": {
              "fillmode": "overlay",
              "size": 10,
              "solidity": 0.2
             }
            },
            "type": "bar"
           }
          ],
          "barpolar": [
           {
            "marker": {
             "line": {
              "color": "#E5ECF6",
              "width": 0.5
             },
             "pattern": {
              "fillmode": "overlay",
              "size": 10,
              "solidity": 0.2
             }
            },
            "type": "barpolar"
           }
          ],
          "carpet": [
           {
            "aaxis": {
             "endlinecolor": "#2a3f5f",
             "gridcolor": "white",
             "linecolor": "white",
             "minorgridcolor": "white",
             "startlinecolor": "#2a3f5f"
            },
            "baxis": {
             "endlinecolor": "#2a3f5f",
             "gridcolor": "white",
             "linecolor": "white",
             "minorgridcolor": "white",
             "startlinecolor": "#2a3f5f"
            },
            "type": "carpet"
           }
          ],
          "choropleth": [
           {
            "colorbar": {
             "outlinewidth": 0,
             "ticks": ""
            },
            "type": "choropleth"
           }
          ],
          "contour": [
           {
            "colorbar": {
             "outlinewidth": 0,
             "ticks": ""
            },
            "colorscale": [
             [
              0,
              "#0d0887"
             ],
             [
              0.1111111111111111,
              "#46039f"
             ],
             [
              0.2222222222222222,
              "#7201a8"
             ],
             [
              0.3333333333333333,
              "#9c179e"
             ],
             [
              0.4444444444444444,
              "#bd3786"
             ],
             [
              0.5555555555555556,
              "#d8576b"
             ],
             [
              0.6666666666666666,
              "#ed7953"
             ],
             [
              0.7777777777777778,
              "#fb9f3a"
             ],
             [
              0.8888888888888888,
              "#fdca26"
             ],
             [
              1,
              "#f0f921"
             ]
            ],
            "type": "contour"
           }
          ],
          "contourcarpet": [
           {
            "colorbar": {
             "outlinewidth": 0,
             "ticks": ""
            },
            "type": "contourcarpet"
           }
          ],
          "heatmap": [
           {
            "colorbar": {
             "outlinewidth": 0,
             "ticks": ""
            },
            "colorscale": [
             [
              0,
              "#0d0887"
             ],
             [
              0.1111111111111111,
              "#46039f"
             ],
             [
              0.2222222222222222,
              "#7201a8"
             ],
             [
              0.3333333333333333,
              "#9c179e"
             ],
             [
              0.4444444444444444,
              "#bd3786"
             ],
             [
              0.5555555555555556,
              "#d8576b"
             ],
             [
              0.6666666666666666,
              "#ed7953"
             ],
             [
              0.7777777777777778,
              "#fb9f3a"
             ],
             [
              0.8888888888888888,
              "#fdca26"
             ],
             [
              1,
              "#f0f921"
             ]
            ],
            "type": "heatmap"
           }
          ],
          "histogram": [
           {
            "marker": {
             "pattern": {
              "fillmode": "overlay",
              "size": 10,
              "solidity": 0.2
             }
            },
            "type": "histogram"
           }
          ],
          "histogram2d": [
           {
            "colorbar": {
             "outlinewidth": 0,
             "ticks": ""
            },
            "colorscale": [
             [
              0,
              "#0d0887"
             ],
             [
              0.1111111111111111,
              "#46039f"
             ],
             [
              0.2222222222222222,
              "#7201a8"
             ],
             [
              0.3333333333333333,
              "#9c179e"
             ],
             [
              0.4444444444444444,
              "#bd3786"
             ],
             [
              0.5555555555555556,
              "#d8576b"
             ],
             [
              0.6666666666666666,
              "#ed7953"
             ],
             [
              0.7777777777777778,
              "#fb9f3a"
             ],
             [
              0.8888888888888888,
              "#fdca26"
             ],
             [
              1,
              "#f0f921"
             ]
            ],
            "type": "histogram2d"
           }
          ],
          "histogram2dcontour": [
           {
            "colorbar": {
             "outlinewidth": 0,
             "ticks": ""
            },
            "colorscale": [
             [
              0,
              "#0d0887"
             ],
             [
              0.1111111111111111,
              "#46039f"
             ],
             [
              0.2222222222222222,
              "#7201a8"
             ],
             [
              0.3333333333333333,
              "#9c179e"
             ],
             [
              0.4444444444444444,
              "#bd3786"
             ],
             [
              0.5555555555555556,
              "#d8576b"
             ],
             [
              0.6666666666666666,
              "#ed7953"
             ],
             [
              0.7777777777777778,
              "#fb9f3a"
             ],
             [
              0.8888888888888888,
              "#fdca26"
             ],
             [
              1,
              "#f0f921"
             ]
            ],
            "type": "histogram2dcontour"
           }
          ],
          "mesh3d": [
           {
            "colorbar": {
             "outlinewidth": 0,
             "ticks": ""
            },
            "type": "mesh3d"
           }
          ],
          "parcoords": [
           {
            "line": {
             "colorbar": {
              "outlinewidth": 0,
              "ticks": ""
             }
            },
            "type": "parcoords"
           }
          ],
          "pie": [
           {
            "automargin": true,
            "type": "pie"
           }
          ],
          "scatter": [
           {
            "fillpattern": {
             "fillmode": "overlay",
             "size": 10,
             "solidity": 0.2
            },
            "type": "scatter"
           }
          ],
          "scatter3d": [
           {
            "line": {
             "colorbar": {
              "outlinewidth": 0,
              "ticks": ""
             }
            },
            "marker": {
             "colorbar": {
              "outlinewidth": 0,
              "ticks": ""
             }
            },
            "type": "scatter3d"
           }
          ],
          "scattercarpet": [
           {
            "marker": {
             "colorbar": {
              "outlinewidth": 0,
              "ticks": ""
             }
            },
            "type": "scattercarpet"
           }
          ],
          "scattergeo": [
           {
            "marker": {
             "colorbar": {
              "outlinewidth": 0,
              "ticks": ""
             }
            },
            "type": "scattergeo"
           }
          ],
          "scattergl": [
           {
            "marker": {
             "colorbar": {
              "outlinewidth": 0,
              "ticks": ""
             }
            },
            "type": "scattergl"
           }
          ],
          "scattermap": [
           {
            "marker": {
             "colorbar": {
              "outlinewidth": 0,
              "ticks": ""
             }
            },
            "type": "scattermap"
           }
          ],
          "scattermapbox": [
           {
            "marker": {
             "colorbar": {
              "outlinewidth": 0,
              "ticks": ""
             }
            },
            "type": "scattermapbox"
           }
          ],
          "scatterpolar": [
           {
            "marker": {
             "colorbar": {
              "outlinewidth": 0,
              "ticks": ""
             }
            },
            "type": "scatterpolar"
           }
          ],
          "scatterpolargl": [
           {
            "marker": {
             "colorbar": {
              "outlinewidth": 0,
              "ticks": ""
             }
            },
            "type": "scatterpolargl"
           }
          ],
          "scatterternary": [
           {
            "marker": {
             "colorbar": {
              "outlinewidth": 0,
              "ticks": ""
             }
            },
            "type": "scatterternary"
           }
          ],
          "surface": [
           {
            "colorbar": {
             "outlinewidth": 0,
             "ticks": ""
            },
            "colorscale": [
             [
              0,
              "#0d0887"
             ],
             [
              0.1111111111111111,
              "#46039f"
             ],
             [
              0.2222222222222222,
              "#7201a8"
             ],
             [
              0.3333333333333333,
              "#9c179e"
             ],
             [
              0.4444444444444444,
              "#bd3786"
             ],
             [
              0.5555555555555556,
              "#d8576b"
             ],
             [
              0.6666666666666666,
              "#ed7953"
             ],
             [
              0.7777777777777778,
              "#fb9f3a"
             ],
             [
              0.8888888888888888,
              "#fdca26"
             ],
             [
              1,
              "#f0f921"
             ]
            ],
            "type": "surface"
           }
          ],
          "table": [
           {
            "cells": {
             "fill": {
              "color": "#EBF0F8"
             },
             "line": {
              "color": "white"
             }
            },
            "header": {
             "fill": {
              "color": "#C8D4E3"
             },
             "line": {
              "color": "white"
             }
            },
            "type": "table"
           }
          ]
         },
         "layout": {
          "annotationdefaults": {
           "arrowcolor": "#2a3f5f",
           "arrowhead": 0,
           "arrowwidth": 1
          },
          "autotypenumbers": "strict",
          "coloraxis": {
           "colorbar": {
            "outlinewidth": 0,
            "ticks": ""
           }
          },
          "colorscale": {
           "diverging": [
            [
             0,
             "#8e0152"
            ],
            [
             0.1,
             "#c51b7d"
            ],
            [
             0.2,
             "#de77ae"
            ],
            [
             0.3,
             "#f1b6da"
            ],
            [
             0.4,
             "#fde0ef"
            ],
            [
             0.5,
             "#f7f7f7"
            ],
            [
             0.6,
             "#e6f5d0"
            ],
            [
             0.7,
             "#b8e186"
            ],
            [
             0.8,
             "#7fbc41"
            ],
            [
             0.9,
             "#4d9221"
            ],
            [
             1,
             "#276419"
            ]
           ],
           "sequential": [
            [
             0,
             "#0d0887"
            ],
            [
             0.1111111111111111,
             "#46039f"
            ],
            [
             0.2222222222222222,
             "#7201a8"
            ],
            [
             0.3333333333333333,
             "#9c179e"
            ],
            [
             0.4444444444444444,
             "#bd3786"
            ],
            [
             0.5555555555555556,
             "#d8576b"
            ],
            [
             0.6666666666666666,
             "#ed7953"
            ],
            [
             0.7777777777777778,
             "#fb9f3a"
            ],
            [
             0.8888888888888888,
             "#fdca26"
            ],
            [
             1,
             "#f0f921"
            ]
           ],
           "sequentialminus": [
            [
             0,
             "#0d0887"
            ],
            [
             0.1111111111111111,
             "#46039f"
            ],
            [
             0.2222222222222222,
             "#7201a8"
            ],
            [
             0.3333333333333333,
             "#9c179e"
            ],
            [
             0.4444444444444444,
             "#bd3786"
            ],
            [
             0.5555555555555556,
             "#d8576b"
            ],
            [
             0.6666666666666666,
             "#ed7953"
            ],
            [
             0.7777777777777778,
             "#fb9f3a"
            ],
            [
             0.8888888888888888,
             "#fdca26"
            ],
            [
             1,
             "#f0f921"
            ]
           ]
          },
          "colorway": [
           "#636efa",
           "#EF553B",
           "#00cc96",
           "#ab63fa",
           "#FFA15A",
           "#19d3f3",
           "#FF6692",
           "#B6E880",
           "#FF97FF",
           "#FECB52"
          ],
          "font": {
           "color": "#2a3f5f"
          },
          "geo": {
           "bgcolor": "white",
           "lakecolor": "white",
           "landcolor": "#E5ECF6",
           "showlakes": true,
           "showland": true,
           "subunitcolor": "white"
          },
          "hoverlabel": {
           "align": "left"
          },
          "hovermode": "closest",
          "mapbox": {
           "style": "light"
          },
          "paper_bgcolor": "white",
          "plot_bgcolor": "#E5ECF6",
          "polar": {
           "angularaxis": {
            "gridcolor": "white",
            "linecolor": "white",
            "ticks": ""
           },
           "bgcolor": "#E5ECF6",
           "radialaxis": {
            "gridcolor": "white",
            "linecolor": "white",
            "ticks": ""
           }
          },
          "scene": {
           "xaxis": {
            "backgroundcolor": "#E5ECF6",
            "gridcolor": "white",
            "gridwidth": 2,
            "linecolor": "white",
            "showbackground": true,
            "ticks": "",
            "zerolinecolor": "white"
           },
           "yaxis": {
            "backgroundcolor": "#E5ECF6",
            "gridcolor": "white",
            "gridwidth": 2,
            "linecolor": "white",
            "showbackground": true,
            "ticks": "",
            "zerolinecolor": "white"
           },
           "zaxis": {
            "backgroundcolor": "#E5ECF6",
            "gridcolor": "white",
            "gridwidth": 2,
            "linecolor": "white",
            "showbackground": true,
            "ticks": "",
            "zerolinecolor": "white"
           }
          },
          "shapedefaults": {
           "line": {
            "color": "#2a3f5f"
           }
          },
          "ternary": {
           "aaxis": {
            "gridcolor": "white",
            "linecolor": "white",
            "ticks": ""
           },
           "baxis": {
            "gridcolor": "white",
            "linecolor": "white",
            "ticks": ""
           },
           "bgcolor": "#E5ECF6",
           "caxis": {
            "gridcolor": "white",
            "linecolor": "white",
            "ticks": ""
           }
          },
          "title": {
           "x": 0.05
          },
          "xaxis": {
           "automargin": true,
           "gridcolor": "white",
           "linecolor": "white",
           "ticks": "",
           "title": {
            "standoff": 15
           },
           "zerolinecolor": "white",
           "zerolinewidth": 2
          },
          "yaxis": {
           "automargin": true,
           "gridcolor": "white",
           "linecolor": "white",
           "ticks": "",
           "title": {
            "standoff": 15
           },
           "zerolinecolor": "white",
           "zerolinewidth": 2
          }
         }
        },
        "title": {
         "text": "Zależność: Średnie miejsce vs Winrate traitów (TFT14)",
         "x": 0.5
        },
        "width": 1000,
        "xaxis": {
         "autorange": "reversed",
         "dtick": 0.1,
         "gridcolor": "lightgrey",
         "showgrid": true,
         "tickmode": "linear",
         "title": {
          "text": "Średnie miejsce (im niższe, tym lepiej)"
         }
        },
        "yaxis": {
         "gridcolor": "lightgrey",
         "range": [
          0,
          30
         ],
         "showgrid": true,
         "tickformat": ".0f",
         "title": {
          "text": "Winrate (%)"
         }
        }
       }
      }
     },
     "metadata": {},
     "output_type": "display_data"
    }
   ],
   "source": [
    "\n",
    "sorted_df = final.sort_values(by='avg_placement')\n",
    "\n",
    "fig = go.Figure()\n",
    "\n",
    "fig.add_trace(go.Scatter(\n",
    "    x=sorted_df['avg_placement'],\n",
    "    y=sorted_df['winrate'],\n",
    "    mode='lines+markers',\n",
    "    marker=dict(size=8, color='royalblue'),\n",
    "    line=dict(width=2, color='royalblue'),\n",
    "    name='Traity'\n",
    "))\n",
    "\n",
    "fig.update_layout(\n",
    "    title='Zależność: Średnie miejsce vs Winrate traitów (TFT14)',\n",
    "    title_x=0.5,\n",
    "    xaxis_title='Średnie miejsce (im niższe, tym lepiej)',\n",
    "    yaxis_title='Winrate (%)',\n",
    "    xaxis=dict(autorange='reversed', tickmode='linear', dtick=0.1),\n",
    "    yaxis=dict(range=[0, 30], tickformat=\".0f\"),\n",
    "    height=600,\n",
    "    width=1000,\n",
    "    plot_bgcolor='white',\n",
    "    margin=dict(l=60, r=40, t=80, b=60),\n",
    ")\n",
    "\n",
    "fig.update_xaxes(showgrid=True, gridcolor='lightgrey')\n",
    "fig.update_yaxes(showgrid=True, gridcolor='lightgrey')\n",
    "\n",
    "fig.show()\n"
   ]
  },
  {
   "cell_type": "markdown",
   "id": "e60bd630",
   "metadata": {},
   "source": [
    "Wykres pokazuje wyraźną zależność: traity z niższym średnim placementem (poniżej 4.0) mają zdecydowanie wyższy winrate – sięgający nawet 23%. Większość traitów mieści się w przedziale 4.3–4.6 i osiąga winrate na poziomie 10–15%, co wskazuje na ich mniejszą skuteczność. Korelacja między placementem a winrate’em jest silna – dobre średnie miejsce przekłada się bezpośrednio na większe szanse na wygraną."
   ]
  },
  {
   "cell_type": "code",
   "execution_count": 52,
   "id": "5691f937",
   "metadata": {},
   "outputs": [
    {
     "data": {
      "application/vnd.plotly.v1+json": {
       "config": {
        "plotlyServerURL": "https://plot.ly"
       },
       "data": [
        {
         "marker": {
          "color": "blue",
          "opacity": 0.7,
          "size": 10
         },
         "mode": "markers",
         "name": "Traity",
         "type": "scatter",
         "x": {
          "bdata": "exSuR+F6DkCuR+F6FK4NQI/C9ShcjwxAhetRuB6FD0AAAAAAAAARQI/C9ShcjxFAZmZmZmZmEUC4HoXrUbgRQClcj8L1KBFAexSuR+F6EUBmZmZmZmYRQKRwPQrXoxFAH4XrUbgeEUD2KFyPwvURQM3MzMzMzBFA9ihcj8L1EUAK16NwPQoSQNejcD0K1xFAMzMzMzMzEkAAAAAAAAASQDMzMzMzMxJA16NwPQrXEUApXI/C9SgSQFyPwvUoXBFAPQrXo3A9EkA=",
          "dtype": "f8"
         },
         "y": {
          "bdata": "AAAAAACAN0BmZmZmZmY2QDMzMzMzszVAMzMzMzMzM0AAAAAAAAAtQM3MzMzMzCxAMzMzMzMzLEAAAAAAAAAsQJqZmZmZmStAZmZmZmZmK0AAAAAAAAArQJqZmZmZmSpAmpmZmZmZKkBmZmZmZmYqQAAAAAAAACpAAAAAAAAAKkDNzMzMzMwpQGZmZmZmZilAMzMzMzMzKUAzMzMzMzMpQM3MzMzMzChAMzMzMzMzKEDNzMzMzMwnQDMzMzMzMydAAAAAAAAAJ0A=",
          "dtype": "f8"
         }
        }
       ],
       "layout": {
        "height": 650,
        "shapes": [
         {
          "line": {
           "color": "gray",
           "dash": "dash"
          },
          "type": "line",
          "x0": 4.322,
          "x1": 4.322,
          "y0": 0,
          "y1": 30
         },
         {
          "line": {
           "color": "gray",
           "dash": "dash"
          },
          "type": "line",
          "x0": 3.57,
          "x1": 4.56,
          "y0": 13.5,
          "y1": 13.5
         }
        ],
        "template": {
         "data": {
          "bar": [
           {
            "error_x": {
             "color": "#2a3f5f"
            },
            "error_y": {
             "color": "#2a3f5f"
            },
            "marker": {
             "line": {
              "color": "#E5ECF6",
              "width": 0.5
             },
             "pattern": {
              "fillmode": "overlay",
              "size": 10,
              "solidity": 0.2
             }
            },
            "type": "bar"
           }
          ],
          "barpolar": [
           {
            "marker": {
             "line": {
              "color": "#E5ECF6",
              "width": 0.5
             },
             "pattern": {
              "fillmode": "overlay",
              "size": 10,
              "solidity": 0.2
             }
            },
            "type": "barpolar"
           }
          ],
          "carpet": [
           {
            "aaxis": {
             "endlinecolor": "#2a3f5f",
             "gridcolor": "white",
             "linecolor": "white",
             "minorgridcolor": "white",
             "startlinecolor": "#2a3f5f"
            },
            "baxis": {
             "endlinecolor": "#2a3f5f",
             "gridcolor": "white",
             "linecolor": "white",
             "minorgridcolor": "white",
             "startlinecolor": "#2a3f5f"
            },
            "type": "carpet"
           }
          ],
          "choropleth": [
           {
            "colorbar": {
             "outlinewidth": 0,
             "ticks": ""
            },
            "type": "choropleth"
           }
          ],
          "contour": [
           {
            "colorbar": {
             "outlinewidth": 0,
             "ticks": ""
            },
            "colorscale": [
             [
              0,
              "#0d0887"
             ],
             [
              0.1111111111111111,
              "#46039f"
             ],
             [
              0.2222222222222222,
              "#7201a8"
             ],
             [
              0.3333333333333333,
              "#9c179e"
             ],
             [
              0.4444444444444444,
              "#bd3786"
             ],
             [
              0.5555555555555556,
              "#d8576b"
             ],
             [
              0.6666666666666666,
              "#ed7953"
             ],
             [
              0.7777777777777778,
              "#fb9f3a"
             ],
             [
              0.8888888888888888,
              "#fdca26"
             ],
             [
              1,
              "#f0f921"
             ]
            ],
            "type": "contour"
           }
          ],
          "contourcarpet": [
           {
            "colorbar": {
             "outlinewidth": 0,
             "ticks": ""
            },
            "type": "contourcarpet"
           }
          ],
          "heatmap": [
           {
            "colorbar": {
             "outlinewidth": 0,
             "ticks": ""
            },
            "colorscale": [
             [
              0,
              "#0d0887"
             ],
             [
              0.1111111111111111,
              "#46039f"
             ],
             [
              0.2222222222222222,
              "#7201a8"
             ],
             [
              0.3333333333333333,
              "#9c179e"
             ],
             [
              0.4444444444444444,
              "#bd3786"
             ],
             [
              0.5555555555555556,
              "#d8576b"
             ],
             [
              0.6666666666666666,
              "#ed7953"
             ],
             [
              0.7777777777777778,
              "#fb9f3a"
             ],
             [
              0.8888888888888888,
              "#fdca26"
             ],
             [
              1,
              "#f0f921"
             ]
            ],
            "type": "heatmap"
           }
          ],
          "histogram": [
           {
            "marker": {
             "pattern": {
              "fillmode": "overlay",
              "size": 10,
              "solidity": 0.2
             }
            },
            "type": "histogram"
           }
          ],
          "histogram2d": [
           {
            "colorbar": {
             "outlinewidth": 0,
             "ticks": ""
            },
            "colorscale": [
             [
              0,
              "#0d0887"
             ],
             [
              0.1111111111111111,
              "#46039f"
             ],
             [
              0.2222222222222222,
              "#7201a8"
             ],
             [
              0.3333333333333333,
              "#9c179e"
             ],
             [
              0.4444444444444444,
              "#bd3786"
             ],
             [
              0.5555555555555556,
              "#d8576b"
             ],
             [
              0.6666666666666666,
              "#ed7953"
             ],
             [
              0.7777777777777778,
              "#fb9f3a"
             ],
             [
              0.8888888888888888,
              "#fdca26"
             ],
             [
              1,
              "#f0f921"
             ]
            ],
            "type": "histogram2d"
           }
          ],
          "histogram2dcontour": [
           {
            "colorbar": {
             "outlinewidth": 0,
             "ticks": ""
            },
            "colorscale": [
             [
              0,
              "#0d0887"
             ],
             [
              0.1111111111111111,
              "#46039f"
             ],
             [
              0.2222222222222222,
              "#7201a8"
             ],
             [
              0.3333333333333333,
              "#9c179e"
             ],
             [
              0.4444444444444444,
              "#bd3786"
             ],
             [
              0.5555555555555556,
              "#d8576b"
             ],
             [
              0.6666666666666666,
              "#ed7953"
             ],
             [
              0.7777777777777778,
              "#fb9f3a"
             ],
             [
              0.8888888888888888,
              "#fdca26"
             ],
             [
              1,
              "#f0f921"
             ]
            ],
            "type": "histogram2dcontour"
           }
          ],
          "mesh3d": [
           {
            "colorbar": {
             "outlinewidth": 0,
             "ticks": ""
            },
            "type": "mesh3d"
           }
          ],
          "parcoords": [
           {
            "line": {
             "colorbar": {
              "outlinewidth": 0,
              "ticks": ""
             }
            },
            "type": "parcoords"
           }
          ],
          "pie": [
           {
            "automargin": true,
            "type": "pie"
           }
          ],
          "scatter": [
           {
            "fillpattern": {
             "fillmode": "overlay",
             "size": 10,
             "solidity": 0.2
            },
            "type": "scatter"
           }
          ],
          "scatter3d": [
           {
            "line": {
             "colorbar": {
              "outlinewidth": 0,
              "ticks": ""
             }
            },
            "marker": {
             "colorbar": {
              "outlinewidth": 0,
              "ticks": ""
             }
            },
            "type": "scatter3d"
           }
          ],
          "scattercarpet": [
           {
            "marker": {
             "colorbar": {
              "outlinewidth": 0,
              "ticks": ""
             }
            },
            "type": "scattercarpet"
           }
          ],
          "scattergeo": [
           {
            "marker": {
             "colorbar": {
              "outlinewidth": 0,
              "ticks": ""
             }
            },
            "type": "scattergeo"
           }
          ],
          "scattergl": [
           {
            "marker": {
             "colorbar": {
              "outlinewidth": 0,
              "ticks": ""
             }
            },
            "type": "scattergl"
           }
          ],
          "scattermap": [
           {
            "marker": {
             "colorbar": {
              "outlinewidth": 0,
              "ticks": ""
             }
            },
            "type": "scattermap"
           }
          ],
          "scattermapbox": [
           {
            "marker": {
             "colorbar": {
              "outlinewidth": 0,
              "ticks": ""
             }
            },
            "type": "scattermapbox"
           }
          ],
          "scatterpolar": [
           {
            "marker": {
             "colorbar": {
              "outlinewidth": 0,
              "ticks": ""
             }
            },
            "type": "scatterpolar"
           }
          ],
          "scatterpolargl": [
           {
            "marker": {
             "colorbar": {
              "outlinewidth": 0,
              "ticks": ""
             }
            },
            "type": "scatterpolargl"
           }
          ],
          "scatterternary": [
           {
            "marker": {
             "colorbar": {
              "outlinewidth": 0,
              "ticks": ""
             }
            },
            "type": "scatterternary"
           }
          ],
          "surface": [
           {
            "colorbar": {
             "outlinewidth": 0,
             "ticks": ""
            },
            "colorscale": [
             [
              0,
              "#0d0887"
             ],
             [
              0.1111111111111111,
              "#46039f"
             ],
             [
              0.2222222222222222,
              "#7201a8"
             ],
             [
              0.3333333333333333,
              "#9c179e"
             ],
             [
              0.4444444444444444,
              "#bd3786"
             ],
             [
              0.5555555555555556,
              "#d8576b"
             ],
             [
              0.6666666666666666,
              "#ed7953"
             ],
             [
              0.7777777777777778,
              "#fb9f3a"
             ],
             [
              0.8888888888888888,
              "#fdca26"
             ],
             [
              1,
              "#f0f921"
             ]
            ],
            "type": "surface"
           }
          ],
          "table": [
           {
            "cells": {
             "fill": {
              "color": "#EBF0F8"
             },
             "line": {
              "color": "white"
             }
            },
            "header": {
             "fill": {
              "color": "#C8D4E3"
             },
             "line": {
              "color": "white"
             }
            },
            "type": "table"
           }
          ]
         },
         "layout": {
          "annotationdefaults": {
           "arrowcolor": "#2a3f5f",
           "arrowhead": 0,
           "arrowwidth": 1
          },
          "autotypenumbers": "strict",
          "coloraxis": {
           "colorbar": {
            "outlinewidth": 0,
            "ticks": ""
           }
          },
          "colorscale": {
           "diverging": [
            [
             0,
             "#8e0152"
            ],
            [
             0.1,
             "#c51b7d"
            ],
            [
             0.2,
             "#de77ae"
            ],
            [
             0.3,
             "#f1b6da"
            ],
            [
             0.4,
             "#fde0ef"
            ],
            [
             0.5,
             "#f7f7f7"
            ],
            [
             0.6,
             "#e6f5d0"
            ],
            [
             0.7,
             "#b8e186"
            ],
            [
             0.8,
             "#7fbc41"
            ],
            [
             0.9,
             "#4d9221"
            ],
            [
             1,
             "#276419"
            ]
           ],
           "sequential": [
            [
             0,
             "#0d0887"
            ],
            [
             0.1111111111111111,
             "#46039f"
            ],
            [
             0.2222222222222222,
             "#7201a8"
            ],
            [
             0.3333333333333333,
             "#9c179e"
            ],
            [
             0.4444444444444444,
             "#bd3786"
            ],
            [
             0.5555555555555556,
             "#d8576b"
            ],
            [
             0.6666666666666666,
             "#ed7953"
            ],
            [
             0.7777777777777778,
             "#fb9f3a"
            ],
            [
             0.8888888888888888,
             "#fdca26"
            ],
            [
             1,
             "#f0f921"
            ]
           ],
           "sequentialminus": [
            [
             0,
             "#0d0887"
            ],
            [
             0.1111111111111111,
             "#46039f"
            ],
            [
             0.2222222222222222,
             "#7201a8"
            ],
            [
             0.3333333333333333,
             "#9c179e"
            ],
            [
             0.4444444444444444,
             "#bd3786"
            ],
            [
             0.5555555555555556,
             "#d8576b"
            ],
            [
             0.6666666666666666,
             "#ed7953"
            ],
            [
             0.7777777777777778,
             "#fb9f3a"
            ],
            [
             0.8888888888888888,
             "#fdca26"
            ],
            [
             1,
             "#f0f921"
            ]
           ]
          },
          "colorway": [
           "#636efa",
           "#EF553B",
           "#00cc96",
           "#ab63fa",
           "#FFA15A",
           "#19d3f3",
           "#FF6692",
           "#B6E880",
           "#FF97FF",
           "#FECB52"
          ],
          "font": {
           "color": "#2a3f5f"
          },
          "geo": {
           "bgcolor": "white",
           "lakecolor": "white",
           "landcolor": "#E5ECF6",
           "showlakes": true,
           "showland": true,
           "subunitcolor": "white"
          },
          "hoverlabel": {
           "align": "left"
          },
          "hovermode": "closest",
          "mapbox": {
           "style": "light"
          },
          "paper_bgcolor": "white",
          "plot_bgcolor": "#E5ECF6",
          "polar": {
           "angularaxis": {
            "gridcolor": "white",
            "linecolor": "white",
            "ticks": ""
           },
           "bgcolor": "#E5ECF6",
           "radialaxis": {
            "gridcolor": "white",
            "linecolor": "white",
            "ticks": ""
           }
          },
          "scene": {
           "xaxis": {
            "backgroundcolor": "#E5ECF6",
            "gridcolor": "white",
            "gridwidth": 2,
            "linecolor": "white",
            "showbackground": true,
            "ticks": "",
            "zerolinecolor": "white"
           },
           "yaxis": {
            "backgroundcolor": "#E5ECF6",
            "gridcolor": "white",
            "gridwidth": 2,
            "linecolor": "white",
            "showbackground": true,
            "ticks": "",
            "zerolinecolor": "white"
           },
           "zaxis": {
            "backgroundcolor": "#E5ECF6",
            "gridcolor": "white",
            "gridwidth": 2,
            "linecolor": "white",
            "showbackground": true,
            "ticks": "",
            "zerolinecolor": "white"
           }
          },
          "shapedefaults": {
           "line": {
            "color": "#2a3f5f"
           }
          },
          "ternary": {
           "aaxis": {
            "gridcolor": "white",
            "linecolor": "white",
            "ticks": ""
           },
           "baxis": {
            "gridcolor": "white",
            "linecolor": "white",
            "ticks": ""
           },
           "bgcolor": "#E5ECF6",
           "caxis": {
            "gridcolor": "white",
            "linecolor": "white",
            "ticks": ""
           }
          },
          "title": {
           "x": 0.05
          },
          "xaxis": {
           "automargin": true,
           "gridcolor": "white",
           "linecolor": "white",
           "ticks": "",
           "title": {
            "standoff": 15
           },
           "zerolinecolor": "white",
           "zerolinewidth": 2
          },
          "yaxis": {
           "automargin": true,
           "gridcolor": "white",
           "linecolor": "white",
           "ticks": "",
           "title": {
            "standoff": 15
           },
           "zerolinecolor": "white",
           "zerolinewidth": 2
          }
         }
        },
        "title": {
         "text": "Średnie miejsce vs Winrate traitów – linie podziału"
        },
        "xaxis": {
         "autorange": "reversed",
         "title": {
          "text": "Średnie miejsce (niżej = lepiej)"
         }
        },
        "yaxis": {
         "range": [
          0,
          30
         ],
         "title": {
          "text": "Winrate (%)"
         }
        }
       }
      }
     },
     "metadata": {},
     "output_type": "display_data"
    }
   ],
   "source": [
    "import plotly.graph_objects as go\n",
    "\n",
    "cutoff_winrate = 13.5\n",
    "cutoff_avg_place = final['avg_placement'].mean()\n",
    "\n",
    "fig = go.Figure()\n",
    "\n",
    "fig.add_trace(go.Scatter(\n",
    "    x=final['avg_placement'],\n",
    "    y=final['winrate'],\n",
    "    mode='markers',\n",
    "    marker=dict(size=10, color='blue', opacity=0.7),\n",
    "    name='Traity'\n",
    "))\n",
    "\n",
    "fig.add_shape(type='line', x0=cutoff_avg_place, x1=cutoff_avg_place, y0=0, y1=30,\n",
    "              line=dict(color='gray', dash='dash'))\n",
    "fig.add_shape(type='line', x0=final['avg_placement'].min(), x1=final['avg_placement'].max(),\n",
    "              y0=cutoff_winrate, y1=cutoff_winrate, line=dict(color='gray', dash='dash'))\n",
    "\n",
    "fig.update_layout(\n",
    "    title='Średnie miejsce vs Winrate traitów – linie podziału',\n",
    "    xaxis_title='Średnie miejsce (niżej = lepiej)',\n",
    "    yaxis_title='Winrate (%)',\n",
    "    xaxis=dict(autorange='reversed'),\n",
    "    yaxis=dict(range=[0, 30]),\n",
    "    height=650\n",
    ")\n",
    "\n",
    "fig.show()\n"
   ]
  },
  {
   "cell_type": "code",
   "execution_count": 53,
   "id": "d8d2bf2f",
   "metadata": {},
   "outputs": [
    {
     "data": {
      "text/html": [
       "<div>\n",
       "<style scoped>\n",
       "    .dataframe tbody tr th:only-of-type {\n",
       "        vertical-align: middle;\n",
       "    }\n",
       "\n",
       "    .dataframe tbody tr th {\n",
       "        vertical-align: top;\n",
       "    }\n",
       "\n",
       "    .dataframe thead th {\n",
       "        text-align: right;\n",
       "    }\n",
       "</style>\n",
       "<table border=\"1\" class=\"dataframe\">\n",
       "  <thead>\n",
       "    <tr style=\"text-align: right;\">\n",
       "      <th></th>\n",
       "      <th>trait_name</th>\n",
       "      <th>quadrant</th>\n",
       "    </tr>\n",
       "  </thead>\n",
       "  <tbody>\n",
       "    <tr>\n",
       "      <th>0</th>\n",
       "      <td>TFT14_AnimaSquad</td>\n",
       "      <td>Eksplozywny/luck-based</td>\n",
       "    </tr>\n",
       "    <tr>\n",
       "      <th>1</th>\n",
       "      <td>TFT14_Cutter</td>\n",
       "      <td>Eksplozywny/luck-based</td>\n",
       "    </tr>\n",
       "    <tr>\n",
       "      <th>2</th>\n",
       "      <td>TFT14_Cyberboss</td>\n",
       "      <td>Eksplozywny/luck-based</td>\n",
       "    </tr>\n",
       "    <tr>\n",
       "      <th>3</th>\n",
       "      <td>TFT14_Supercharge</td>\n",
       "      <td>Eksplozywny/luck-based</td>\n",
       "    </tr>\n",
       "    <tr>\n",
       "      <th>4</th>\n",
       "      <td>TFT14_Vanguard</td>\n",
       "      <td>Eksplozywny/luck-based</td>\n",
       "    </tr>\n",
       "    <tr>\n",
       "      <th>5</th>\n",
       "      <td>TFT14_Divinicorp</td>\n",
       "      <td>OP/meta</td>\n",
       "    </tr>\n",
       "    <tr>\n",
       "      <th>6</th>\n",
       "      <td>TFT14_Immortal</td>\n",
       "      <td>OP/meta</td>\n",
       "    </tr>\n",
       "    <tr>\n",
       "      <th>7</th>\n",
       "      <td>TFT14_Netgod</td>\n",
       "      <td>OP/meta</td>\n",
       "    </tr>\n",
       "    <tr>\n",
       "      <th>8</th>\n",
       "      <td>TFT14_Overlord</td>\n",
       "      <td>OP/meta</td>\n",
       "    </tr>\n",
       "    <tr>\n",
       "      <th>9</th>\n",
       "      <td>TFT14_ViegoUniqueTrait</td>\n",
       "      <td>OP/meta</td>\n",
       "    </tr>\n",
       "    <tr>\n",
       "      <th>10</th>\n",
       "      <td>TFT14_Virus</td>\n",
       "      <td>OP/meta</td>\n",
       "    </tr>\n",
       "    <tr>\n",
       "      <th>11</th>\n",
       "      <td>TFT14_Armorclad</td>\n",
       "      <td>Pułapka/trap</td>\n",
       "    </tr>\n",
       "    <tr>\n",
       "      <th>12</th>\n",
       "      <td>TFT14_BallisTek</td>\n",
       "      <td>Pułapka/trap</td>\n",
       "    </tr>\n",
       "    <tr>\n",
       "      <th>13</th>\n",
       "      <td>TFT14_Bruiser</td>\n",
       "      <td>Pułapka/trap</td>\n",
       "    </tr>\n",
       "    <tr>\n",
       "      <th>14</th>\n",
       "      <td>TFT14_Controller</td>\n",
       "      <td>Pułapka/trap</td>\n",
       "    </tr>\n",
       "    <tr>\n",
       "      <th>15</th>\n",
       "      <td>TFT14_EdgeRunner</td>\n",
       "      <td>Pułapka/trap</td>\n",
       "    </tr>\n",
       "    <tr>\n",
       "      <th>16</th>\n",
       "      <td>TFT14_HotRod</td>\n",
       "      <td>Pułapka/trap</td>\n",
       "    </tr>\n",
       "    <tr>\n",
       "      <th>17</th>\n",
       "      <td>TFT14_Marksman</td>\n",
       "      <td>Pułapka/trap</td>\n",
       "    </tr>\n",
       "    <tr>\n",
       "      <th>18</th>\n",
       "      <td>TFT14_Mob</td>\n",
       "      <td>Pułapka/trap</td>\n",
       "    </tr>\n",
       "    <tr>\n",
       "      <th>19</th>\n",
       "      <td>TFT14_StreetDemon</td>\n",
       "      <td>Pułapka/trap</td>\n",
       "    </tr>\n",
       "    <tr>\n",
       "      <th>20</th>\n",
       "      <td>TFT14_Strong</td>\n",
       "      <td>Pułapka/trap</td>\n",
       "    </tr>\n",
       "    <tr>\n",
       "      <th>21</th>\n",
       "      <td>TFT14_Suits</td>\n",
       "      <td>Pułapka/trap</td>\n",
       "    </tr>\n",
       "    <tr>\n",
       "      <th>22</th>\n",
       "      <td>TFT14_Swift</td>\n",
       "      <td>Pułapka/trap</td>\n",
       "    </tr>\n",
       "    <tr>\n",
       "      <th>23</th>\n",
       "      <td>TFT14_Techie</td>\n",
       "      <td>Pułapka/trap</td>\n",
       "    </tr>\n",
       "    <tr>\n",
       "      <th>24</th>\n",
       "      <td>TFT14_Thirsty</td>\n",
       "      <td>Stabilny/support</td>\n",
       "    </tr>\n",
       "  </tbody>\n",
       "</table>\n",
       "</div>"
      ],
      "text/plain": [
       "                trait_name                quadrant\n",
       "0         TFT14_AnimaSquad  Eksplozywny/luck-based\n",
       "1             TFT14_Cutter  Eksplozywny/luck-based\n",
       "2          TFT14_Cyberboss  Eksplozywny/luck-based\n",
       "3        TFT14_Supercharge  Eksplozywny/luck-based\n",
       "4           TFT14_Vanguard  Eksplozywny/luck-based\n",
       "5         TFT14_Divinicorp                 OP/meta\n",
       "6           TFT14_Immortal                 OP/meta\n",
       "7             TFT14_Netgod                 OP/meta\n",
       "8           TFT14_Overlord                 OP/meta\n",
       "9   TFT14_ViegoUniqueTrait                 OP/meta\n",
       "10             TFT14_Virus                 OP/meta\n",
       "11         TFT14_Armorclad            Pułapka/trap\n",
       "12         TFT14_BallisTek            Pułapka/trap\n",
       "13           TFT14_Bruiser            Pułapka/trap\n",
       "14        TFT14_Controller            Pułapka/trap\n",
       "15        TFT14_EdgeRunner            Pułapka/trap\n",
       "16            TFT14_HotRod            Pułapka/trap\n",
       "17          TFT14_Marksman            Pułapka/trap\n",
       "18               TFT14_Mob            Pułapka/trap\n",
       "19       TFT14_StreetDemon            Pułapka/trap\n",
       "20            TFT14_Strong            Pułapka/trap\n",
       "21             TFT14_Suits            Pułapka/trap\n",
       "22             TFT14_Swift            Pułapka/trap\n",
       "23            TFT14_Techie            Pułapka/trap\n",
       "24           TFT14_Thirsty        Stabilny/support"
      ]
     },
     "metadata": {},
     "output_type": "display_data"
    }
   ],
   "source": [
    "\n",
    "cutoff_winrate = 13.5\n",
    "cutoff_avg_place = final['avg_placement'].mean()\n",
    "\n",
    "def classify_trait(row):\n",
    "    if row['avg_placement'] <= cutoff_avg_place and row['winrate'] >= cutoff_winrate:\n",
    "        return 'OP/meta'\n",
    "    elif row['avg_placement'] <= cutoff_avg_place and row['winrate'] < cutoff_winrate:\n",
    "        return 'Stabilny/support'\n",
    "    elif row['avg_placement'] > cutoff_avg_place and row['winrate'] >= cutoff_winrate:\n",
    "        return 'Eksplozywny/luck-based'\n",
    "    else:\n",
    "        return 'Pułapka/trap'\n",
    "\n",
    "final['quadrant'] = final.apply(classify_trait, axis=1)\n",
    "\n",
    "summary_simple = final[['trait_name', 'quadrant']].sort_values(by=['quadrant', 'trait_name']).reset_index(drop=True)\n",
    "\n",
    "from IPython.display import display\n",
    "display(summary_simple)\n"
   ]
  },
  {
   "cell_type": "markdown",
   "id": "a1b6c00c",
   "metadata": {},
   "source": [
    "Wykres dzieli traity na cztery ćwiartki na podstawie średniego miejsca i winrate’u. W prawym górnym rogu znajdują się traity OP/meta, które dają zarówno niskie placementy, jak i wysoki winrate (np. Virus, Viego, Overlord). Lewy dolny róg to traity supportowe lub neutralne, które są często używane, ale nie poprawiają wyników ani nie prowadzą do wygranych. Pozostałe ćwiartki — trap (wysoki winrate, ale słabe miejsce) i eksplozywne/luck-based (niskie miejsce, ale rzadko 1. miejsce)"
   ]
  },
  {
   "cell_type": "code",
   "execution_count": 54,
   "id": "54547acb",
   "metadata": {},
   "outputs": [
    {
     "name": "stderr",
     "output_type": "stream",
     "text": [
      "/tmp/ipykernel_8307/86489273.py:11: FutureWarning:\n",
      "\n",
      "DataFrame.applymap has been deprecated. Use DataFrame.map instead.\n",
      "\n"
     ]
    },
    {
     "data": {
      "image/png": "[encoded data removed]",
      "text/plain": [
       "<Figure size 1008x864 with 2 Axes>"
      ]
     },
     "metadata": {
      "needs_background": "light"
     },
     "output_type": "display_data"
    }
   ],
   "source": [
    "\n",
    "active_traits = df[df['num_units'] > 0]\n",
    "\n",
    "pivot = active_traits.pivot_table(\n",
    "    index=['match_id', 'puuid'],\n",
    "    columns='trait_name',\n",
    "    values='num_units',\n",
    "    aggfunc='size',\n",
    "    fill_value=0\n",
    ")\n",
    "\n",
    "pivot = pivot.applymap(lambda x: 1 if x > 0 else 0)\n",
    "co_occurrence = pivot.T.dot(pivot)\n",
    "plt.figure(figsize=(14, 12))\n",
    "sns.heatmap(co_occurrence, cmap=\"Blues\", linewidths=0.5, linecolor='gray', annot=True, fmt='d')\n",
    "plt.title(\"Współwystępowanie traitów u graczy\", fontsize=16)\n",
    "plt.xticks(rotation=45, ha='right')\n",
    "plt.yticks(rotation=0)\n",
    "plt.tight_layout()\n",
    "plt.show()"
   ]
  },
  {
   "cell_type": "markdown",
   "id": "1651577d",
   "metadata": {},
   "source": [
    "Heatmapa przedstawia współwystępowanie traitów u graczy — im ciemniejsze pole, tym częściej dana para traitów pojawiała się razem w jednej kompozycji. Najczęstsze kombinacje dotyczą traitów takich jak Strong, Overlord, Marksman i Immortal, co wskazuje na ich dużą elastyczność i popularność w budowaniu synergii."
   ]
  },
  {
   "cell_type": "code",
   "execution_count": 55,
   "id": "023b7b7d",
   "metadata": {},
   "outputs": [
    {
     "data": {
      "text/html": [
       "<div>\n",
       "<style scoped>\n",
       "    .dataframe tbody tr th:only-of-type {\n",
       "        vertical-align: middle;\n",
       "    }\n",
       "\n",
       "    .dataframe tbody tr th {\n",
       "        vertical-align: top;\n",
       "    }\n",
       "\n",
       "    .dataframe thead th {\n",
       "        text-align: right;\n",
       "    }\n",
       "</style>\n",
       "<table border=\"1\" class=\"dataframe\">\n",
       "  <thead>\n",
       "    <tr style=\"text-align: right;\">\n",
       "      <th></th>\n",
       "      <th>trait_1</th>\n",
       "      <th>trait_2</th>\n",
       "      <th>count</th>\n",
       "    </tr>\n",
       "  </thead>\n",
       "  <tbody>\n",
       "    <tr>\n",
       "      <th>85</th>\n",
       "      <td>TFT14_Bruiser</td>\n",
       "      <td>TFT14_Techie</td>\n",
       "      <td>1141.0</td>\n",
       "    </tr>\n",
       "    <tr>\n",
       "      <th>269</th>\n",
       "      <td>TFT14_Strong</td>\n",
       "      <td>TFT14_Vanguard</td>\n",
       "      <td>1097.0</td>\n",
       "    </tr>\n",
       "    <tr>\n",
       "      <th>175</th>\n",
       "      <td>TFT14_EdgeRunner</td>\n",
       "      <td>TFT14_Techie</td>\n",
       "      <td>1072.0</td>\n",
       "    </tr>\n",
       "    <tr>\n",
       "      <th>30</th>\n",
       "      <td>TFT14_Armorclad</td>\n",
       "      <td>TFT14_EdgeRunner</td>\n",
       "      <td>1030.0</td>\n",
       "    </tr>\n",
       "    <tr>\n",
       "      <th>42</th>\n",
       "      <td>TFT14_Armorclad</td>\n",
       "      <td>TFT14_Techie</td>\n",
       "      <td>1020.0</td>\n",
       "    </tr>\n",
       "    <tr>\n",
       "      <th>81</th>\n",
       "      <td>TFT14_Bruiser</td>\n",
       "      <td>TFT14_Strong</td>\n",
       "      <td>996.0</td>\n",
       "    </tr>\n",
       "    <tr>\n",
       "      <th>217</th>\n",
       "      <td>TFT14_Marksman</td>\n",
       "      <td>TFT14_Techie</td>\n",
       "      <td>949.0</td>\n",
       "    </tr>\n",
       "    <tr>\n",
       "      <th>161</th>\n",
       "      <td>TFT14_Divinicorp</td>\n",
       "      <td>TFT14_Vanguard</td>\n",
       "      <td>945.0</td>\n",
       "    </tr>\n",
       "    <tr>\n",
       "      <th>72</th>\n",
       "      <td>TFT14_Bruiser</td>\n",
       "      <td>TFT14_Divinicorp</td>\n",
       "      <td>927.0</td>\n",
       "    </tr>\n",
       "    <tr>\n",
       "      <th>73</th>\n",
       "      <td>TFT14_Bruiser</td>\n",
       "      <td>TFT14_EdgeRunner</td>\n",
       "      <td>903.0</td>\n",
       "    </tr>\n",
       "    <tr>\n",
       "      <th>43</th>\n",
       "      <td>TFT14_Armorclad</td>\n",
       "      <td>TFT14_Thirsty</td>\n",
       "      <td>903.0</td>\n",
       "    </tr>\n",
       "    <tr>\n",
       "      <th>87</th>\n",
       "      <td>TFT14_Bruiser</td>\n",
       "      <td>TFT14_Vanguard</td>\n",
       "      <td>896.0</td>\n",
       "    </tr>\n",
       "    <tr>\n",
       "      <th>218</th>\n",
       "      <td>TFT14_Marksman</td>\n",
       "      <td>TFT14_Thirsty</td>\n",
       "      <td>893.0</td>\n",
       "    </tr>\n",
       "    <tr>\n",
       "      <th>166</th>\n",
       "      <td>TFT14_EdgeRunner</td>\n",
       "      <td>TFT14_Marksman</td>\n",
       "      <td>887.0</td>\n",
       "    </tr>\n",
       "    <tr>\n",
       "      <th>21</th>\n",
       "      <td>TFT14_AnimaSquad</td>\n",
       "      <td>TFT14_Vanguard</td>\n",
       "      <td>868.0</td>\n",
       "    </tr>\n",
       "    <tr>\n",
       "      <th>155</th>\n",
       "      <td>TFT14_Divinicorp</td>\n",
       "      <td>TFT14_Strong</td>\n",
       "      <td>863.0</td>\n",
       "    </tr>\n",
       "    <tr>\n",
       "      <th>176</th>\n",
       "      <td>TFT14_EdgeRunner</td>\n",
       "      <td>TFT14_Thirsty</td>\n",
       "      <td>861.0</td>\n",
       "    </tr>\n",
       "    <tr>\n",
       "      <th>7</th>\n",
       "      <td>TFT14_AnimaSquad</td>\n",
       "      <td>TFT14_EdgeRunner</td>\n",
       "      <td>858.0</td>\n",
       "    </tr>\n",
       "    <tr>\n",
       "      <th>33</th>\n",
       "      <td>TFT14_Armorclad</td>\n",
       "      <td>TFT14_Marksman</td>\n",
       "      <td>835.0</td>\n",
       "    </tr>\n",
       "    <tr>\n",
       "      <th>80</th>\n",
       "      <td>TFT14_Bruiser</td>\n",
       "      <td>TFT14_StreetDemon</td>\n",
       "      <td>833.0</td>\n",
       "    </tr>\n",
       "  </tbody>\n",
       "</table>\n",
       "</div>"
      ],
      "text/plain": [
       "              trait_1            trait_2   count\n",
       "85      TFT14_Bruiser       TFT14_Techie  1141.0\n",
       "269      TFT14_Strong     TFT14_Vanguard  1097.0\n",
       "175  TFT14_EdgeRunner       TFT14_Techie  1072.0\n",
       "30    TFT14_Armorclad   TFT14_EdgeRunner  1030.0\n",
       "42    TFT14_Armorclad       TFT14_Techie  1020.0\n",
       "81      TFT14_Bruiser       TFT14_Strong   996.0\n",
       "217    TFT14_Marksman       TFT14_Techie   949.0\n",
       "161  TFT14_Divinicorp     TFT14_Vanguard   945.0\n",
       "72      TFT14_Bruiser   TFT14_Divinicorp   927.0\n",
       "73      TFT14_Bruiser   TFT14_EdgeRunner   903.0\n",
       "43    TFT14_Armorclad      TFT14_Thirsty   903.0\n",
       "87      TFT14_Bruiser     TFT14_Vanguard   896.0\n",
       "218    TFT14_Marksman      TFT14_Thirsty   893.0\n",
       "166  TFT14_EdgeRunner     TFT14_Marksman   887.0\n",
       "21   TFT14_AnimaSquad     TFT14_Vanguard   868.0\n",
       "155  TFT14_Divinicorp       TFT14_Strong   863.0\n",
       "176  TFT14_EdgeRunner      TFT14_Thirsty   861.0\n",
       "7    TFT14_AnimaSquad   TFT14_EdgeRunner   858.0\n",
       "33    TFT14_Armorclad     TFT14_Marksman   835.0\n",
       "80      TFT14_Bruiser  TFT14_StreetDemon   833.0"
      ]
     },
     "metadata": {},
     "output_type": "display_data"
    }
   ],
   "source": [
    "\n",
    "co_occurrence.index.name = None\n",
    "co_occurrence.columns.name = None\n",
    "\n",
    "mask = ~np.tril(np.ones(co_occurrence.shape)).astype(bool)\n",
    "co_occurrence_upper = co_occurrence.where(mask)\n",
    "\n",
    "co_occurrence_unstacked = co_occurrence_upper.stack().reset_index()\n",
    "co_occurrence_unstacked.columns = ['trait_1', 'trait_2', 'count']\n",
    "\n",
    "top_pairs = co_occurrence_unstacked.sort_values(by='count', ascending=False).head(20)\n",
    "display(top_pairs)\n",
    "\n",
    "\n"
   ]
  },
  {
   "cell_type": "code",
   "execution_count": 56,
   "id": "4584b79d",
   "metadata": {},
   "outputs": [
    {
     "data": {
      "image/png": "[encoded data removed]",
      "text/plain": [
       "<Figure size 576x432 with 1 Axes>"
      ]
     },
     "metadata": {},
     "output_type": "display_data"
    }
   ],
   "source": [
    "G = nx.Graph()\n",
    "\n",
    "for _, row in top_pairs.iterrows():\n",
    "    G.add_edge(row['trait_1'], row['trait_2'], weight=row['count'])\n",
    "\n",
    "pos = nx.spring_layout(G, k=1.5, seed=42)\n",
    "node_sizes = [300 + G.degree(n) * 20 for n in G.nodes()]\n",
    "node_colors = range(len(G.nodes()))\n",
    "\n",
    "fig, ax = plt.subplots(figsize=(8, 6))\n",
    "ax.set_facecolor('#f7f7f7')\n",
    "\n",
    "ax.grid(True, linestyle='--', linewidth=0.3, color='lightgray', zorder=0)\n",
    "\n",
    "nx.draw_networkx_edges(G, pos, ax=ax, alpha=0.3, edge_color='gray')\n",
    "nx.draw_networkx_nodes(G, pos, ax=ax, node_size=node_sizes, node_color=node_colors, cmap=plt.cm.Blues)\n",
    "nx.draw_networkx_labels(G, pos, ax=ax, font_size=9, font_weight='bold')\n",
    "\n",
    "plt.title(\"Połączenia najczęstszych traitów\", fontsize=14, pad=15)\n",
    "plt.axis('off')\n",
    "plt.tight_layout()\n",
    "plt.show()\n"
   ]
  },
  {
   "cell_type": "markdown",
   "id": "059dbae8",
   "metadata": {},
   "source": [
    "Graf pokazuje, które traity najczęściej występują razem w kompozycjach. Bruiser pełni rolę centralnego węzła, łącząc wiele traitów w różnych kombinacjach. Po prawej widoczna jest gęsta sieć powiązań między Thirsty, Marksman, Techie i Armorclad, co wskazuje na popularną grupę synergii. StreetDemon pozostaje odizolowany, co sugeruje jego rzadsze i niezależne użycie."
   ]
  }
 ],
 "metadata": {
  "kernelspec": {
   "display_name": "Python 3",
   "language": "python",
   "name": "python3"
  },
  "language_info": {
   "codemirror_mode": {
    "name": "ipython",
    "version": 3
   },
   "file_extension": ".py",
   "mimetype": "text/x-python",
   "name": "python",
   "nbconvert_exporter": "python",
   "pygments_lexer": "ipython3",
   "version": "3.10.12"
  }
 },
 "nbformat": 4,
 "nbformat_minor": 5
}
